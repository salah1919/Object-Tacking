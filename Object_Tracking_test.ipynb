{
  "cells": [
    {
      "cell_type": "code",
      "execution_count": null,
      "metadata": {
        "colab": {
          "base_uri": "https://localhost:8080/"
        },
        "id": "1mKtH0vVRPM7",
        "outputId": "f1676355-f448-4b99-f00b-0075d7ddb4b1"
      },
      "outputs": [
        {
          "output_type": "stream",
          "name": "stdout",
          "text": [
            "fatal: destination path 'yolov10' already exists and is not an empty directory.\n"
          ]
        }
      ],
      "source": [
        "!git clone https://github.com/THU-MIG/yolov10.git"
      ]
    },
    {
      "cell_type": "code",
      "execution_count": null,
      "metadata": {
        "colab": {
          "base_uri": "https://localhost:8080/"
        },
        "id": "q62zl-1oQmvW",
        "outputId": "5e21648f-2240-4d47-ae11-d491737d499a"
      },
      "outputs": [
        {
          "output_type": "stream",
          "name": "stdout",
          "text": [
            "sample_data\n"
          ]
        }
      ],
      "source": [
        "!ls"
      ]
    },
    {
      "cell_type": "code",
      "execution_count": null,
      "metadata": {
        "colab": {
          "base_uri": "https://localhost:8080/"
        },
        "id": "xj0pybBKQulc",
        "outputId": "1d2bcf60-3daa-4959-b8ed-805c14509f56"
      },
      "outputs": [
        {
          "output_type": "stream",
          "name": "stdout",
          "text": [
            "/content/Object-Tracking-YOLOv10-DeepSORT/yolov10\n"
          ]
        }
      ],
      "source": [
        "%cd yolov10"
      ]
    },
    {
      "cell_type": "code",
      "execution_count": null,
      "metadata": {
        "colab": {
          "base_uri": "https://localhost:8080/"
        },
        "id": "fWgSDlc2RIib",
        "outputId": "4152b598-3fb8-4ca6-d9e0-f5fcdb89cd0e"
      },
      "outputs": [
        {
          "output_type": "stream",
          "name": "stdout",
          "text": [
            "/content/Object-Tracking-YOLOv10-DeepSORT/yolov10\n"
          ]
        }
      ],
      "source": [
        "!pwd"
      ]
    },
    {
      "cell_type": "code",
      "execution_count": null,
      "metadata": {
        "colab": {
          "base_uri": "https://localhost:8080/"
        },
        "id": "98NF3kXdRON7",
        "outputId": "c7dcc095-0a47-4265-c649-d0f099012edb"
      },
      "outputs": [
        {
          "output_type": "stream",
          "name": "stdout",
          "text": [
            "pyvenv.cfg  README.md  Resources  Scripts  share  weights  yolov10\n"
          ]
        }
      ],
      "source": [
        "!ls"
      ]
    },
    {
      "cell_type": "code",
      "execution_count": null,
      "metadata": {
        "colab": {
          "base_uri": "https://localhost:8080/"
        },
        "id": "LJzw3wN3RfwC",
        "outputId": "8a5875e8-02a7-4f64-f9ea-1809ce119075"
      },
      "outputs": [
        {
          "output_type": "stream",
          "name": "stdout",
          "text": [
            "/content/Object-Tracking-YOLOv10-DeepSORT/yolov10\n"
          ]
        }
      ],
      "source": [
        "%cd yolov10"
      ]
    },
    {
      "cell_type": "code",
      "execution_count": null,
      "metadata": {
        "colab": {
          "base_uri": "https://localhost:8080/"
        },
        "id": "V1ZtuX9AR5sK",
        "outputId": "a165066e-8619-42e7-d915-90a38c802910"
      },
      "outputs": [
        {
          "output_type": "stream",
          "name": "stdout",
          "text": [
            "Requirement already satisfied: torch==2.0.1 in /usr/local/lib/python3.10/dist-packages (from -r requirements.txt (line 1)) (2.0.1)\n",
            "Requirement already satisfied: torchvision==0.15.2 in /usr/local/lib/python3.10/dist-packages (from -r requirements.txt (line 2)) (0.15.2)\n",
            "Requirement already satisfied: onnx==1.14.0 in /usr/local/lib/python3.10/dist-packages (from -r requirements.txt (line 3)) (1.14.0)\n",
            "Requirement already satisfied: onnxruntime==1.15.1 in /usr/local/lib/python3.10/dist-packages (from -r requirements.txt (line 4)) (1.15.1)\n",
            "Requirement already satisfied: pycocotools==2.0.7 in /usr/local/lib/python3.10/dist-packages (from -r requirements.txt (line 5)) (2.0.7)\n",
            "Requirement already satisfied: PyYAML==6.0.1 in /usr/local/lib/python3.10/dist-packages (from -r requirements.txt (line 6)) (6.0.1)\n",
            "Requirement already satisfied: scipy==1.13.0 in /usr/local/lib/python3.10/dist-packages (from -r requirements.txt (line 7)) (1.13.0)\n",
            "Requirement already satisfied: onnxsim==0.4.36 in /usr/local/lib/python3.10/dist-packages (from -r requirements.txt (line 8)) (0.4.36)\n",
            "Requirement already satisfied: onnxruntime-gpu==1.18.0 in /usr/local/lib/python3.10/dist-packages (from -r requirements.txt (line 9)) (1.18.0)\n",
            "Requirement already satisfied: gradio==4.31.5 in /usr/local/lib/python3.10/dist-packages (from -r requirements.txt (line 10)) (4.31.5)\n",
            "Requirement already satisfied: opencv-python==4.9.0.80 in /usr/local/lib/python3.10/dist-packages (from -r requirements.txt (line 11)) (4.9.0.80)\n",
            "Requirement already satisfied: psutil==5.9.8 in /usr/local/lib/python3.10/dist-packages (from -r requirements.txt (line 12)) (5.9.8)\n",
            "Requirement already satisfied: py-cpuinfo==9.0.0 in /usr/local/lib/python3.10/dist-packages (from -r requirements.txt (line 13)) (9.0.0)\n",
            "Requirement already satisfied: huggingface-hub==0.23.2 in /usr/local/lib/python3.10/dist-packages (from -r requirements.txt (line 14)) (0.23.2)\n",
            "Requirement already satisfied: safetensors==0.4.3 in /usr/local/lib/python3.10/dist-packages (from -r requirements.txt (line 15)) (0.4.3)\n",
            "Requirement already satisfied: filelock in /usr/local/lib/python3.10/dist-packages (from torch==2.0.1->-r requirements.txt (line 1)) (3.16.1)\n",
            "Requirement already satisfied: typing-extensions in /usr/local/lib/python3.10/dist-packages (from torch==2.0.1->-r requirements.txt (line 1)) (4.12.2)\n",
            "Requirement already satisfied: sympy in /usr/local/lib/python3.10/dist-packages (from torch==2.0.1->-r requirements.txt (line 1)) (1.13.3)\n",
            "Requirement already satisfied: networkx in /usr/local/lib/python3.10/dist-packages (from torch==2.0.1->-r requirements.txt (line 1)) (3.3)\n",
            "Requirement already satisfied: jinja2 in /usr/local/lib/python3.10/dist-packages (from torch==2.0.1->-r requirements.txt (line 1)) (3.1.4)\n",
            "Requirement already satisfied: nvidia-cuda-nvrtc-cu11==11.7.99 in /usr/local/lib/python3.10/dist-packages (from torch==2.0.1->-r requirements.txt (line 1)) (11.7.99)\n",
            "Requirement already satisfied: nvidia-cuda-runtime-cu11==11.7.99 in /usr/local/lib/python3.10/dist-packages (from torch==2.0.1->-r requirements.txt (line 1)) (11.7.99)\n",
            "Requirement already satisfied: nvidia-cuda-cupti-cu11==11.7.101 in /usr/local/lib/python3.10/dist-packages (from torch==2.0.1->-r requirements.txt (line 1)) (11.7.101)\n",
            "Requirement already satisfied: nvidia-cudnn-cu11==8.5.0.96 in /usr/local/lib/python3.10/dist-packages (from torch==2.0.1->-r requirements.txt (line 1)) (8.5.0.96)\n",
            "Requirement already satisfied: nvidia-cublas-cu11==11.10.3.66 in /usr/local/lib/python3.10/dist-packages (from torch==2.0.1->-r requirements.txt (line 1)) (11.10.3.66)\n",
            "Requirement already satisfied: nvidia-cufft-cu11==10.9.0.58 in /usr/local/lib/python3.10/dist-packages (from torch==2.0.1->-r requirements.txt (line 1)) (10.9.0.58)\n",
            "Requirement already satisfied: nvidia-curand-cu11==10.2.10.91 in /usr/local/lib/python3.10/dist-packages (from torch==2.0.1->-r requirements.txt (line 1)) (10.2.10.91)\n",
            "Requirement already satisfied: nvidia-cusolver-cu11==11.4.0.1 in /usr/local/lib/python3.10/dist-packages (from torch==2.0.1->-r requirements.txt (line 1)) (11.4.0.1)\n",
            "Requirement already satisfied: nvidia-cusparse-cu11==11.7.4.91 in /usr/local/lib/python3.10/dist-packages (from torch==2.0.1->-r requirements.txt (line 1)) (11.7.4.91)\n",
            "Requirement already satisfied: nvidia-nccl-cu11==2.14.3 in /usr/local/lib/python3.10/dist-packages (from torch==2.0.1->-r requirements.txt (line 1)) (2.14.3)\n",
            "Requirement already satisfied: nvidia-nvtx-cu11==11.7.91 in /usr/local/lib/python3.10/dist-packages (from torch==2.0.1->-r requirements.txt (line 1)) (11.7.91)\n",
            "Requirement already satisfied: triton==2.0.0 in /usr/local/lib/python3.10/dist-packages (from torch==2.0.1->-r requirements.txt (line 1)) (2.0.0)\n",
            "Requirement already satisfied: numpy in /usr/local/lib/python3.10/dist-packages (from torchvision==0.15.2->-r requirements.txt (line 2)) (1.26.4)\n",
            "Requirement already satisfied: requests in /usr/local/lib/python3.10/dist-packages (from torchvision==0.15.2->-r requirements.txt (line 2)) (2.32.3)\n",
            "Requirement already satisfied: pillow!=8.3.*,>=5.3.0 in /usr/local/lib/python3.10/dist-packages (from torchvision==0.15.2->-r requirements.txt (line 2)) (10.4.0)\n",
            "Requirement already satisfied: protobuf>=3.20.2 in /usr/local/lib/python3.10/dist-packages (from onnx==1.14.0->-r requirements.txt (line 3)) (3.20.3)\n",
            "Requirement already satisfied: coloredlogs in /usr/local/lib/python3.10/dist-packages (from onnxruntime==1.15.1->-r requirements.txt (line 4)) (15.0.1)\n",
            "Requirement already satisfied: flatbuffers in /usr/local/lib/python3.10/dist-packages (from onnxruntime==1.15.1->-r requirements.txt (line 4)) (24.3.25)\n",
            "Requirement already satisfied: packaging in /usr/local/lib/python3.10/dist-packages (from onnxruntime==1.15.1->-r requirements.txt (line 4)) (24.1)\n",
            "Requirement already satisfied: matplotlib>=2.1.0 in /usr/local/lib/python3.10/dist-packages (from pycocotools==2.0.7->-r requirements.txt (line 5)) (3.7.1)\n",
            "Requirement already satisfied: rich in /usr/local/lib/python3.10/dist-packages (from onnxsim==0.4.36->-r requirements.txt (line 8)) (13.8.1)\n",
            "Requirement already satisfied: aiofiles<24.0,>=22.0 in /usr/local/lib/python3.10/dist-packages (from gradio==4.31.5->-r requirements.txt (line 10)) (23.2.1)\n",
            "Requirement already satisfied: altair<6.0,>=4.2.0 in /usr/local/lib/python3.10/dist-packages (from gradio==4.31.5->-r requirements.txt (line 10)) (4.2.2)\n",
            "Requirement already satisfied: fastapi in /usr/local/lib/python3.10/dist-packages (from gradio==4.31.5->-r requirements.txt (line 10)) (0.115.0)\n",
            "Requirement already satisfied: ffmpy in /usr/local/lib/python3.10/dist-packages (from gradio==4.31.5->-r requirements.txt (line 10)) (0.4.0)\n",
            "Requirement already satisfied: gradio-client==0.16.4 in /usr/local/lib/python3.10/dist-packages (from gradio==4.31.5->-r requirements.txt (line 10)) (0.16.4)\n",
            "Requirement already satisfied: httpx>=0.24.1 in /usr/local/lib/python3.10/dist-packages (from gradio==4.31.5->-r requirements.txt (line 10)) (0.27.2)\n",
            "Requirement already satisfied: importlib-resources<7.0,>=1.3 in /usr/local/lib/python3.10/dist-packages (from gradio==4.31.5->-r requirements.txt (line 10)) (6.4.5)\n",
            "Requirement already satisfied: markupsafe~=2.0 in /usr/local/lib/python3.10/dist-packages (from gradio==4.31.5->-r requirements.txt (line 10)) (2.1.5)\n",
            "Requirement already satisfied: orjson~=3.0 in /usr/local/lib/python3.10/dist-packages (from gradio==4.31.5->-r requirements.txt (line 10)) (3.10.7)\n",
            "Requirement already satisfied: pandas<3.0,>=1.0 in /usr/local/lib/python3.10/dist-packages (from gradio==4.31.5->-r requirements.txt (line 10)) (2.1.4)\n",
            "Requirement already satisfied: pydantic>=2.0 in /usr/local/lib/python3.10/dist-packages (from gradio==4.31.5->-r requirements.txt (line 10)) (2.9.2)\n",
            "Requirement already satisfied: pydub in /usr/local/lib/python3.10/dist-packages (from gradio==4.31.5->-r requirements.txt (line 10)) (0.25.1)\n",
            "Requirement already satisfied: python-multipart>=0.0.9 in /usr/local/lib/python3.10/dist-packages (from gradio==4.31.5->-r requirements.txt (line 10)) (0.0.10)\n",
            "Requirement already satisfied: ruff>=0.2.2 in /usr/local/lib/python3.10/dist-packages (from gradio==4.31.5->-r requirements.txt (line 10)) (0.6.8)\n",
            "Requirement already satisfied: semantic-version~=2.0 in /usr/local/lib/python3.10/dist-packages (from gradio==4.31.5->-r requirements.txt (line 10)) (2.10.0)\n",
            "Requirement already satisfied: tomlkit==0.12.0 in /usr/local/lib/python3.10/dist-packages (from gradio==4.31.5->-r requirements.txt (line 10)) (0.12.0)\n",
            "Requirement already satisfied: typer<1.0,>=0.12 in /usr/local/lib/python3.10/dist-packages (from gradio==4.31.5->-r requirements.txt (line 10)) (0.12.5)\n",
            "Requirement already satisfied: urllib3~=2.0 in /usr/local/lib/python3.10/dist-packages (from gradio==4.31.5->-r requirements.txt (line 10)) (2.2.3)\n",
            "Requirement already satisfied: uvicorn>=0.14.0 in /usr/local/lib/python3.10/dist-packages (from gradio==4.31.5->-r requirements.txt (line 10)) (0.30.6)\n",
            "Requirement already satisfied: fsspec>=2023.5.0 in /usr/local/lib/python3.10/dist-packages (from huggingface-hub==0.23.2->-r requirements.txt (line 14)) (2024.6.1)\n",
            "Requirement already satisfied: tqdm>=4.42.1 in /usr/local/lib/python3.10/dist-packages (from huggingface-hub==0.23.2->-r requirements.txt (line 14)) (4.66.5)\n",
            "Requirement already satisfied: websockets<12.0,>=10.0 in /usr/local/lib/python3.10/dist-packages (from gradio-client==0.16.4->gradio==4.31.5->-r requirements.txt (line 10)) (11.0.3)\n",
            "Requirement already satisfied: setuptools in /usr/local/lib/python3.10/dist-packages (from nvidia-cublas-cu11==11.10.3.66->torch==2.0.1->-r requirements.txt (line 1)) (71.0.4)\n",
            "Requirement already satisfied: wheel in /usr/local/lib/python3.10/dist-packages (from nvidia-cublas-cu11==11.10.3.66->torch==2.0.1->-r requirements.txt (line 1)) (0.44.0)\n",
            "Requirement already satisfied: cmake in /usr/local/lib/python3.10/dist-packages (from triton==2.0.0->torch==2.0.1->-r requirements.txt (line 1)) (3.30.3)\n",
            "Requirement already satisfied: lit in /usr/local/lib/python3.10/dist-packages (from triton==2.0.0->torch==2.0.1->-r requirements.txt (line 1)) (18.1.8)\n",
            "Requirement already satisfied: entrypoints in /usr/local/lib/python3.10/dist-packages (from altair<6.0,>=4.2.0->gradio==4.31.5->-r requirements.txt (line 10)) (0.4)\n",
            "Requirement already satisfied: jsonschema>=3.0 in /usr/local/lib/python3.10/dist-packages (from altair<6.0,>=4.2.0->gradio==4.31.5->-r requirements.txt (line 10)) (4.23.0)\n",
            "Requirement already satisfied: toolz in /usr/local/lib/python3.10/dist-packages (from altair<6.0,>=4.2.0->gradio==4.31.5->-r requirements.txt (line 10)) (0.12.1)\n",
            "Requirement already satisfied: anyio in /usr/local/lib/python3.10/dist-packages (from httpx>=0.24.1->gradio==4.31.5->-r requirements.txt (line 10)) (3.7.1)\n",
            "Requirement already satisfied: certifi in /usr/local/lib/python3.10/dist-packages (from httpx>=0.24.1->gradio==4.31.5->-r requirements.txt (line 10)) (2024.8.30)\n",
            "Requirement already satisfied: httpcore==1.* in /usr/local/lib/python3.10/dist-packages (from httpx>=0.24.1->gradio==4.31.5->-r requirements.txt (line 10)) (1.0.5)\n",
            "Requirement already satisfied: idna in /usr/local/lib/python3.10/dist-packages (from httpx>=0.24.1->gradio==4.31.5->-r requirements.txt (line 10)) (3.10)\n",
            "Requirement already satisfied: sniffio in /usr/local/lib/python3.10/dist-packages (from httpx>=0.24.1->gradio==4.31.5->-r requirements.txt (line 10)) (1.3.1)\n",
            "Requirement already satisfied: h11<0.15,>=0.13 in /usr/local/lib/python3.10/dist-packages (from httpcore==1.*->httpx>=0.24.1->gradio==4.31.5->-r requirements.txt (line 10)) (0.14.0)\n",
            "Requirement already satisfied: contourpy>=1.0.1 in /usr/local/lib/python3.10/dist-packages (from matplotlib>=2.1.0->pycocotools==2.0.7->-r requirements.txt (line 5)) (1.3.0)\n",
            "Requirement already satisfied: cycler>=0.10 in /usr/local/lib/python3.10/dist-packages (from matplotlib>=2.1.0->pycocotools==2.0.7->-r requirements.txt (line 5)) (0.12.1)\n",
            "Requirement already satisfied: fonttools>=4.22.0 in /usr/local/lib/python3.10/dist-packages (from matplotlib>=2.1.0->pycocotools==2.0.7->-r requirements.txt (line 5)) (4.53.1)\n",
            "Requirement already satisfied: kiwisolver>=1.0.1 in /usr/local/lib/python3.10/dist-packages (from matplotlib>=2.1.0->pycocotools==2.0.7->-r requirements.txt (line 5)) (1.4.7)\n",
            "Requirement already satisfied: pyparsing>=2.3.1 in /usr/local/lib/python3.10/dist-packages (from matplotlib>=2.1.0->pycocotools==2.0.7->-r requirements.txt (line 5)) (3.1.4)\n",
            "Requirement already satisfied: python-dateutil>=2.7 in /usr/local/lib/python3.10/dist-packages (from matplotlib>=2.1.0->pycocotools==2.0.7->-r requirements.txt (line 5)) (2.8.2)\n",
            "Requirement already satisfied: pytz>=2020.1 in /usr/local/lib/python3.10/dist-packages (from pandas<3.0,>=1.0->gradio==4.31.5->-r requirements.txt (line 10)) (2024.2)\n",
            "Requirement already satisfied: tzdata>=2022.1 in /usr/local/lib/python3.10/dist-packages (from pandas<3.0,>=1.0->gradio==4.31.5->-r requirements.txt (line 10)) (2024.1)\n",
            "Requirement already satisfied: annotated-types>=0.6.0 in /usr/local/lib/python3.10/dist-packages (from pydantic>=2.0->gradio==4.31.5->-r requirements.txt (line 10)) (0.7.0)\n",
            "Requirement already satisfied: pydantic-core==2.23.4 in /usr/local/lib/python3.10/dist-packages (from pydantic>=2.0->gradio==4.31.5->-r requirements.txt (line 10)) (2.23.4)\n",
            "Requirement already satisfied: click>=8.0.0 in /usr/local/lib/python3.10/dist-packages (from typer<1.0,>=0.12->gradio==4.31.5->-r requirements.txt (line 10)) (8.1.7)\n",
            "Requirement already satisfied: shellingham>=1.3.0 in /usr/local/lib/python3.10/dist-packages (from typer<1.0,>=0.12->gradio==4.31.5->-r requirements.txt (line 10)) (1.5.4)\n",
            "Requirement already satisfied: markdown-it-py>=2.2.0 in /usr/local/lib/python3.10/dist-packages (from rich->onnxsim==0.4.36->-r requirements.txt (line 8)) (3.0.0)\n",
            "Requirement already satisfied: pygments<3.0.0,>=2.13.0 in /usr/local/lib/python3.10/dist-packages (from rich->onnxsim==0.4.36->-r requirements.txt (line 8)) (2.18.0)\n",
            "Requirement already satisfied: humanfriendly>=9.1 in /usr/local/lib/python3.10/dist-packages (from coloredlogs->onnxruntime==1.15.1->-r requirements.txt (line 4)) (10.0)\n",
            "Requirement already satisfied: starlette<0.39.0,>=0.37.2 in /usr/local/lib/python3.10/dist-packages (from fastapi->gradio==4.31.5->-r requirements.txt (line 10)) (0.38.6)\n",
            "Requirement already satisfied: charset-normalizer<4,>=2 in /usr/local/lib/python3.10/dist-packages (from requests->torchvision==0.15.2->-r requirements.txt (line 2)) (3.3.2)\n",
            "Requirement already satisfied: mpmath<1.4,>=1.1.0 in /usr/local/lib/python3.10/dist-packages (from sympy->torch==2.0.1->-r requirements.txt (line 1)) (1.3.0)\n",
            "Requirement already satisfied: attrs>=22.2.0 in /usr/local/lib/python3.10/dist-packages (from jsonschema>=3.0->altair<6.0,>=4.2.0->gradio==4.31.5->-r requirements.txt (line 10)) (24.2.0)\n",
            "Requirement already satisfied: jsonschema-specifications>=2023.03.6 in /usr/local/lib/python3.10/dist-packages (from jsonschema>=3.0->altair<6.0,>=4.2.0->gradio==4.31.5->-r requirements.txt (line 10)) (2023.12.1)\n",
            "Requirement already satisfied: referencing>=0.28.4 in /usr/local/lib/python3.10/dist-packages (from jsonschema>=3.0->altair<6.0,>=4.2.0->gradio==4.31.5->-r requirements.txt (line 10)) (0.35.1)\n",
            "Requirement already satisfied: rpds-py>=0.7.1 in /usr/local/lib/python3.10/dist-packages (from jsonschema>=3.0->altair<6.0,>=4.2.0->gradio==4.31.5->-r requirements.txt (line 10)) (0.20.0)\n",
            "Requirement already satisfied: mdurl~=0.1 in /usr/local/lib/python3.10/dist-packages (from markdown-it-py>=2.2.0->rich->onnxsim==0.4.36->-r requirements.txt (line 8)) (0.1.2)\n",
            "Requirement already satisfied: six>=1.5 in /usr/local/lib/python3.10/dist-packages (from python-dateutil>=2.7->matplotlib>=2.1.0->pycocotools==2.0.7->-r requirements.txt (line 5)) (1.16.0)\n",
            "Requirement already satisfied: exceptiongroup in /usr/local/lib/python3.10/dist-packages (from anyio->httpx>=0.24.1->gradio==4.31.5->-r requirements.txt (line 10)) (1.2.2)\n"
          ]
        }
      ],
      "source": [
        "!pip install -r requirements.txt"
      ]
    },
    {
      "cell_type": "code",
      "execution_count": null,
      "metadata": {
        "colab": {
          "base_uri": "https://localhost:8080/"
        },
        "id": "QEwAuxWqR8Vq",
        "outputId": "36eb7ec0-188b-4303-9dd7-51403cd62ffb"
      },
      "outputs": [
        {
          "output_type": "stream",
          "name": "stdout",
          "text": [
            "app.py\t\t docs\t   flops.py  mkdocs.yml      requirements.txt\n",
            "CONTRIBUTING.md  examples  LICENSE   pyproject.toml  tests\n",
            "docker\t\t figures   logs      README.md\t     ultralytics\n"
          ]
        }
      ],
      "source": [
        "!ls /content/yolov10"
      ]
    },
    {
      "cell_type": "code",
      "execution_count": null,
      "metadata": {
        "colab": {
          "base_uri": "https://localhost:8080/"
        },
        "id": "UyxX4c-HTZpY",
        "outputId": "558c7a7d-3e2c-4880-e514-cf61da66c440"
      },
      "outputs": [
        {
          "name": "stdout",
          "output_type": "stream",
          "text": [
            "Mounted at /content/drive\n"
          ]
        }
      ],
      "source": [
        "from google.colab import drive\n",
        "drive.mount('/content/drive')"
      ]
    },
    {
      "cell_type": "code",
      "execution_count": null,
      "metadata": {
        "colab": {
          "base_uri": "https://localhost:8080/",
          "height": 73
        },
        "id": "vSEC2yYSThJg",
        "outputId": "7170a56a-ef33-4f62-f36f-76319113fcca"
      },
      "outputs": [
        {
          "output_type": "display_data",
          "data": {
            "text/plain": [
              "<IPython.core.display.HTML object>"
            ],
            "text/html": [
              "\n",
              "     <input type=\"file\" id=\"files-edb5e927-f4c1-46e1-b504-05e424a63465\" name=\"files[]\" multiple disabled\n",
              "        style=\"border:none\" />\n",
              "     <output id=\"result-edb5e927-f4c1-46e1-b504-05e424a63465\">\n",
              "      Upload widget is only available when the cell has been executed in the\n",
              "      current browser session. Please rerun this cell to enable.\n",
              "      </output>\n",
              "      <script>// Copyright 2017 Google LLC\n",
              "//\n",
              "// Licensed under the Apache License, Version 2.0 (the \"License\");\n",
              "// you may not use this file except in compliance with the License.\n",
              "// You may obtain a copy of the License at\n",
              "//\n",
              "//      http://www.apache.org/licenses/LICENSE-2.0\n",
              "//\n",
              "// Unless required by applicable law or agreed to in writing, software\n",
              "// distributed under the License is distributed on an \"AS IS\" BASIS,\n",
              "// WITHOUT WARRANTIES OR CONDITIONS OF ANY KIND, either express or implied.\n",
              "// See the License for the specific language governing permissions and\n",
              "// limitations under the License.\n",
              "\n",
              "/**\n",
              " * @fileoverview Helpers for google.colab Python module.\n",
              " */\n",
              "(function(scope) {\n",
              "function span(text, styleAttributes = {}) {\n",
              "  const element = document.createElement('span');\n",
              "  element.textContent = text;\n",
              "  for (const key of Object.keys(styleAttributes)) {\n",
              "    element.style[key] = styleAttributes[key];\n",
              "  }\n",
              "  return element;\n",
              "}\n",
              "\n",
              "// Max number of bytes which will be uploaded at a time.\n",
              "const MAX_PAYLOAD_SIZE = 100 * 1024;\n",
              "\n",
              "function _uploadFiles(inputId, outputId) {\n",
              "  const steps = uploadFilesStep(inputId, outputId);\n",
              "  const outputElement = document.getElementById(outputId);\n",
              "  // Cache steps on the outputElement to make it available for the next call\n",
              "  // to uploadFilesContinue from Python.\n",
              "  outputElement.steps = steps;\n",
              "\n",
              "  return _uploadFilesContinue(outputId);\n",
              "}\n",
              "\n",
              "// This is roughly an async generator (not supported in the browser yet),\n",
              "// where there are multiple asynchronous steps and the Python side is going\n",
              "// to poll for completion of each step.\n",
              "// This uses a Promise to block the python side on completion of each step,\n",
              "// then passes the result of the previous step as the input to the next step.\n",
              "function _uploadFilesContinue(outputId) {\n",
              "  const outputElement = document.getElementById(outputId);\n",
              "  const steps = outputElement.steps;\n",
              "\n",
              "  const next = steps.next(outputElement.lastPromiseValue);\n",
              "  return Promise.resolve(next.value.promise).then((value) => {\n",
              "    // Cache the last promise value to make it available to the next\n",
              "    // step of the generator.\n",
              "    outputElement.lastPromiseValue = value;\n",
              "    return next.value.response;\n",
              "  });\n",
              "}\n",
              "\n",
              "/**\n",
              " * Generator function which is called between each async step of the upload\n",
              " * process.\n",
              " * @param {string} inputId Element ID of the input file picker element.\n",
              " * @param {string} outputId Element ID of the output display.\n",
              " * @return {!Iterable<!Object>} Iterable of next steps.\n",
              " */\n",
              "function* uploadFilesStep(inputId, outputId) {\n",
              "  const inputElement = document.getElementById(inputId);\n",
              "  inputElement.disabled = false;\n",
              "\n",
              "  const outputElement = document.getElementById(outputId);\n",
              "  outputElement.innerHTML = '';\n",
              "\n",
              "  const pickedPromise = new Promise((resolve) => {\n",
              "    inputElement.addEventListener('change', (e) => {\n",
              "      resolve(e.target.files);\n",
              "    });\n",
              "  });\n",
              "\n",
              "  const cancel = document.createElement('button');\n",
              "  inputElement.parentElement.appendChild(cancel);\n",
              "  cancel.textContent = 'Cancel upload';\n",
              "  const cancelPromise = new Promise((resolve) => {\n",
              "    cancel.onclick = () => {\n",
              "      resolve(null);\n",
              "    };\n",
              "  });\n",
              "\n",
              "  // Wait for the user to pick the files.\n",
              "  const files = yield {\n",
              "    promise: Promise.race([pickedPromise, cancelPromise]),\n",
              "    response: {\n",
              "      action: 'starting',\n",
              "    }\n",
              "  };\n",
              "\n",
              "  cancel.remove();\n",
              "\n",
              "  // Disable the input element since further picks are not allowed.\n",
              "  inputElement.disabled = true;\n",
              "\n",
              "  if (!files) {\n",
              "    return {\n",
              "      response: {\n",
              "        action: 'complete',\n",
              "      }\n",
              "    };\n",
              "  }\n",
              "\n",
              "  for (const file of files) {\n",
              "    const li = document.createElement('li');\n",
              "    li.append(span(file.name, {fontWeight: 'bold'}));\n",
              "    li.append(span(\n",
              "        `(${file.type || 'n/a'}) - ${file.size} bytes, ` +\n",
              "        `last modified: ${\n",
              "            file.lastModifiedDate ? file.lastModifiedDate.toLocaleDateString() :\n",
              "                                    'n/a'} - `));\n",
              "    const percent = span('0% done');\n",
              "    li.appendChild(percent);\n",
              "\n",
              "    outputElement.appendChild(li);\n",
              "\n",
              "    const fileDataPromise = new Promise((resolve) => {\n",
              "      const reader = new FileReader();\n",
              "      reader.onload = (e) => {\n",
              "        resolve(e.target.result);\n",
              "      };\n",
              "      reader.readAsArrayBuffer(file);\n",
              "    });\n",
              "    // Wait for the data to be ready.\n",
              "    let fileData = yield {\n",
              "      promise: fileDataPromise,\n",
              "      response: {\n",
              "        action: 'continue',\n",
              "      }\n",
              "    };\n",
              "\n",
              "    // Use a chunked sending to avoid message size limits. See b/62115660.\n",
              "    let position = 0;\n",
              "    do {\n",
              "      const length = Math.min(fileData.byteLength - position, MAX_PAYLOAD_SIZE);\n",
              "      const chunk = new Uint8Array(fileData, position, length);\n",
              "      position += length;\n",
              "\n",
              "      const base64 = btoa(String.fromCharCode.apply(null, chunk));\n",
              "      yield {\n",
              "        response: {\n",
              "          action: 'append',\n",
              "          file: file.name,\n",
              "          data: base64,\n",
              "        },\n",
              "      };\n",
              "\n",
              "      let percentDone = fileData.byteLength === 0 ?\n",
              "          100 :\n",
              "          Math.round((position / fileData.byteLength) * 100);\n",
              "      percent.textContent = `${percentDone}% done`;\n",
              "\n",
              "    } while (position < fileData.byteLength);\n",
              "  }\n",
              "\n",
              "  // All done.\n",
              "  yield {\n",
              "    response: {\n",
              "      action: 'complete',\n",
              "    }\n",
              "  };\n",
              "}\n",
              "\n",
              "scope.google = scope.google || {};\n",
              "scope.google.colab = scope.google.colab || {};\n",
              "scope.google.colab._files = {\n",
              "  _uploadFiles,\n",
              "  _uploadFilesContinue,\n",
              "};\n",
              "})(self);\n",
              "</script> "
            ]
          },
          "metadata": {}
        },
        {
          "output_type": "stream",
          "name": "stdout",
          "text": [
            "Saving deep_sort_pytorch-20240926T205617Z-001.zip to deep_sort_pytorch-20240926T205617Z-001.zip\n"
          ]
        }
      ],
      "source": [
        "from google.colab import files\n",
        "uploaded = files.upload()\n",
        "\n"
      ]
    },
    {
      "cell_type": "code",
      "execution_count": null,
      "metadata": {
        "colab": {
          "base_uri": "https://localhost:8080/"
        },
        "id": "_B_XdMVLUflk",
        "outputId": "61bb216c-c26c-4d69-f0af-eef76060092c"
      },
      "outputs": [
        {
          "output_type": "stream",
          "name": "stdout",
          "text": [
            "app.py\t\t\t\t\t    examples\tobject_detection.py  tests\n",
            "CONTRIBUTING.md\t\t\t\t    figures\tobjectTracking.py    ultralytics\n",
            "deep_sort_pytorch\t\t\t    flops.py\tpyproject.toml\t     utils\n",
            "deep_sort_pytorch-20240926T205617Z-001.zip  LICENSE\tREADME.md\t     weights\n",
            "docker\t\t\t\t\t    logs\trequirements.txt\n",
            "docs\t\t\t\t\t    mkdocs.yml\tResources\n"
          ]
        }
      ],
      "source": [
        "!ls"
      ]
    },
    {
      "cell_type": "code",
      "execution_count": null,
      "metadata": {
        "colab": {
          "base_uri": "https://localhost:8080/"
        },
        "id": "KWhn5rKxYXMl",
        "outputId": "accac796-ca7b-427d-eb99-922e178c911e"
      },
      "outputs": [
        {
          "output_type": "stream",
          "name": "stdout",
          "text": [
            "Files extracted to: /content/Object-Tracking-YOLOv10-DeepSORT/yolov10\n"
          ]
        }
      ],
      "source": [
        "import zipfile\n",
        "import os\n",
        "\n",
        "# Replace 'your_file.zip' with the name of the uploaded ZIP file\n",
        "zip_file_path = '/content/Object-Tracking-YOLOv10-DeepSORT/yolov10/deep_sort_pytorch-20240926T205617Z-001.zip'  # Use the exact name of your uploaded ZIP file\n",
        "extract_path = '/content/Object-Tracking-YOLOv10-DeepSORT/yolov10'  # Folder to extract to\n",
        "\n",
        "# Create a directory to extract to\n",
        "os.makedirs(extract_path, exist_ok=True)\n",
        "\n",
        "# Unzip the file\n",
        "with zipfile.ZipFile(zip_file_path, 'r') as zip_ref:\n",
        "    zip_ref.extractall(extract_path)\n",
        "\n",
        "print(\"Files extracted to:\", extract_path)\n"
      ]
    },
    {
      "cell_type": "code",
      "execution_count": null,
      "metadata": {
        "colab": {
          "base_uri": "https://localhost:8080/"
        },
        "id": "jiMeIoy2YzmH",
        "outputId": "af1ef073-3361-4592-f577-eecde3cf6cb0"
      },
      "outputs": [
        {
          "output_type": "stream",
          "name": "stdout",
          "text": [
            "/content/Object-Tracking-YOLOv10-DeepSORT/yolov10\n"
          ]
        }
      ],
      "source": [
        "!pwd"
      ]
    },
    {
      "cell_type": "code",
      "execution_count": null,
      "metadata": {
        "colab": {
          "base_uri": "https://localhost:8080/"
        },
        "id": "jzl-7nxTY00M",
        "outputId": "b1349fd7-c38f-4a9c-a003-407e953c7ce5"
      },
      "outputs": [
        {
          "output_type": "stream",
          "name": "stdout",
          "text": [
            "Requirement already satisfied: easydict in /usr/local/lib/python3.10/dist-packages (1.13)\n"
          ]
        }
      ],
      "source": [
        "!pip install easydict"
      ]
    },
    {
      "cell_type": "code",
      "execution_count": null,
      "metadata": {
        "colab": {
          "base_uri": "https://localhost:8080/"
        },
        "id": "v_vtPQRfZZ87",
        "outputId": "d5a89673-c5f3-4e6f-ec2d-6bbce35afd49"
      },
      "outputs": [
        {
          "output_type": "stream",
          "name": "stdout",
          "text": [
            "Requirement already satisfied: numpy<1.24 in /usr/local/lib/python3.10/dist-packages (1.23.5)\n"
          ]
        }
      ],
      "source": [
        "!pip install \"numpy<1.24\""
      ]
    },
    {
      "cell_type": "code",
      "execution_count": null,
      "metadata": {
        "colab": {
          "base_uri": "https://localhost:8080/"
        },
        "id": "bIhb8tpJZg2j",
        "outputId": "2cc73447-987b-4e11-9fa0-a45eac09e2c2"
      },
      "outputs": [
        {
          "output_type": "stream",
          "name": "stdout",
          "text": [
            "/content/yolov10\n"
          ]
        }
      ],
      "source": [
        "%cd yolov10"
      ]
    },
    {
      "cell_type": "code",
      "execution_count": null,
      "metadata": {
        "colab": {
          "base_uri": "https://localhost:8080/"
        },
        "id": "hSjqVDPjaI4M",
        "outputId": "b5d880b6-dcc9-4547-fedb-3f40a4ae0e80"
      },
      "outputs": [
        {
          "output_type": "stream",
          "name": "stdout",
          "text": [
            "app.py\t\t docs\t   flops.py  mkdocs.yml      requirements.txt\n",
            "CONTRIBUTING.md  examples  LICENSE   pyproject.toml  tests\n",
            "docker\t\t figures   logs      README.md\t     ultralytics\n"
          ]
        }
      ],
      "source": [
        "!ls"
      ]
    },
    {
      "cell_type": "code",
      "execution_count": null,
      "metadata": {
        "id": "RZ3K-h3VaKqb"
      },
      "outputs": [],
      "source": [
        "!mv /content/yolov10/deep_sort_pytorch /content/Object-Tracking-YOLOv10-DeepSORT/yolov10"
      ]
    },
    {
      "cell_type": "code",
      "execution_count": null,
      "metadata": {
        "colab": {
          "background_save": true,
          "base_uri": "https://localhost:8080/"
        },
        "id": "Gf98VRTxbN_y",
        "outputId": "d9436ad9-1969-4c76-e8a0-be210edc648d"
      },
      "outputs": [
        {
          "name": "stdout",
          "output_type": "stream",
          "text": [
            "Frame Count: 1\n",
            "\n",
            "0: 384x640 12 persons, 1 bicycle, 1 handbag, 1 potted plant, 154.1ms\n",
            "Speed: 6.2ms preprocess, 154.1ms inference, 1.8ms postprocess per image at shape (1, 3, 384, 640)\n",
            "qt.qpa.xcb: could not connect to display \n",
            "qt.qpa.plugin: Could not load the Qt platform plugin \"xcb\" in \"/usr/local/lib/python3.10/dist-packages/cv2/qt/plugins\" even though it was found.\n",
            "This application failed to start because no Qt platform plugin could be initialized. Reinstalling the application may fix this problem.\n",
            "\n",
            "Available platform plugins are: xcb.\n",
            "\n"
          ]
        }
      ],
      "source": [
        "!python objectTracking.py"
      ]
    },
    {
      "cell_type": "code",
      "execution_count": null,
      "metadata": {
        "colab": {
          "base_uri": "https://localhost:8080/"
        },
        "id": "mXpr0I1Rbcjh",
        "outputId": "56301cec-8896-452e-9e06-7145db44acde"
      },
      "outputs": [
        {
          "metadata": {
            "tags": null
          },
          "name": "stderr",
          "output_type": "stream",
          "text": [
            "\r  0%|          | 0/508 [00:00<?, ?it/s]"
          ]
        },
        {
          "metadata": {
            "tags": null
          },
          "name": "stdout",
          "output_type": "stream",
          "text": [
            "\n",
            "0: 384x640 3 cars, 2 trucks, 196.5ms\n",
            "Speed: 5.5ms preprocess, 196.5ms inference, 2.7ms postprocess per image at shape (1, 3, 384, 640)\n"
          ]
        },
        {
          "metadata": {
            "tags": null
          },
          "name": "stderr",
          "output_type": "stream",
          "text": [
            "\r  0%|          | 1/508 [00:01<15:42,  1.86s/it]"
          ]
        },
        {
          "metadata": {
            "tags": null
          },
          "name": "stdout",
          "output_type": "stream",
          "text": [
            "\n",
            "0: 384x640 2 cars, 2 trucks, 164.7ms\n",
            "Speed: 2.6ms preprocess, 164.7ms inference, 1.6ms postprocess per image at shape (1, 3, 384, 640)\n"
          ]
        },
        {
          "metadata": {
            "tags": null
          },
          "name": "stderr",
          "output_type": "stream",
          "text": [
            "\r  0%|          | 2/508 [00:02<08:37,  1.02s/it]"
          ]
        },
        {
          "metadata": {
            "tags": null
          },
          "name": "stdout",
          "output_type": "stream",
          "text": [
            "\n",
            "0: 384x640 2 cars, 1 truck, 182.2ms\n",
            "Speed: 3.5ms preprocess, 182.2ms inference, 1.6ms postprocess per image at shape (1, 3, 384, 640)\n"
          ]
        },
        {
          "metadata": {
            "tags": null
          },
          "name": "stderr",
          "output_type": "stream",
          "text": [
            "\r  1%|          | 3/508 [00:02<06:12,  1.35it/s]"
          ]
        },
        {
          "metadata": {
            "tags": null
          },
          "name": "stdout",
          "output_type": "stream",
          "text": [
            "\n",
            "0: 384x640 4 cars, 1 truck, 165.0ms\n",
            "Speed: 2.7ms preprocess, 165.0ms inference, 1.6ms postprocess per image at shape (1, 3, 384, 640)\n"
          ]
        },
        {
          "metadata": {
            "tags": null
          },
          "name": "stderr",
          "output_type": "stream",
          "text": [
            "\r  1%|          | 4/508 [00:03<05:24,  1.55it/s]"
          ]
        },
        {
          "metadata": {
            "tags": null
          },
          "name": "stdout",
          "output_type": "stream",
          "text": [
            "\n",
            "0: 384x640 5 cars, 1 truck, 189.9ms\n",
            "Speed: 2.9ms preprocess, 189.9ms inference, 1.9ms postprocess per image at shape (1, 3, 384, 640)\n"
          ]
        },
        {
          "metadata": {
            "tags": null
          },
          "name": "stderr",
          "output_type": "stream",
          "text": [
            "\r  1%|          | 5/508 [00:03<05:13,  1.61it/s]"
          ]
        },
        {
          "metadata": {
            "tags": null
          },
          "name": "stdout",
          "output_type": "stream",
          "text": [
            "\n",
            "0: 384x640 4 cars, 1 truck, 156.6ms\n",
            "Speed: 2.5ms preprocess, 156.6ms inference, 1.5ms postprocess per image at shape (1, 3, 384, 640)\n"
          ]
        },
        {
          "metadata": {
            "tags": null
          },
          "name": "stderr",
          "output_type": "stream",
          "text": [
            "\r  1%|          | 6/508 [00:04<04:47,  1.75it/s]"
          ]
        },
        {
          "metadata": {
            "tags": null
          },
          "name": "stdout",
          "output_type": "stream",
          "text": [
            "\n",
            "0: 384x640 5 cars, 1 truck, 200.0ms\n",
            "Speed: 2.6ms preprocess, 200.0ms inference, 2.4ms postprocess per image at shape (1, 3, 384, 640)\n"
          ]
        },
        {
          "metadata": {
            "tags": null
          },
          "name": "stderr",
          "output_type": "stream",
          "text": [
            "\r  1%|▏         | 7/508 [00:04<04:49,  1.73it/s]"
          ]
        },
        {
          "metadata": {
            "tags": null
          },
          "name": "stdout",
          "output_type": "stream",
          "text": [
            "\n",
            "0: 384x640 5 cars, 1 truck, 218.5ms\n",
            "Speed: 3.0ms preprocess, 218.5ms inference, 2.4ms postprocess per image at shape (1, 3, 384, 640)\n"
          ]
        },
        {
          "metadata": {
            "tags": null
          },
          "name": "stderr",
          "output_type": "stream",
          "text": [
            "\r  2%|▏         | 8/508 [00:05<05:21,  1.55it/s]"
          ]
        },
        {
          "metadata": {
            "tags": null
          },
          "name": "stdout",
          "output_type": "stream",
          "text": [
            "\n",
            "0: 384x640 5 cars, 1 truck, 275.2ms\n",
            "Speed: 4.9ms preprocess, 275.2ms inference, 2.2ms postprocess per image at shape (1, 3, 384, 640)\n"
          ]
        },
        {
          "metadata": {
            "tags": null
          },
          "name": "stderr",
          "output_type": "stream",
          "text": [
            "\r  2%|▏         | 9/508 [00:06<05:51,  1.42it/s]"
          ]
        },
        {
          "metadata": {
            "tags": null
          },
          "name": "stdout",
          "output_type": "stream",
          "text": [
            "\n",
            "0: 384x640 7 cars, 2 trucks, 262.4ms\n",
            "Speed: 3.9ms preprocess, 262.4ms inference, 2.0ms postprocess per image at shape (1, 3, 384, 640)\n"
          ]
        },
        {
          "metadata": {
            "tags": null
          },
          "name": "stderr",
          "output_type": "stream",
          "text": [
            "\r  2%|▏         | 10/508 [00:07<06:49,  1.22it/s]"
          ]
        },
        {
          "metadata": {
            "tags": null
          },
          "name": "stdout",
          "output_type": "stream",
          "text": [
            "\n",
            "0: 384x640 6 cars, 1 truck, 289.5ms\n",
            "Speed: 6.0ms preprocess, 289.5ms inference, 2.1ms postprocess per image at shape (1, 3, 384, 640)\n"
          ]
        },
        {
          "metadata": {
            "tags": null
          },
          "name": "stderr",
          "output_type": "stream",
          "text": [
            "\r  2%|▏         | 11/508 [00:08<07:13,  1.15it/s]"
          ]
        },
        {
          "metadata": {
            "tags": null
          },
          "name": "stdout",
          "output_type": "stream",
          "text": [
            "\n",
            "0: 384x640 6 cars, 1 truck, 293.0ms\n",
            "Speed: 2.9ms preprocess, 293.0ms inference, 2.2ms postprocess per image at shape (1, 3, 384, 640)\n"
          ]
        },
        {
          "metadata": {
            "tags": null
          },
          "name": "stderr",
          "output_type": "stream",
          "text": [
            "\r  2%|▏         | 12/508 [00:09<07:01,  1.18it/s]"
          ]
        },
        {
          "metadata": {
            "tags": null
          },
          "name": "stdout",
          "output_type": "stream",
          "text": [
            "\n",
            "0: 384x640 7 cars, 2 trucks, 192.2ms\n",
            "Speed: 3.1ms preprocess, 192.2ms inference, 1.5ms postprocess per image at shape (1, 3, 384, 640)\n"
          ]
        },
        {
          "metadata": {
            "tags": null
          },
          "name": "stderr",
          "output_type": "stream",
          "text": [
            "\r  3%|▎         | 13/508 [00:10<06:44,  1.22it/s]"
          ]
        },
        {
          "metadata": {
            "tags": null
          },
          "name": "stdout",
          "output_type": "stream",
          "text": [
            "\n",
            "0: 384x640 5 cars, 1 truck, 185.2ms\n",
            "Speed: 2.6ms preprocess, 185.2ms inference, 1.5ms postprocess per image at shape (1, 3, 384, 640)\n"
          ]
        },
        {
          "metadata": {
            "tags": null
          },
          "name": "stderr",
          "output_type": "stream",
          "text": [
            "\r  3%|▎         | 14/508 [00:10<06:07,  1.34it/s]"
          ]
        },
        {
          "metadata": {
            "tags": null
          },
          "name": "stdout",
          "output_type": "stream",
          "text": [
            "\n",
            "0: 384x640 6 cars, 1 truck, 198.2ms\n",
            "Speed: 2.5ms preprocess, 198.2ms inference, 1.6ms postprocess per image at shape (1, 3, 384, 640)\n"
          ]
        },
        {
          "metadata": {
            "tags": null
          },
          "name": "stderr",
          "output_type": "stream",
          "text": [
            "\r  3%|▎         | 15/508 [00:11<05:50,  1.40it/s]"
          ]
        },
        {
          "metadata": {
            "tags": null
          },
          "name": "stdout",
          "output_type": "stream",
          "text": [
            "\n",
            "0: 384x640 6 cars, 1 truck, 204.6ms\n",
            "Speed: 2.5ms preprocess, 204.6ms inference, 1.7ms postprocess per image at shape (1, 3, 384, 640)\n"
          ]
        },
        {
          "metadata": {
            "tags": null
          },
          "name": "stderr",
          "output_type": "stream",
          "text": [
            "\r  3%|▎         | 16/508 [00:11<05:45,  1.42it/s]"
          ]
        },
        {
          "metadata": {
            "tags": null
          },
          "name": "stdout",
          "output_type": "stream",
          "text": [
            "\n",
            "0: 384x640 7 cars, 190.1ms\n",
            "Speed: 3.3ms preprocess, 190.1ms inference, 1.6ms postprocess per image at shape (1, 3, 384, 640)\n"
          ]
        },
        {
          "metadata": {
            "tags": null
          },
          "name": "stderr",
          "output_type": "stream",
          "text": [
            "\r  3%|▎         | 17/508 [00:12<05:34,  1.47it/s]"
          ]
        },
        {
          "metadata": {
            "tags": null
          },
          "name": "stdout",
          "output_type": "stream",
          "text": [
            "\n",
            "0: 384x640 6 cars, 190.9ms\n",
            "Speed: 2.5ms preprocess, 190.9ms inference, 1.7ms postprocess per image at shape (1, 3, 384, 640)\n"
          ]
        },
        {
          "metadata": {
            "tags": null
          },
          "name": "stderr",
          "output_type": "stream",
          "text": [
            "\r  4%|▎         | 18/508 [00:13<05:18,  1.54it/s]"
          ]
        },
        {
          "metadata": {
            "tags": null
          },
          "name": "stdout",
          "output_type": "stream",
          "text": [
            "\n",
            "0: 384x640 6 cars, 186.2ms\n",
            "Speed: 2.5ms preprocess, 186.2ms inference, 1.5ms postprocess per image at shape (1, 3, 384, 640)\n"
          ]
        },
        {
          "metadata": {
            "tags": null
          },
          "name": "stderr",
          "output_type": "stream",
          "text": [
            "\r  4%|▎         | 19/508 [00:13<05:07,  1.59it/s]"
          ]
        },
        {
          "metadata": {
            "tags": null
          },
          "name": "stdout",
          "output_type": "stream",
          "text": [
            "\n",
            "0: 384x640 8 cars, 195.5ms\n",
            "Speed: 2.4ms preprocess, 195.5ms inference, 1.6ms postprocess per image at shape (1, 3, 384, 640)\n"
          ]
        },
        {
          "metadata": {
            "tags": null
          },
          "name": "stderr",
          "output_type": "stream",
          "text": [
            "\r  4%|▍         | 20/508 [00:14<05:13,  1.56it/s]"
          ]
        },
        {
          "metadata": {
            "tags": null
          },
          "name": "stdout",
          "output_type": "stream",
          "text": [
            "\n",
            "0: 384x640 4 cars, 180.4ms\n",
            "Speed: 8.6ms preprocess, 180.4ms inference, 1.5ms postprocess per image at shape (1, 3, 384, 640)\n"
          ]
        },
        {
          "metadata": {
            "tags": null
          },
          "name": "stderr",
          "output_type": "stream",
          "text": [
            "\r  4%|▍         | 21/508 [00:14<04:49,  1.68it/s]"
          ]
        },
        {
          "metadata": {
            "tags": null
          },
          "name": "stdout",
          "output_type": "stream",
          "text": [
            "\n",
            "0: 384x640 5 cars, 181.6ms\n",
            "Speed: 3.5ms preprocess, 181.6ms inference, 1.5ms postprocess per image at shape (1, 3, 384, 640)\n"
          ]
        },
        {
          "metadata": {
            "tags": null
          },
          "name": "stderr",
          "output_type": "stream",
          "text": [
            "\r  4%|▍         | 22/508 [00:15<04:38,  1.75it/s]"
          ]
        },
        {
          "metadata": {
            "tags": null
          },
          "name": "stdout",
          "output_type": "stream",
          "text": [
            "\n",
            "0: 384x640 4 cars, 192.9ms\n",
            "Speed: 3.1ms preprocess, 192.9ms inference, 1.8ms postprocess per image at shape (1, 3, 384, 640)\n"
          ]
        },
        {
          "metadata": {
            "tags": null
          },
          "name": "stderr",
          "output_type": "stream",
          "text": [
            "\r  5%|▍         | 23/508 [00:15<04:24,  1.83it/s]"
          ]
        },
        {
          "metadata": {
            "tags": null
          },
          "name": "stdout",
          "output_type": "stream",
          "text": [
            "\n",
            "0: 384x640 5 cars, 272.4ms\n",
            "Speed: 3.0ms preprocess, 272.4ms inference, 1.6ms postprocess per image at shape (1, 3, 384, 640)\n"
          ]
        },
        {
          "metadata": {
            "tags": null
          },
          "name": "stderr",
          "output_type": "stream",
          "text": [
            "\r  5%|▍         | 24/508 [00:16<04:34,  1.76it/s]"
          ]
        },
        {
          "metadata": {
            "tags": null
          },
          "name": "stdout",
          "output_type": "stream",
          "text": [
            "\n",
            "0: 384x640 6 cars, 246.4ms\n",
            "Speed: 5.0ms preprocess, 246.4ms inference, 1.5ms postprocess per image at shape (1, 3, 384, 640)\n"
          ]
        },
        {
          "metadata": {
            "tags": null
          },
          "name": "stderr",
          "output_type": "stream",
          "text": [
            "\r  5%|▍         | 25/508 [00:17<04:44,  1.70it/s]"
          ]
        },
        {
          "metadata": {
            "tags": null
          },
          "name": "stdout",
          "output_type": "stream",
          "text": [
            "\n",
            "0: 384x640 4 cars, 160.9ms\n",
            "Speed: 3.7ms preprocess, 160.9ms inference, 1.5ms postprocess per image at shape (1, 3, 384, 640)\n"
          ]
        },
        {
          "metadata": {
            "tags": null
          },
          "name": "stderr",
          "output_type": "stream",
          "text": [
            "\r  5%|▌         | 26/508 [00:17<04:21,  1.85it/s]"
          ]
        },
        {
          "metadata": {
            "tags": null
          },
          "name": "stdout",
          "output_type": "stream",
          "text": [
            "\n",
            "0: 384x640 6 cars, 195.9ms\n",
            "Speed: 2.4ms preprocess, 195.9ms inference, 1.7ms postprocess per image at shape (1, 3, 384, 640)\n"
          ]
        },
        {
          "metadata": {
            "tags": null
          },
          "name": "stderr",
          "output_type": "stream",
          "text": [
            "\r  5%|▌         | 27/508 [00:18<04:27,  1.80it/s]"
          ]
        },
        {
          "metadata": {
            "tags": null
          },
          "name": "stdout",
          "output_type": "stream",
          "text": [
            "\n",
            "0: 384x640 5 cars, 194.4ms\n",
            "Speed: 2.5ms preprocess, 194.4ms inference, 1.6ms postprocess per image at shape (1, 3, 384, 640)\n"
          ]
        },
        {
          "metadata": {
            "tags": null
          },
          "name": "stderr",
          "output_type": "stream",
          "text": [
            "\r  6%|▌         | 28/508 [00:18<04:25,  1.81it/s]"
          ]
        },
        {
          "metadata": {
            "tags": null
          },
          "name": "stdout",
          "output_type": "stream",
          "text": [
            "\n",
            "0: 384x640 5 cars, 2 trucks, 186.3ms\n",
            "Speed: 2.4ms preprocess, 186.3ms inference, 1.5ms postprocess per image at shape (1, 3, 384, 640)\n"
          ]
        },
        {
          "metadata": {
            "tags": null
          },
          "name": "stderr",
          "output_type": "stream",
          "text": [
            "\r  6%|▌         | 29/508 [00:19<04:58,  1.60it/s]"
          ]
        },
        {
          "metadata": {
            "tags": null
          },
          "name": "stdout",
          "output_type": "stream",
          "text": [
            "\n",
            "0: 384x640 5 cars, 294.2ms\n",
            "Speed: 2.8ms preprocess, 294.2ms inference, 2.6ms postprocess per image at shape (1, 3, 384, 640)\n"
          ]
        },
        {
          "metadata": {
            "tags": null
          },
          "name": "stderr",
          "output_type": "stream",
          "text": [
            "\r  6%|▌         | 30/508 [00:20<05:22,  1.48it/s]"
          ]
        },
        {
          "metadata": {
            "tags": null
          },
          "name": "stdout",
          "output_type": "stream",
          "text": [
            "\n",
            "0: 384x640 5 cars, 2 trucks, 283.0ms\n",
            "Speed: 2.5ms preprocess, 283.0ms inference, 2.6ms postprocess per image at shape (1, 3, 384, 640)\n"
          ]
        },
        {
          "metadata": {
            "tags": null
          },
          "name": "stderr",
          "output_type": "stream",
          "text": [
            "\r  6%|▌         | 31/508 [00:21<06:03,  1.31it/s]"
          ]
        },
        {
          "metadata": {
            "tags": null
          },
          "name": "stdout",
          "output_type": "stream",
          "text": [
            "\n",
            "0: 384x640 5 cars, 278.4ms\n",
            "Speed: 2.7ms preprocess, 278.4ms inference, 2.3ms postprocess per image at shape (1, 3, 384, 640)\n"
          ]
        },
        {
          "metadata": {
            "tags": null
          },
          "name": "stderr",
          "output_type": "stream",
          "text": [
            "\r  6%|▋         | 32/508 [00:22<06:07,  1.30it/s]"
          ]
        },
        {
          "metadata": {
            "tags": null
          },
          "name": "stdout",
          "output_type": "stream",
          "text": [
            "\n",
            "0: 384x640 6 cars, 303.8ms\n",
            "Speed: 3.2ms preprocess, 303.8ms inference, 2.2ms postprocess per image at shape (1, 3, 384, 640)\n"
          ]
        },
        {
          "metadata": {
            "tags": null
          },
          "name": "stderr",
          "output_type": "stream",
          "text": [
            "\r  6%|▋         | 33/508 [00:22<06:25,  1.23it/s]"
          ]
        },
        {
          "metadata": {
            "tags": null
          },
          "name": "stdout",
          "output_type": "stream",
          "text": [
            "\n",
            "0: 384x640 4 cars, 1 truck, 225.5ms\n",
            "Speed: 2.7ms preprocess, 225.5ms inference, 1.5ms postprocess per image at shape (1, 3, 384, 640)\n"
          ]
        },
        {
          "metadata": {
            "tags": null
          },
          "name": "stderr",
          "output_type": "stream",
          "text": [
            "\r  7%|▋         | 34/508 [00:23<05:50,  1.35it/s]"
          ]
        },
        {
          "metadata": {
            "tags": null
          },
          "name": "stdout",
          "output_type": "stream",
          "text": [
            "\n",
            "0: 384x640 5 cars, 2 trucks, 191.1ms\n",
            "Speed: 2.5ms preprocess, 191.1ms inference, 1.5ms postprocess per image at shape (1, 3, 384, 640)\n"
          ]
        },
        {
          "metadata": {
            "tags": null
          },
          "name": "stderr",
          "output_type": "stream",
          "text": [
            "\r  7%|▋         | 35/508 [00:24<05:33,  1.42it/s]"
          ]
        },
        {
          "metadata": {
            "tags": null
          },
          "name": "stdout",
          "output_type": "stream",
          "text": [
            "\n",
            "0: 384x640 3 cars, 1 truck, 199.5ms\n",
            "Speed: 4.8ms preprocess, 199.5ms inference, 1.5ms postprocess per image at shape (1, 3, 384, 640)\n"
          ]
        },
        {
          "metadata": {
            "tags": null
          },
          "name": "stderr",
          "output_type": "stream",
          "text": [
            "\r  7%|▋         | 36/508 [00:24<05:01,  1.56it/s]"
          ]
        },
        {
          "metadata": {
            "tags": null
          },
          "name": "stdout",
          "output_type": "stream",
          "text": [
            "\n",
            "0: 384x640 6 cars, 187.4ms\n",
            "Speed: 2.6ms preprocess, 187.4ms inference, 1.6ms postprocess per image at shape (1, 3, 384, 640)\n"
          ]
        },
        {
          "metadata": {
            "tags": null
          },
          "name": "stderr",
          "output_type": "stream",
          "text": [
            "\r  7%|▋         | 37/508 [00:25<04:50,  1.62it/s]"
          ]
        },
        {
          "metadata": {
            "tags": null
          },
          "name": "stdout",
          "output_type": "stream",
          "text": [
            "\n",
            "0: 384x640 7 cars, 211.5ms\n",
            "Speed: 2.5ms preprocess, 211.5ms inference, 1.8ms postprocess per image at shape (1, 3, 384, 640)\n"
          ]
        },
        {
          "metadata": {
            "tags": null
          },
          "name": "stderr",
          "output_type": "stream",
          "text": [
            "\r  7%|▋         | 38/508 [00:25<04:51,  1.61it/s]"
          ]
        },
        {
          "metadata": {
            "tags": null
          },
          "name": "stdout",
          "output_type": "stream",
          "text": [
            "\n",
            "0: 384x640 6 cars, 172.4ms\n",
            "Speed: 3.3ms preprocess, 172.4ms inference, 1.5ms postprocess per image at shape (1, 3, 384, 640)\n"
          ]
        },
        {
          "metadata": {
            "tags": null
          },
          "name": "stderr",
          "output_type": "stream",
          "text": [
            "\r  8%|▊         | 39/508 [00:26<04:43,  1.66it/s]"
          ]
        },
        {
          "metadata": {
            "tags": null
          },
          "name": "stdout",
          "output_type": "stream",
          "text": [
            "\n",
            "0: 384x640 5 cars, 204.2ms\n",
            "Speed: 8.3ms preprocess, 204.2ms inference, 1.5ms postprocess per image at shape (1, 3, 384, 640)\n"
          ]
        },
        {
          "metadata": {
            "tags": null
          },
          "name": "stderr",
          "output_type": "stream",
          "text": [
            "\r  8%|▊         | 40/508 [00:26<04:35,  1.70it/s]"
          ]
        },
        {
          "metadata": {
            "tags": null
          },
          "name": "stdout",
          "output_type": "stream",
          "text": [
            "\n",
            "0: 384x640 6 cars, 201.9ms\n",
            "Speed: 2.8ms preprocess, 201.9ms inference, 1.5ms postprocess per image at shape (1, 3, 384, 640)\n"
          ]
        },
        {
          "metadata": {
            "tags": null
          },
          "name": "stderr",
          "output_type": "stream",
          "text": [
            "\r  8%|▊         | 41/508 [00:27<04:37,  1.68it/s]"
          ]
        },
        {
          "metadata": {
            "tags": null
          },
          "name": "stdout",
          "output_type": "stream",
          "text": [
            "\n",
            "0: 384x640 8 cars, 218.2ms\n",
            "Speed: 2.6ms preprocess, 218.2ms inference, 1.6ms postprocess per image at shape (1, 3, 384, 640)\n"
          ]
        },
        {
          "metadata": {
            "tags": null
          },
          "name": "stderr",
          "output_type": "stream",
          "text": [
            "\r  8%|▊         | 42/508 [00:28<04:52,  1.59it/s]"
          ]
        },
        {
          "metadata": {
            "tags": null
          },
          "name": "stdout",
          "output_type": "stream",
          "text": [
            "\n",
            "0: 384x640 7 cars, 210.2ms\n",
            "Speed: 3.1ms preprocess, 210.2ms inference, 1.5ms postprocess per image at shape (1, 3, 384, 640)\n"
          ]
        },
        {
          "metadata": {
            "tags": null
          },
          "name": "stderr",
          "output_type": "stream",
          "text": [
            "\r  8%|▊         | 43/508 [00:28<04:52,  1.59it/s]"
          ]
        },
        {
          "metadata": {
            "tags": null
          },
          "name": "stdout",
          "output_type": "stream",
          "text": [
            "\n",
            "0: 384x640 7 cars, 192.3ms\n",
            "Speed: 3.1ms preprocess, 192.3ms inference, 1.5ms postprocess per image at shape (1, 3, 384, 640)\n"
          ]
        },
        {
          "metadata": {
            "tags": null
          },
          "name": "stderr",
          "output_type": "stream",
          "text": [
            "\r  9%|▊         | 44/508 [00:29<04:53,  1.58it/s]"
          ]
        },
        {
          "metadata": {
            "tags": null
          },
          "name": "stdout",
          "output_type": "stream",
          "text": [
            "\n",
            "0: 384x640 7 cars, 196.5ms\n",
            "Speed: 3.2ms preprocess, 196.5ms inference, 1.6ms postprocess per image at shape (1, 3, 384, 640)\n"
          ]
        },
        {
          "metadata": {
            "tags": null
          },
          "name": "stderr",
          "output_type": "stream",
          "text": [
            "\r  9%|▉         | 45/508 [00:30<04:51,  1.59it/s]"
          ]
        },
        {
          "metadata": {
            "tags": null
          },
          "name": "stdout",
          "output_type": "stream",
          "text": [
            "\n",
            "0: 384x640 7 cars, 186.2ms\n",
            "Speed: 2.6ms preprocess, 186.2ms inference, 1.5ms postprocess per image at shape (1, 3, 384, 640)\n"
          ]
        },
        {
          "metadata": {
            "tags": null
          },
          "name": "stderr",
          "output_type": "stream",
          "text": [
            "\r  9%|▉         | 46/508 [00:30<04:51,  1.59it/s]"
          ]
        },
        {
          "metadata": {
            "tags": null
          },
          "name": "stdout",
          "output_type": "stream",
          "text": [
            "\n",
            "0: 384x640 8 cars, 204.6ms\n",
            "Speed: 2.6ms preprocess, 204.6ms inference, 1.5ms postprocess per image at shape (1, 3, 384, 640)\n"
          ]
        },
        {
          "metadata": {
            "tags": null
          },
          "name": "stderr",
          "output_type": "stream",
          "text": [
            "\r  9%|▉         | 47/508 [00:31<04:59,  1.54it/s]"
          ]
        },
        {
          "metadata": {
            "tags": null
          },
          "name": "stdout",
          "output_type": "stream",
          "text": [
            "\n",
            "0: 384x640 6 cars, 223.5ms\n",
            "Speed: 3.4ms preprocess, 223.5ms inference, 1.5ms postprocess per image at shape (1, 3, 384, 640)\n"
          ]
        },
        {
          "metadata": {
            "tags": null
          },
          "name": "stderr",
          "output_type": "stream",
          "text": [
            "\r  9%|▉         | 48/508 [00:32<04:52,  1.57it/s]"
          ]
        },
        {
          "metadata": {
            "tags": null
          },
          "name": "stdout",
          "output_type": "stream",
          "text": [
            "\n",
            "0: 384x640 8 cars, 1 truck, 186.3ms\n",
            "Speed: 2.7ms preprocess, 186.3ms inference, 1.5ms postprocess per image at shape (1, 3, 384, 640)\n"
          ]
        },
        {
          "metadata": {
            "tags": null
          },
          "name": "stderr",
          "output_type": "stream",
          "text": [
            "\r 10%|▉         | 49/508 [00:32<05:09,  1.49it/s]"
          ]
        },
        {
          "metadata": {
            "tags": null
          },
          "name": "stdout",
          "output_type": "stream",
          "text": [
            "\n",
            "0: 384x640 7 cars, 2 trucks, 241.3ms\n",
            "Speed: 2.7ms preprocess, 241.3ms inference, 2.1ms postprocess per image at shape (1, 3, 384, 640)\n"
          ]
        },
        {
          "metadata": {
            "tags": null
          },
          "name": "stderr",
          "output_type": "stream",
          "text": [
            "\r 10%|▉         | 50/508 [00:33<06:07,  1.25it/s]"
          ]
        },
        {
          "metadata": {
            "tags": null
          },
          "name": "stdout",
          "output_type": "stream",
          "text": [
            "\n",
            "0: 384x640 7 cars, 1 truck, 289.6ms\n",
            "Speed: 2.6ms preprocess, 289.6ms inference, 2.0ms postprocess per image at shape (1, 3, 384, 640)\n"
          ]
        },
        {
          "metadata": {
            "tags": null
          },
          "name": "stderr",
          "output_type": "stream",
          "text": [
            "\r 10%|█         | 51/508 [00:35<06:36,  1.15it/s]"
          ]
        },
        {
          "metadata": {
            "tags": null
          },
          "name": "stdout",
          "output_type": "stream",
          "text": [
            "\n",
            "0: 384x640 7 cars, 267.1ms\n",
            "Speed: 2.6ms preprocess, 267.1ms inference, 2.5ms postprocess per image at shape (1, 3, 384, 640)\n"
          ]
        },
        {
          "metadata": {
            "tags": null
          },
          "name": "stderr",
          "output_type": "stream",
          "text": [
            "\r 10%|█         | 52/508 [00:35<06:48,  1.12it/s]"
          ]
        },
        {
          "metadata": {
            "tags": null
          },
          "name": "stdout",
          "output_type": "stream",
          "text": [
            "\n",
            "0: 384x640 6 cars, 298.2ms\n",
            "Speed: 5.6ms preprocess, 298.2ms inference, 2.1ms postprocess per image at shape (1, 3, 384, 640)\n"
          ]
        },
        {
          "metadata": {
            "tags": null
          },
          "name": "stderr",
          "output_type": "stream",
          "text": [
            "\r 10%|█         | 53/508 [00:36<06:54,  1.10it/s]"
          ]
        },
        {
          "metadata": {
            "tags": null
          },
          "name": "stdout",
          "output_type": "stream",
          "text": [
            "\n",
            "0: 384x640 6 cars, 246.3ms\n",
            "Speed: 4.5ms preprocess, 246.3ms inference, 1.6ms postprocess per image at shape (1, 3, 384, 640)\n"
          ]
        },
        {
          "metadata": {
            "tags": null
          },
          "name": "stderr",
          "output_type": "stream",
          "text": [
            "\r 11%|█         | 54/508 [00:37<06:16,  1.21it/s]"
          ]
        },
        {
          "metadata": {
            "tags": null
          },
          "name": "stdout",
          "output_type": "stream",
          "text": [
            "\n",
            "0: 384x640 8 cars, 200.5ms\n",
            "Speed: 5.3ms preprocess, 200.5ms inference, 2.5ms postprocess per image at shape (1, 3, 384, 640)\n"
          ]
        },
        {
          "metadata": {
            "tags": null
          },
          "name": "stderr",
          "output_type": "stream",
          "text": [
            "\r 11%|█         | 55/508 [00:38<05:58,  1.26it/s]"
          ]
        },
        {
          "metadata": {
            "tags": null
          },
          "name": "stdout",
          "output_type": "stream",
          "text": [
            "\n",
            "0: 384x640 4 cars, 201.9ms\n",
            "Speed: 2.7ms preprocess, 201.9ms inference, 1.5ms postprocess per image at shape (1, 3, 384, 640)\n"
          ]
        },
        {
          "metadata": {
            "tags": null
          },
          "name": "stderr",
          "output_type": "stream",
          "text": [
            "\r 11%|█         | 56/508 [00:38<05:15,  1.43it/s]"
          ]
        },
        {
          "metadata": {
            "tags": null
          },
          "name": "stdout",
          "output_type": "stream",
          "text": [
            "\n",
            "0: 384x640 5 cars, 237.2ms\n",
            "Speed: 2.6ms preprocess, 237.2ms inference, 1.5ms postprocess per image at shape (1, 3, 384, 640)\n"
          ]
        },
        {
          "metadata": {
            "tags": null
          },
          "name": "stderr",
          "output_type": "stream",
          "text": [
            "\r 11%|█         | 57/508 [00:39<04:58,  1.51it/s]"
          ]
        },
        {
          "metadata": {
            "tags": null
          },
          "name": "stdout",
          "output_type": "stream",
          "text": [
            "\n",
            "0: 384x640 7 cars, 1 truck, 212.0ms\n",
            "Speed: 2.9ms preprocess, 212.0ms inference, 1.5ms postprocess per image at shape (1, 3, 384, 640)\n"
          ]
        },
        {
          "metadata": {
            "tags": null
          },
          "name": "stderr",
          "output_type": "stream",
          "text": [
            "\r 11%|█▏        | 58/508 [00:40<05:07,  1.46it/s]"
          ]
        },
        {
          "metadata": {
            "tags": null
          },
          "name": "stdout",
          "output_type": "stream",
          "text": [
            "\n",
            "0: 384x640 7 cars, 177.6ms\n",
            "Speed: 2.5ms preprocess, 177.6ms inference, 1.5ms postprocess per image at shape (1, 3, 384, 640)\n"
          ]
        },
        {
          "metadata": {
            "tags": null
          },
          "name": "stderr",
          "output_type": "stream",
          "text": [
            "\r 12%|█▏        | 59/508 [00:40<04:58,  1.51it/s]"
          ]
        },
        {
          "metadata": {
            "tags": null
          },
          "name": "stdout",
          "output_type": "stream",
          "text": [
            "\n",
            "0: 384x640 5 cars, 180.5ms\n",
            "Speed: 3.6ms preprocess, 180.5ms inference, 1.5ms postprocess per image at shape (1, 3, 384, 640)\n"
          ]
        },
        {
          "metadata": {
            "tags": null
          },
          "name": "stderr",
          "output_type": "stream",
          "text": [
            "\r 12%|█▏        | 60/508 [00:41<04:41,  1.59it/s]"
          ]
        },
        {
          "metadata": {
            "tags": null
          },
          "name": "stdout",
          "output_type": "stream",
          "text": [
            "\n",
            "0: 384x640 5 cars, 1 truck, 242.0ms\n",
            "Speed: 3.2ms preprocess, 242.0ms inference, 1.7ms postprocess per image at shape (1, 3, 384, 640)\n"
          ]
        },
        {
          "metadata": {
            "tags": null
          },
          "name": "stderr",
          "output_type": "stream",
          "text": [
            "\r 12%|█▏        | 61/508 [00:41<04:43,  1.57it/s]"
          ]
        },
        {
          "metadata": {
            "tags": null
          },
          "name": "stdout",
          "output_type": "stream",
          "text": [
            "\n",
            "0: 384x640 5 cars, 235.4ms\n",
            "Speed: 2.8ms preprocess, 235.4ms inference, 1.6ms postprocess per image at shape (1, 3, 384, 640)\n"
          ]
        },
        {
          "metadata": {
            "tags": null
          },
          "name": "stderr",
          "output_type": "stream",
          "text": [
            "\r 12%|█▏        | 62/508 [00:42<04:35,  1.62it/s]"
          ]
        },
        {
          "metadata": {
            "tags": null
          },
          "name": "stdout",
          "output_type": "stream",
          "text": [
            "\n",
            "0: 384x640 4 cars, 1 truck, 201.6ms\n",
            "Speed: 2.8ms preprocess, 201.6ms inference, 1.5ms postprocess per image at shape (1, 3, 384, 640)\n"
          ]
        },
        {
          "metadata": {
            "tags": null
          },
          "name": "stderr",
          "output_type": "stream",
          "text": [
            "\r 12%|█▏        | 63/508 [00:42<04:25,  1.68it/s]"
          ]
        },
        {
          "metadata": {
            "tags": null
          },
          "name": "stdout",
          "output_type": "stream",
          "text": [
            "\n",
            "0: 384x640 5 cars, 1 truck, 202.1ms\n",
            "Speed: 3.6ms preprocess, 202.1ms inference, 1.5ms postprocess per image at shape (1, 3, 384, 640)\n"
          ]
        },
        {
          "metadata": {
            "tags": null
          },
          "name": "stderr",
          "output_type": "stream",
          "text": [
            "\r 13%|█▎        | 64/508 [00:43<04:25,  1.67it/s]"
          ]
        },
        {
          "metadata": {
            "tags": null
          },
          "name": "stdout",
          "output_type": "stream",
          "text": [
            "\n",
            "0: 384x640 6 cars, 1 truck, 219.9ms\n",
            "Speed: 2.7ms preprocess, 219.9ms inference, 1.7ms postprocess per image at shape (1, 3, 384, 640)\n"
          ]
        },
        {
          "metadata": {
            "tags": null
          },
          "name": "stderr",
          "output_type": "stream",
          "text": [
            "\r 13%|█▎        | 65/508 [00:44<04:34,  1.61it/s]"
          ]
        },
        {
          "metadata": {
            "tags": null
          },
          "name": "stdout",
          "output_type": "stream",
          "text": [
            "\n",
            "0: 384x640 6 cars, 222.8ms\n",
            "Speed: 2.8ms preprocess, 222.8ms inference, 1.9ms postprocess per image at shape (1, 3, 384, 640)\n"
          ]
        },
        {
          "metadata": {
            "tags": null
          },
          "name": "stderr",
          "output_type": "stream",
          "text": [
            "\r 13%|█▎        | 66/508 [00:44<04:31,  1.63it/s]"
          ]
        },
        {
          "metadata": {
            "tags": null
          },
          "name": "stdout",
          "output_type": "stream",
          "text": [
            "\n",
            "0: 384x640 5 cars, 1 truck, 197.0ms\n",
            "Speed: 2.9ms preprocess, 197.0ms inference, 1.7ms postprocess per image at shape (1, 3, 384, 640)\n"
          ]
        },
        {
          "metadata": {
            "tags": null
          },
          "name": "stderr",
          "output_type": "stream",
          "text": [
            "\r 13%|█▎        | 67/508 [00:45<04:26,  1.66it/s]"
          ]
        },
        {
          "metadata": {
            "tags": null
          },
          "name": "stdout",
          "output_type": "stream",
          "text": [
            "\n",
            "0: 384x640 4 cars, 2 trucks, 190.8ms\n",
            "Speed: 2.9ms preprocess, 190.8ms inference, 1.6ms postprocess per image at shape (1, 3, 384, 640)\n"
          ]
        },
        {
          "metadata": {
            "tags": null
          },
          "name": "stderr",
          "output_type": "stream",
          "text": [
            "\r 13%|█▎        | 68/508 [00:46<04:22,  1.68it/s]"
          ]
        },
        {
          "metadata": {
            "tags": null
          },
          "name": "stdout",
          "output_type": "stream",
          "text": [
            "\n",
            "0: 384x640 5 cars, 2 trucks, 204.6ms\n",
            "Speed: 4.2ms preprocess, 204.6ms inference, 1.5ms postprocess per image at shape (1, 3, 384, 640)\n"
          ]
        },
        {
          "metadata": {
            "tags": null
          },
          "name": "stderr",
          "output_type": "stream",
          "text": [
            "\r 14%|█▎        | 69/508 [00:46<04:27,  1.64it/s]"
          ]
        },
        {
          "metadata": {
            "tags": null
          },
          "name": "stdout",
          "output_type": "stream",
          "text": [
            "\n",
            "0: 384x640 6 cars, 2 trucks, 198.8ms\n",
            "Speed: 3.3ms preprocess, 198.8ms inference, 1.5ms postprocess per image at shape (1, 3, 384, 640)\n"
          ]
        },
        {
          "metadata": {
            "tags": null
          },
          "name": "stderr",
          "output_type": "stream",
          "text": [
            "\r 14%|█▍        | 70/508 [00:47<04:55,  1.48it/s]"
          ]
        },
        {
          "metadata": {
            "tags": null
          },
          "name": "stdout",
          "output_type": "stream",
          "text": [
            "\n",
            "0: 384x640 6 cars, 1 truck, 276.4ms\n",
            "Speed: 3.6ms preprocess, 276.4ms inference, 2.0ms postprocess per image at shape (1, 3, 384, 640)\n"
          ]
        },
        {
          "metadata": {
            "tags": null
          },
          "name": "stderr",
          "output_type": "stream",
          "text": [
            "\r 14%|█▍        | 71/508 [00:48<05:35,  1.30it/s]"
          ]
        },
        {
          "metadata": {
            "tags": null
          },
          "name": "stdout",
          "output_type": "stream",
          "text": [
            "\n",
            "0: 384x640 6 cars, 1 truck, 268.5ms\n",
            "Speed: 10.8ms preprocess, 268.5ms inference, 1.9ms postprocess per image at shape (1, 3, 384, 640)\n"
          ]
        },
        {
          "metadata": {
            "tags": null
          },
          "name": "stderr",
          "output_type": "stream",
          "text": [
            "\r 14%|█▍        | 72/508 [00:49<06:06,  1.19it/s]"
          ]
        },
        {
          "metadata": {
            "tags": null
          },
          "name": "stdout",
          "output_type": "stream",
          "text": [
            "\n",
            "0: 384x640 6 cars, 292.7ms\n",
            "Speed: 4.5ms preprocess, 292.7ms inference, 2.1ms postprocess per image at shape (1, 3, 384, 640)\n"
          ]
        },
        {
          "metadata": {
            "tags": null
          },
          "name": "stderr",
          "output_type": "stream",
          "text": [
            "\r 14%|█▍        | 73/508 [00:50<06:26,  1.12it/s]"
          ]
        },
        {
          "metadata": {
            "tags": null
          },
          "name": "stdout",
          "output_type": "stream",
          "text": [
            "\n",
            "0: 384x640 7 cars, 258.2ms\n",
            "Speed: 7.9ms preprocess, 258.2ms inference, 2.3ms postprocess per image at shape (1, 3, 384, 640)\n"
          ]
        },
        {
          "metadata": {
            "tags": null
          },
          "name": "stderr",
          "output_type": "stream",
          "text": [
            "\r 15%|█▍        | 74/508 [00:51<06:12,  1.16it/s]"
          ]
        },
        {
          "metadata": {
            "tags": null
          },
          "name": "stdout",
          "output_type": "stream",
          "text": [
            "\n",
            "0: 384x640 7 cars, 205.8ms\n",
            "Speed: 2.5ms preprocess, 205.8ms inference, 3.7ms postprocess per image at shape (1, 3, 384, 640)\n"
          ]
        },
        {
          "metadata": {
            "tags": null
          },
          "name": "stderr",
          "output_type": "stream",
          "text": [
            "\r 15%|█▍        | 75/508 [00:51<05:48,  1.24it/s]"
          ]
        },
        {
          "metadata": {
            "tags": null
          },
          "name": "stdout",
          "output_type": "stream",
          "text": [
            "\n",
            "0: 384x640 7 cars, 211.7ms\n",
            "Speed: 2.7ms preprocess, 211.7ms inference, 1.6ms postprocess per image at shape (1, 3, 384, 640)\n"
          ]
        },
        {
          "metadata": {
            "tags": null
          },
          "name": "stderr",
          "output_type": "stream",
          "text": [
            "\r 15%|█▍        | 76/508 [00:52<05:30,  1.31it/s]"
          ]
        },
        {
          "metadata": {
            "tags": null
          },
          "name": "stdout",
          "output_type": "stream",
          "text": [
            "\n",
            "0: 384x640 7 cars, 219.5ms\n",
            "Speed: 5.6ms preprocess, 219.5ms inference, 1.5ms postprocess per image at shape (1, 3, 384, 640)\n"
          ]
        },
        {
          "metadata": {
            "tags": null
          },
          "name": "stderr",
          "output_type": "stream",
          "text": [
            "\r 15%|█▌        | 77/508 [00:53<05:17,  1.36it/s]"
          ]
        },
        {
          "metadata": {
            "tags": null
          },
          "name": "stdout",
          "output_type": "stream",
          "text": [
            "\n",
            "0: 384x640 6 cars, 228.8ms\n",
            "Speed: 7.6ms preprocess, 228.8ms inference, 2.1ms postprocess per image at shape (1, 3, 384, 640)\n"
          ]
        },
        {
          "metadata": {
            "tags": null
          },
          "name": "stderr",
          "output_type": "stream",
          "text": [
            "\r 15%|█▌        | 78/508 [00:53<05:01,  1.43it/s]"
          ]
        },
        {
          "metadata": {
            "tags": null
          },
          "name": "stdout",
          "output_type": "stream",
          "text": [
            "\n",
            "0: 384x640 6 cars, 198.0ms\n",
            "Speed: 3.2ms preprocess, 198.0ms inference, 1.6ms postprocess per image at shape (1, 3, 384, 640)\n"
          ]
        },
        {
          "metadata": {
            "tags": null
          },
          "name": "stderr",
          "output_type": "stream",
          "text": [
            "\r 16%|█▌        | 79/508 [00:54<04:46,  1.50it/s]"
          ]
        },
        {
          "metadata": {
            "tags": null
          },
          "name": "stdout",
          "output_type": "stream",
          "text": [
            "\n",
            "0: 384x640 7 cars, 1 truck, 216.0ms\n",
            "Speed: 2.6ms preprocess, 216.0ms inference, 1.5ms postprocess per image at shape (1, 3, 384, 640)\n"
          ]
        },
        {
          "metadata": {
            "tags": null
          },
          "name": "stderr",
          "output_type": "stream",
          "text": [
            "\r 16%|█▌        | 80/508 [00:55<04:50,  1.47it/s]"
          ]
        },
        {
          "metadata": {
            "tags": null
          },
          "name": "stdout",
          "output_type": "stream",
          "text": [
            "\n",
            "0: 384x640 7 cars, 1 truck, 188.9ms\n",
            "Speed: 2.5ms preprocess, 188.9ms inference, 1.5ms postprocess per image at shape (1, 3, 384, 640)\n"
          ]
        },
        {
          "metadata": {
            "tags": null
          },
          "name": "stderr",
          "output_type": "stream",
          "text": [
            "\r 16%|█▌        | 81/508 [00:55<04:52,  1.46it/s]"
          ]
        },
        {
          "metadata": {
            "tags": null
          },
          "name": "stdout",
          "output_type": "stream",
          "text": [
            "\n",
            "0: 384x640 7 cars, 2 trucks, 196.0ms\n",
            "Speed: 2.9ms preprocess, 196.0ms inference, 1.6ms postprocess per image at shape (1, 3, 384, 640)\n"
          ]
        },
        {
          "metadata": {
            "tags": null
          },
          "name": "stderr",
          "output_type": "stream",
          "text": [
            "\r 16%|█▌        | 82/508 [00:56<05:03,  1.40it/s]"
          ]
        },
        {
          "metadata": {
            "tags": null
          },
          "name": "stdout",
          "output_type": "stream",
          "text": [
            "\n",
            "0: 384x640 7 cars, 1 truck, 188.0ms\n",
            "Speed: 2.9ms preprocess, 188.0ms inference, 1.6ms postprocess per image at shape (1, 3, 384, 640)\n"
          ]
        },
        {
          "metadata": {
            "tags": null
          },
          "name": "stderr",
          "output_type": "stream",
          "text": [
            "\r 16%|█▋        | 83/508 [00:57<05:00,  1.42it/s]"
          ]
        },
        {
          "metadata": {
            "tags": null
          },
          "name": "stdout",
          "output_type": "stream",
          "text": [
            "\n",
            "0: 384x640 9 cars, 1 truck, 204.6ms\n",
            "Speed: 3.4ms preprocess, 204.6ms inference, 1.6ms postprocess per image at shape (1, 3, 384, 640)\n"
          ]
        },
        {
          "metadata": {
            "tags": null
          },
          "name": "stderr",
          "output_type": "stream",
          "text": [
            "\r 17%|█▋        | 84/508 [00:58<05:13,  1.35it/s]"
          ]
        },
        {
          "metadata": {
            "tags": null
          },
          "name": "stdout",
          "output_type": "stream",
          "text": [
            "\n",
            "0: 384x640 8 cars, 1 truck, 189.0ms\n",
            "Speed: 2.6ms preprocess, 189.0ms inference, 1.6ms postprocess per image at shape (1, 3, 384, 640)\n"
          ]
        },
        {
          "metadata": {
            "tags": null
          },
          "name": "stderr",
          "output_type": "stream",
          "text": [
            "\r 17%|█▋        | 85/508 [00:58<05:16,  1.34it/s]"
          ]
        },
        {
          "metadata": {
            "tags": null
          },
          "name": "stdout",
          "output_type": "stream",
          "text": [
            "\n",
            "0: 384x640 7 cars, 1 truck, 190.5ms\n",
            "Speed: 3.5ms preprocess, 190.5ms inference, 1.6ms postprocess per image at shape (1, 3, 384, 640)\n"
          ]
        },
        {
          "metadata": {
            "tags": null
          },
          "name": "stderr",
          "output_type": "stream",
          "text": [
            "\r 17%|█▋        | 86/508 [00:59<05:08,  1.37it/s]"
          ]
        },
        {
          "metadata": {
            "tags": null
          },
          "name": "stdout",
          "output_type": "stream",
          "text": [
            "\n",
            "0: 384x640 6 cars, 196.3ms\n",
            "Speed: 2.7ms preprocess, 196.3ms inference, 1.6ms postprocess per image at shape (1, 3, 384, 640)\n"
          ]
        },
        {
          "metadata": {
            "tags": null
          },
          "name": "stderr",
          "output_type": "stream",
          "text": [
            "\r 17%|█▋        | 87/508 [01:00<04:49,  1.45it/s]"
          ]
        },
        {
          "metadata": {
            "tags": null
          },
          "name": "stdout",
          "output_type": "stream",
          "text": [
            "\n",
            "0: 384x640 7 cars, 193.9ms\n",
            "Speed: 2.6ms preprocess, 193.9ms inference, 1.9ms postprocess per image at shape (1, 3, 384, 640)\n"
          ]
        },
        {
          "metadata": {
            "tags": null
          },
          "name": "stderr",
          "output_type": "stream",
          "text": [
            "\r 17%|█▋        | 88/508 [01:00<04:44,  1.48it/s]"
          ]
        },
        {
          "metadata": {
            "tags": null
          },
          "name": "stdout",
          "output_type": "stream",
          "text": [
            "\n",
            "0: 384x640 7 cars, 282.3ms\n",
            "Speed: 2.7ms preprocess, 282.3ms inference, 2.3ms postprocess per image at shape (1, 3, 384, 640)\n"
          ]
        },
        {
          "metadata": {
            "tags": null
          },
          "name": "stderr",
          "output_type": "stream",
          "text": [
            "\r 18%|█▊        | 89/508 [01:01<05:21,  1.30it/s]"
          ]
        },
        {
          "metadata": {
            "tags": null
          },
          "name": "stdout",
          "output_type": "stream",
          "text": [
            "\n",
            "0: 384x640 7 cars, 281.3ms\n",
            "Speed: 2.7ms preprocess, 281.3ms inference, 2.0ms postprocess per image at shape (1, 3, 384, 640)\n"
          ]
        },
        {
          "metadata": {
            "tags": null
          },
          "name": "stderr",
          "output_type": "stream",
          "text": [
            "\r 18%|█▊        | 90/508 [01:02<05:40,  1.23it/s]"
          ]
        },
        {
          "metadata": {
            "tags": null
          },
          "name": "stdout",
          "output_type": "stream",
          "text": [
            "\n",
            "0: 384x640 7 cars, 1 truck, 289.3ms\n",
            "Speed: 5.7ms preprocess, 289.3ms inference, 2.0ms postprocess per image at shape (1, 3, 384, 640)\n"
          ]
        },
        {
          "metadata": {
            "tags": null
          },
          "name": "stderr",
          "output_type": "stream",
          "text": [
            "\r 18%|█▊        | 91/508 [01:03<06:15,  1.11it/s]"
          ]
        },
        {
          "metadata": {
            "tags": null
          },
          "name": "stdout",
          "output_type": "stream",
          "text": [
            "\n",
            "0: 384x640 8 cars, 306.6ms\n",
            "Speed: 5.2ms preprocess, 306.6ms inference, 2.1ms postprocess per image at shape (1, 3, 384, 640)\n"
          ]
        },
        {
          "metadata": {
            "tags": null
          },
          "name": "stderr",
          "output_type": "stream",
          "text": [
            "\r 18%|█▊        | 92/508 [01:04<06:31,  1.06it/s]"
          ]
        },
        {
          "metadata": {
            "tags": null
          },
          "name": "stdout",
          "output_type": "stream",
          "text": [
            "\n",
            "0: 384x640 8 cars, 2 trucks, 197.6ms\n",
            "Speed: 3.5ms preprocess, 197.6ms inference, 1.6ms postprocess per image at shape (1, 3, 384, 640)\n"
          ]
        },
        {
          "metadata": {
            "tags": null
          },
          "name": "stderr",
          "output_type": "stream",
          "text": [
            "\r 18%|█▊        | 93/508 [01:05<06:13,  1.11it/s]"
          ]
        },
        {
          "metadata": {
            "tags": null
          },
          "name": "stdout",
          "output_type": "stream",
          "text": [
            "\n",
            "0: 384x640 7 cars, 2 trucks, 192.5ms\n",
            "Speed: 3.1ms preprocess, 192.5ms inference, 1.7ms postprocess per image at shape (1, 3, 384, 640)\n"
          ]
        },
        {
          "metadata": {
            "tags": null
          },
          "name": "stderr",
          "output_type": "stream",
          "text": [
            "\r 19%|█▊        | 94/508 [01:06<05:54,  1.17it/s]"
          ]
        },
        {
          "metadata": {
            "tags": null
          },
          "name": "stdout",
          "output_type": "stream",
          "text": [
            "\n",
            "0: 384x640 8 cars, 2 trucks, 196.6ms\n",
            "Speed: 5.3ms preprocess, 196.6ms inference, 1.6ms postprocess per image at shape (1, 3, 384, 640)\n"
          ]
        },
        {
          "metadata": {
            "tags": null
          },
          "name": "stderr",
          "output_type": "stream",
          "text": [
            "\r 19%|█▊        | 95/508 [01:07<05:47,  1.19it/s]"
          ]
        },
        {
          "metadata": {
            "tags": null
          },
          "name": "stdout",
          "output_type": "stream",
          "text": [
            "\n",
            "0: 384x640 8 cars, 1 truck, 194.5ms\n",
            "Speed: 7.1ms preprocess, 194.5ms inference, 1.5ms postprocess per image at shape (1, 3, 384, 640)\n"
          ]
        },
        {
          "metadata": {
            "tags": null
          },
          "name": "stderr",
          "output_type": "stream",
          "text": [
            "\r 19%|█▉        | 96/508 [01:08<05:35,  1.23it/s]"
          ]
        },
        {
          "metadata": {
            "tags": null
          },
          "name": "stdout",
          "output_type": "stream",
          "text": [
            "\n",
            "0: 384x640 8 cars, 1 truck, 216.7ms\n",
            "Speed: 4.7ms preprocess, 216.7ms inference, 1.6ms postprocess per image at shape (1, 3, 384, 640)\n"
          ]
        },
        {
          "metadata": {
            "tags": null
          },
          "name": "stderr",
          "output_type": "stream",
          "text": [
            "\r 19%|█▉        | 97/508 [01:08<05:32,  1.24it/s]"
          ]
        },
        {
          "metadata": {
            "tags": null
          },
          "name": "stdout",
          "output_type": "stream",
          "text": [
            "\n",
            "0: 384x640 8 cars, 204.2ms\n",
            "Speed: 5.5ms preprocess, 204.2ms inference, 1.7ms postprocess per image at shape (1, 3, 384, 640)\n"
          ]
        },
        {
          "metadata": {
            "tags": null
          },
          "name": "stderr",
          "output_type": "stream",
          "text": [
            "\r 19%|█▉        | 98/508 [01:09<05:18,  1.29it/s]"
          ]
        },
        {
          "metadata": {
            "tags": null
          },
          "name": "stdout",
          "output_type": "stream",
          "text": [
            "\n",
            "0: 384x640 6 cars, 1 truck, 186.2ms\n",
            "Speed: 2.5ms preprocess, 186.2ms inference, 1.5ms postprocess per image at shape (1, 3, 384, 640)\n"
          ]
        },
        {
          "metadata": {
            "tags": null
          },
          "name": "stderr",
          "output_type": "stream",
          "text": [
            "\r 19%|█▉        | 99/508 [01:10<04:58,  1.37it/s]"
          ]
        },
        {
          "metadata": {
            "tags": null
          },
          "name": "stdout",
          "output_type": "stream",
          "text": [
            "\n",
            "0: 384x640 7 cars, 1 truck, 214.9ms\n",
            "Speed: 3.3ms preprocess, 214.9ms inference, 1.8ms postprocess per image at shape (1, 3, 384, 640)\n"
          ]
        },
        {
          "metadata": {
            "tags": null
          },
          "name": "stderr",
          "output_type": "stream",
          "text": [
            "\r 20%|█▉        | 100/508 [01:10<04:58,  1.37it/s]"
          ]
        },
        {
          "metadata": {
            "tags": null
          },
          "name": "stdout",
          "output_type": "stream",
          "text": [
            "\n",
            "0: 384x640 7 cars, 1 truck, 203.6ms\n",
            "Speed: 3.9ms preprocess, 203.6ms inference, 1.8ms postprocess per image at shape (1, 3, 384, 640)\n"
          ]
        },
        {
          "metadata": {
            "tags": null
          },
          "name": "stderr",
          "output_type": "stream",
          "text": [
            "\r 20%|█▉        | 101/508 [01:11<04:58,  1.36it/s]"
          ]
        },
        {
          "metadata": {
            "tags": null
          },
          "name": "stdout",
          "output_type": "stream",
          "text": [
            "\n",
            "0: 384x640 8 cars, 210.0ms\n",
            "Speed: 7.1ms preprocess, 210.0ms inference, 1.5ms postprocess per image at shape (1, 3, 384, 640)\n"
          ]
        },
        {
          "metadata": {
            "tags": null
          },
          "name": "stderr",
          "output_type": "stream",
          "text": [
            "\r 20%|██        | 102/508 [01:12<04:56,  1.37it/s]"
          ]
        },
        {
          "metadata": {
            "tags": null
          },
          "name": "stdout",
          "output_type": "stream",
          "text": [
            "\n",
            "0: 384x640 8 cars, 237.1ms\n",
            "Speed: 2.8ms preprocess, 237.1ms inference, 1.7ms postprocess per image at shape (1, 3, 384, 640)\n"
          ]
        },
        {
          "metadata": {
            "tags": null
          },
          "name": "stderr",
          "output_type": "stream",
          "text": [
            "\r 20%|██        | 103/508 [01:13<04:55,  1.37it/s]"
          ]
        },
        {
          "metadata": {
            "tags": null
          },
          "name": "stdout",
          "output_type": "stream",
          "text": [
            "\n",
            "0: 384x640 10 cars, 193.3ms\n",
            "Speed: 2.8ms preprocess, 193.3ms inference, 1.5ms postprocess per image at shape (1, 3, 384, 640)\n"
          ]
        },
        {
          "metadata": {
            "tags": null
          },
          "name": "stderr",
          "output_type": "stream",
          "text": [
            "\r 20%|██        | 104/508 [01:13<05:02,  1.34it/s]"
          ]
        },
        {
          "metadata": {
            "tags": null
          },
          "name": "stdout",
          "output_type": "stream",
          "text": [
            "\n",
            "0: 384x640 7 cars, 1 truck, 201.9ms\n",
            "Speed: 2.9ms preprocess, 201.9ms inference, 1.6ms postprocess per image at shape (1, 3, 384, 640)\n"
          ]
        },
        {
          "metadata": {
            "tags": null
          },
          "name": "stderr",
          "output_type": "stream",
          "text": [
            "\r 21%|██        | 105/508 [01:14<04:57,  1.35it/s]"
          ]
        },
        {
          "metadata": {
            "tags": null
          },
          "name": "stdout",
          "output_type": "stream",
          "text": [
            "\n",
            "0: 384x640 7 cars, 1 truck, 183.7ms\n",
            "Speed: 2.5ms preprocess, 183.7ms inference, 1.5ms postprocess per image at shape (1, 3, 384, 640)\n"
          ]
        },
        {
          "metadata": {
            "tags": null
          },
          "name": "stderr",
          "output_type": "stream",
          "text": [
            "\r 21%|██        | 106/508 [01:15<05:20,  1.25it/s]"
          ]
        },
        {
          "metadata": {
            "tags": null
          },
          "name": "stdout",
          "output_type": "stream",
          "text": [
            "\n",
            "0: 384x640 7 cars, 1 truck, 271.4ms\n",
            "Speed: 4.5ms preprocess, 271.4ms inference, 2.4ms postprocess per image at shape (1, 3, 384, 640)\n"
          ]
        },
        {
          "metadata": {
            "tags": null
          },
          "name": "stderr",
          "output_type": "stream",
          "text": [
            "\r 21%|██        | 107/508 [01:16<05:48,  1.15it/s]"
          ]
        },
        {
          "metadata": {
            "tags": null
          },
          "name": "stdout",
          "output_type": "stream",
          "text": [
            "\n",
            "0: 384x640 5 cars, 277.4ms\n",
            "Speed: 2.6ms preprocess, 277.4ms inference, 2.1ms postprocess per image at shape (1, 3, 384, 640)\n"
          ]
        },
        {
          "metadata": {
            "tags": null
          },
          "name": "stderr",
          "output_type": "stream",
          "text": [
            "\r 21%|██▏       | 108/508 [01:17<05:38,  1.18it/s]"
          ]
        },
        {
          "metadata": {
            "tags": null
          },
          "name": "stdout",
          "output_type": "stream",
          "text": [
            "\n",
            "0: 384x640 5 cars, 306.7ms\n",
            "Speed: 2.6ms preprocess, 306.7ms inference, 2.1ms postprocess per image at shape (1, 3, 384, 640)\n"
          ]
        },
        {
          "metadata": {
            "tags": null
          },
          "name": "stderr",
          "output_type": "stream",
          "text": [
            "\r 21%|██▏       | 109/508 [01:18<05:45,  1.16it/s]"
          ]
        },
        {
          "metadata": {
            "tags": null
          },
          "name": "stdout",
          "output_type": "stream",
          "text": [
            "\n",
            "0: 384x640 6 cars, 292.9ms\n",
            "Speed: 5.1ms preprocess, 292.9ms inference, 2.3ms postprocess per image at shape (1, 3, 384, 640)\n"
          ]
        },
        {
          "metadata": {
            "tags": null
          },
          "name": "stderr",
          "output_type": "stream",
          "text": [
            "\r 22%|██▏       | 110/508 [01:19<05:35,  1.19it/s]"
          ]
        },
        {
          "metadata": {
            "tags": null
          },
          "name": "stdout",
          "output_type": "stream",
          "text": [
            "\n",
            "0: 384x640 5 cars, 1 truck, 185.0ms\n",
            "Speed: 2.6ms preprocess, 185.0ms inference, 1.5ms postprocess per image at shape (1, 3, 384, 640)\n"
          ]
        },
        {
          "metadata": {
            "tags": null
          },
          "name": "stderr",
          "output_type": "stream",
          "text": [
            "\r 22%|██▏       | 111/508 [01:19<05:04,  1.30it/s]"
          ]
        },
        {
          "metadata": {
            "tags": null
          },
          "name": "stdout",
          "output_type": "stream",
          "text": [
            "\n",
            "0: 384x640 7 cars, 213.4ms\n",
            "Speed: 12.4ms preprocess, 213.4ms inference, 1.5ms postprocess per image at shape (1, 3, 384, 640)\n"
          ]
        },
        {
          "metadata": {
            "tags": null
          },
          "name": "stderr",
          "output_type": "stream",
          "text": [
            "\r 22%|██▏       | 112/508 [01:20<04:52,  1.35it/s]"
          ]
        },
        {
          "metadata": {
            "tags": null
          },
          "name": "stdout",
          "output_type": "stream",
          "text": [
            "\n",
            "0: 384x640 7 cars, 215.5ms\n",
            "Speed: 5.3ms preprocess, 215.5ms inference, 1.6ms postprocess per image at shape (1, 3, 384, 640)\n"
          ]
        },
        {
          "metadata": {
            "tags": null
          },
          "name": "stderr",
          "output_type": "stream",
          "text": [
            "\r 22%|██▏       | 113/508 [01:21<04:44,  1.39it/s]"
          ]
        },
        {
          "metadata": {
            "tags": null
          },
          "name": "stdout",
          "output_type": "stream",
          "text": [
            "\n",
            "0: 384x640 7 cars, 223.2ms\n",
            "Speed: 6.8ms preprocess, 223.2ms inference, 1.7ms postprocess per image at shape (1, 3, 384, 640)\n"
          ]
        },
        {
          "metadata": {
            "tags": null
          },
          "name": "stderr",
          "output_type": "stream",
          "text": [
            "\r 22%|██▏       | 114/508 [01:21<04:39,  1.41it/s]"
          ]
        },
        {
          "metadata": {
            "tags": null
          },
          "name": "stdout",
          "output_type": "stream",
          "text": [
            "\n",
            "0: 384x640 8 cars, 213.1ms\n",
            "Speed: 2.7ms preprocess, 213.1ms inference, 1.6ms postprocess per image at shape (1, 3, 384, 640)\n"
          ]
        },
        {
          "metadata": {
            "tags": null
          },
          "name": "stderr",
          "output_type": "stream",
          "text": [
            "\r 23%|██▎       | 115/508 [01:22<04:39,  1.41it/s]"
          ]
        },
        {
          "metadata": {
            "tags": null
          },
          "name": "stdout",
          "output_type": "stream",
          "text": [
            "\n",
            "0: 384x640 8 cars, 203.9ms\n",
            "Speed: 2.6ms preprocess, 203.9ms inference, 1.7ms postprocess per image at shape (1, 3, 384, 640)\n"
          ]
        },
        {
          "metadata": {
            "tags": null
          },
          "name": "stderr",
          "output_type": "stream",
          "text": [
            "\r 23%|██▎       | 116/508 [01:23<04:37,  1.41it/s]"
          ]
        },
        {
          "metadata": {
            "tags": null
          },
          "name": "stdout",
          "output_type": "stream",
          "text": [
            "\n",
            "0: 384x640 6 cars, 191.6ms\n",
            "Speed: 2.6ms preprocess, 191.6ms inference, 1.7ms postprocess per image at shape (1, 3, 384, 640)\n"
          ]
        },
        {
          "metadata": {
            "tags": null
          },
          "name": "stderr",
          "output_type": "stream",
          "text": [
            "\r 23%|██▎       | 117/508 [01:23<04:22,  1.49it/s]"
          ]
        },
        {
          "metadata": {
            "tags": null
          },
          "name": "stdout",
          "output_type": "stream",
          "text": [
            "\n",
            "0: 384x640 6 cars, 197.5ms\n",
            "Speed: 2.8ms preprocess, 197.5ms inference, 1.7ms postprocess per image at shape (1, 3, 384, 640)\n"
          ]
        },
        {
          "metadata": {
            "tags": null
          },
          "name": "stderr",
          "output_type": "stream",
          "text": [
            "\r 23%|██▎       | 118/508 [01:24<04:10,  1.56it/s]"
          ]
        },
        {
          "metadata": {
            "tags": null
          },
          "name": "stdout",
          "output_type": "stream",
          "text": [
            "\n",
            "0: 384x640 8 cars, 195.6ms\n",
            "Speed: 3.6ms preprocess, 195.6ms inference, 1.6ms postprocess per image at shape (1, 3, 384, 640)\n"
          ]
        },
        {
          "metadata": {
            "tags": null
          },
          "name": "stderr",
          "output_type": "stream",
          "text": [
            "\r 23%|██▎       | 119/508 [01:24<04:17,  1.51it/s]"
          ]
        },
        {
          "metadata": {
            "tags": null
          },
          "name": "stdout",
          "output_type": "stream",
          "text": [
            "\n",
            "0: 384x640 5 cars, 214.2ms\n",
            "Speed: 2.6ms preprocess, 214.2ms inference, 1.6ms postprocess per image at shape (1, 3, 384, 640)\n"
          ]
        },
        {
          "metadata": {
            "tags": null
          },
          "name": "stderr",
          "output_type": "stream",
          "text": [
            "\r 24%|██▎       | 120/508 [01:25<04:08,  1.56it/s]"
          ]
        },
        {
          "metadata": {
            "tags": null
          },
          "name": "stdout",
          "output_type": "stream",
          "text": [
            "\n",
            "0: 384x640 7 cars, 213.0ms\n",
            "Speed: 5.5ms preprocess, 213.0ms inference, 1.5ms postprocess per image at shape (1, 3, 384, 640)\n"
          ]
        },
        {
          "metadata": {
            "tags": null
          },
          "name": "stderr",
          "output_type": "stream",
          "text": [
            "\r 24%|██▍       | 121/508 [01:26<04:11,  1.54it/s]"
          ]
        },
        {
          "metadata": {
            "tags": null
          },
          "name": "stdout",
          "output_type": "stream",
          "text": [
            "\n",
            "0: 384x640 6 cars, 1 truck, 210.9ms\n",
            "Speed: 3.4ms preprocess, 210.9ms inference, 2.1ms postprocess per image at shape (1, 3, 384, 640)\n"
          ]
        },
        {
          "metadata": {
            "tags": null
          },
          "name": "stderr",
          "output_type": "stream",
          "text": [
            "\r 24%|██▍       | 122/508 [01:26<04:14,  1.52it/s]"
          ]
        },
        {
          "metadata": {
            "tags": null
          },
          "name": "stdout",
          "output_type": "stream",
          "text": [
            "\n",
            "0: 384x640 7 cars, 1 truck, 209.4ms\n",
            "Speed: 6.5ms preprocess, 209.4ms inference, 1.5ms postprocess per image at shape (1, 3, 384, 640)\n"
          ]
        },
        {
          "metadata": {
            "tags": null
          },
          "name": "stderr",
          "output_type": "stream",
          "text": [
            "\r 24%|██▍       | 123/508 [01:27<04:21,  1.47it/s]"
          ]
        },
        {
          "metadata": {
            "tags": null
          },
          "name": "stdout",
          "output_type": "stream",
          "text": [
            "\n",
            "0: 384x640 7 cars, 1 truck, 205.7ms\n",
            "Speed: 6.5ms preprocess, 205.7ms inference, 1.5ms postprocess per image at shape (1, 3, 384, 640)\n"
          ]
        },
        {
          "metadata": {
            "tags": null
          },
          "name": "stderr",
          "output_type": "stream",
          "text": [
            "\r 24%|██▍       | 124/508 [01:28<04:26,  1.44it/s]"
          ]
        },
        {
          "metadata": {
            "tags": null
          },
          "name": "stdout",
          "output_type": "stream",
          "text": [
            "\n",
            "0: 384x640 6 cars, 1 truck, 210.2ms\n",
            "Speed: 6.6ms preprocess, 210.2ms inference, 1.5ms postprocess per image at shape (1, 3, 384, 640)\n"
          ]
        },
        {
          "metadata": {
            "tags": null
          },
          "name": "stderr",
          "output_type": "stream",
          "text": [
            "\r 25%|██▍       | 125/508 [01:29<04:42,  1.36it/s]"
          ]
        },
        {
          "metadata": {
            "tags": null
          },
          "name": "stdout",
          "output_type": "stream",
          "text": [
            "\n",
            "0: 384x640 7 cars, 1 truck, 277.6ms\n",
            "Speed: 10.1ms preprocess, 277.6ms inference, 2.3ms postprocess per image at shape (1, 3, 384, 640)\n"
          ]
        },
        {
          "metadata": {
            "tags": null
          },
          "name": "stderr",
          "output_type": "stream",
          "text": [
            "\r 25%|██▍       | 126/508 [01:30<05:29,  1.16it/s]"
          ]
        },
        {
          "metadata": {
            "tags": null
          },
          "name": "stdout",
          "output_type": "stream",
          "text": [
            "\n",
            "0: 384x640 8 cars, 2 trucks, 289.7ms\n",
            "Speed: 5.9ms preprocess, 289.7ms inference, 2.1ms postprocess per image at shape (1, 3, 384, 640)\n"
          ]
        },
        {
          "metadata": {
            "tags": null
          },
          "name": "stderr",
          "output_type": "stream",
          "text": [
            "\r 25%|██▌       | 127/508 [01:31<06:10,  1.03it/s]"
          ]
        },
        {
          "metadata": {
            "tags": null
          },
          "name": "stdout",
          "output_type": "stream",
          "text": [
            "\n",
            "0: 384x640 8 cars, 293.5ms\n",
            "Speed: 2.5ms preprocess, 293.5ms inference, 2.2ms postprocess per image at shape (1, 3, 384, 640)\n"
          ]
        },
        {
          "metadata": {
            "tags": null
          },
          "name": "stderr",
          "output_type": "stream",
          "text": [
            "\r 25%|██▌       | 128/508 [01:32<06:31,  1.03s/it]"
          ]
        },
        {
          "metadata": {
            "tags": null
          },
          "name": "stdout",
          "output_type": "stream",
          "text": [
            "\n",
            "0: 384x640 8 cars, 1 truck, 248.7ms\n",
            "Speed: 5.8ms preprocess, 248.7ms inference, 1.7ms postprocess per image at shape (1, 3, 384, 640)\n"
          ]
        },
        {
          "metadata": {
            "tags": null
          },
          "name": "stderr",
          "output_type": "stream",
          "text": [
            "\r 25%|██▌       | 129/508 [01:33<06:06,  1.03it/s]"
          ]
        },
        {
          "metadata": {
            "tags": null
          },
          "name": "stdout",
          "output_type": "stream",
          "text": [
            "\n",
            "0: 384x640 8 cars, 181.1ms\n",
            "Speed: 2.5ms preprocess, 181.1ms inference, 1.5ms postprocess per image at shape (1, 3, 384, 640)\n"
          ]
        },
        {
          "metadata": {
            "tags": null
          },
          "name": "stderr",
          "output_type": "stream",
          "text": [
            "\r 26%|██▌       | 130/508 [01:34<05:43,  1.10it/s]"
          ]
        },
        {
          "metadata": {
            "tags": null
          },
          "name": "stdout",
          "output_type": "stream",
          "text": [
            "\n",
            "0: 384x640 7 cars, 1 truck, 189.7ms\n",
            "Speed: 2.6ms preprocess, 189.7ms inference, 1.5ms postprocess per image at shape (1, 3, 384, 640)\n"
          ]
        },
        {
          "metadata": {
            "tags": null
          },
          "name": "stderr",
          "output_type": "stream",
          "text": [
            "\r 26%|██▌       | 131/508 [01:35<05:20,  1.18it/s]"
          ]
        },
        {
          "metadata": {
            "tags": null
          },
          "name": "stdout",
          "output_type": "stream",
          "text": [
            "\n",
            "0: 384x640 8 cars, 1 truck, 192.4ms\n",
            "Speed: 5.0ms preprocess, 192.4ms inference, 1.6ms postprocess per image at shape (1, 3, 384, 640)\n"
          ]
        },
        {
          "metadata": {
            "tags": null
          },
          "name": "stderr",
          "output_type": "stream",
          "text": [
            "\r 26%|██▌       | 132/508 [01:35<05:09,  1.21it/s]"
          ]
        },
        {
          "metadata": {
            "tags": null
          },
          "name": "stdout",
          "output_type": "stream",
          "text": [
            "\n",
            "0: 384x640 8 cars, 1 truck, 216.5ms\n",
            "Speed: 3.6ms preprocess, 216.5ms inference, 1.6ms postprocess per image at shape (1, 3, 384, 640)\n"
          ]
        },
        {
          "metadata": {
            "tags": null
          },
          "name": "stderr",
          "output_type": "stream",
          "text": [
            "\r 26%|██▌       | 133/508 [01:36<05:04,  1.23it/s]"
          ]
        },
        {
          "metadata": {
            "tags": null
          },
          "name": "stdout",
          "output_type": "stream",
          "text": [
            "\n",
            "0: 384x640 8 cars, 1 truck, 179.8ms\n",
            "Speed: 7.5ms preprocess, 179.8ms inference, 1.6ms postprocess per image at shape (1, 3, 384, 640)\n"
          ]
        },
        {
          "metadata": {
            "tags": null
          },
          "name": "stderr",
          "output_type": "stream",
          "text": [
            "\r 26%|██▋       | 134/508 [01:37<04:54,  1.27it/s]"
          ]
        },
        {
          "metadata": {
            "tags": null
          },
          "name": "stdout",
          "output_type": "stream",
          "text": [
            "\n",
            "0: 384x640 8 cars, 217.9ms\n",
            "Speed: 2.7ms preprocess, 217.9ms inference, 2.1ms postprocess per image at shape (1, 3, 384, 640)\n"
          ]
        },
        {
          "metadata": {
            "tags": null
          },
          "name": "stderr",
          "output_type": "stream",
          "text": [
            "\r 27%|██▋       | 135/508 [01:38<04:44,  1.31it/s]"
          ]
        },
        {
          "metadata": {
            "tags": null
          },
          "name": "stdout",
          "output_type": "stream",
          "text": [
            "\n",
            "0: 384x640 9 cars, 184.5ms\n",
            "Speed: 4.2ms preprocess, 184.5ms inference, 1.6ms postprocess per image at shape (1, 3, 384, 640)\n"
          ]
        },
        {
          "metadata": {
            "tags": null
          },
          "name": "stderr",
          "output_type": "stream",
          "text": [
            "\r 27%|██▋       | 136/508 [01:38<04:43,  1.31it/s]"
          ]
        },
        {
          "metadata": {
            "tags": null
          },
          "name": "stdout",
          "output_type": "stream",
          "text": [
            "\n",
            "0: 384x640 11 cars, 185.4ms\n",
            "Speed: 2.6ms preprocess, 185.4ms inference, 1.5ms postprocess per image at shape (1, 3, 384, 640)\n"
          ]
        },
        {
          "metadata": {
            "tags": null
          },
          "name": "stderr",
          "output_type": "stream",
          "text": [
            "\r 27%|██▋       | 137/508 [01:39<04:55,  1.25it/s]"
          ]
        },
        {
          "metadata": {
            "tags": null
          },
          "name": "stdout",
          "output_type": "stream",
          "text": [
            "\n",
            "0: 384x640 9 cars, 197.5ms\n",
            "Speed: 3.0ms preprocess, 197.5ms inference, 1.6ms postprocess per image at shape (1, 3, 384, 640)\n"
          ]
        },
        {
          "metadata": {
            "tags": null
          },
          "name": "stderr",
          "output_type": "stream",
          "text": [
            "\r 27%|██▋       | 138/508 [01:40<04:47,  1.29it/s]"
          ]
        },
        {
          "metadata": {
            "tags": null
          },
          "name": "stdout",
          "output_type": "stream",
          "text": [
            "\n",
            "0: 384x640 9 cars, 209.1ms\n",
            "Speed: 3.0ms preprocess, 209.1ms inference, 1.5ms postprocess per image at shape (1, 3, 384, 640)\n"
          ]
        },
        {
          "metadata": {
            "tags": null
          },
          "name": "stderr",
          "output_type": "stream",
          "text": [
            "\r 27%|██▋       | 139/508 [01:41<04:44,  1.30it/s]"
          ]
        },
        {
          "metadata": {
            "tags": null
          },
          "name": "stdout",
          "output_type": "stream",
          "text": [
            "\n",
            "0: 384x640 12 cars, 2 trucks, 187.3ms\n",
            "Speed: 2.6ms preprocess, 187.3ms inference, 1.6ms postprocess per image at shape (1, 3, 384, 640)\n"
          ]
        },
        {
          "metadata": {
            "tags": null
          },
          "name": "stderr",
          "output_type": "stream",
          "text": [
            "\r 28%|██▊       | 140/508 [01:42<05:13,  1.17it/s]"
          ]
        },
        {
          "metadata": {
            "tags": null
          },
          "name": "stdout",
          "output_type": "stream",
          "text": [
            "\n",
            "0: 384x640 8 cars, 1 truck, 192.2ms\n",
            "Speed: 2.9ms preprocess, 192.2ms inference, 1.7ms postprocess per image at shape (1, 3, 384, 640)\n"
          ]
        },
        {
          "metadata": {
            "tags": null
          },
          "name": "stderr",
          "output_type": "stream",
          "text": [
            "\r 28%|██▊       | 141/508 [01:42<05:03,  1.21it/s]"
          ]
        },
        {
          "metadata": {
            "tags": null
          },
          "name": "stdout",
          "output_type": "stream",
          "text": [
            "\n",
            "0: 384x640 7 cars, 311.9ms\n",
            "Speed: 11.9ms preprocess, 311.9ms inference, 2.3ms postprocess per image at shape (1, 3, 384, 640)\n"
          ]
        },
        {
          "metadata": {
            "tags": null
          },
          "name": "stderr",
          "output_type": "stream",
          "text": [
            "\r 28%|██▊       | 142/508 [01:44<05:23,  1.13it/s]"
          ]
        },
        {
          "metadata": {
            "tags": null
          },
          "name": "stdout",
          "output_type": "stream",
          "text": [
            "\n",
            "0: 384x640 6 cars, 1 truck, 278.8ms\n",
            "Speed: 5.9ms preprocess, 278.8ms inference, 2.0ms postprocess per image at shape (1, 3, 384, 640)\n"
          ]
        },
        {
          "metadata": {
            "tags": null
          },
          "name": "stderr",
          "output_type": "stream",
          "text": [
            "\r 28%|██▊       | 143/508 [01:44<05:35,  1.09it/s]"
          ]
        },
        {
          "metadata": {
            "tags": null
          },
          "name": "stdout",
          "output_type": "stream",
          "text": [
            "\n",
            "0: 384x640 8 cars, 283.6ms\n",
            "Speed: 5.0ms preprocess, 283.6ms inference, 2.3ms postprocess per image at shape (1, 3, 384, 640)\n"
          ]
        },
        {
          "metadata": {
            "tags": null
          },
          "name": "stderr",
          "output_type": "stream",
          "text": [
            "\r 28%|██▊       | 144/508 [01:46<05:57,  1.02it/s]"
          ]
        },
        {
          "metadata": {
            "tags": null
          },
          "name": "stdout",
          "output_type": "stream",
          "text": [
            "\n",
            "0: 384x640 6 cars, 309.1ms\n",
            "Speed: 2.6ms preprocess, 309.1ms inference, 2.2ms postprocess per image at shape (1, 3, 384, 640)\n"
          ]
        },
        {
          "metadata": {
            "tags": null
          },
          "name": "stderr",
          "output_type": "stream",
          "text": [
            "\r 29%|██▊       | 145/508 [01:47<05:45,  1.05it/s]"
          ]
        },
        {
          "metadata": {
            "tags": null
          },
          "name": "stdout",
          "output_type": "stream",
          "text": [
            "\n",
            "0: 384x640 6 cars, 1 truck, 189.4ms\n",
            "Speed: 2.9ms preprocess, 189.4ms inference, 1.7ms postprocess per image at shape (1, 3, 384, 640)\n"
          ]
        },
        {
          "metadata": {
            "tags": null
          },
          "name": "stderr",
          "output_type": "stream",
          "text": [
            "\r 29%|██▊       | 146/508 [01:47<05:08,  1.17it/s]"
          ]
        },
        {
          "metadata": {
            "tags": null
          },
          "name": "stdout",
          "output_type": "stream",
          "text": [
            "\n",
            "0: 384x640 6 cars, 1 truck, 190.8ms\n",
            "Speed: 3.1ms preprocess, 190.8ms inference, 1.5ms postprocess per image at shape (1, 3, 384, 640)\n"
          ]
        },
        {
          "metadata": {
            "tags": null
          },
          "name": "stderr",
          "output_type": "stream",
          "text": [
            "\r 29%|██▉       | 147/508 [01:48<04:43,  1.27it/s]"
          ]
        },
        {
          "metadata": {
            "tags": null
          },
          "name": "stdout",
          "output_type": "stream",
          "text": [
            "\n",
            "0: 384x640 8 cars, 1 truck, 197.4ms\n",
            "Speed: 4.2ms preprocess, 197.4ms inference, 1.5ms postprocess per image at shape (1, 3, 384, 640)\n"
          ]
        },
        {
          "metadata": {
            "tags": null
          },
          "name": "stderr",
          "output_type": "stream",
          "text": [
            "\r 29%|██▉       | 148/508 [01:49<04:39,  1.29it/s]"
          ]
        },
        {
          "metadata": {
            "tags": null
          },
          "name": "stdout",
          "output_type": "stream",
          "text": [
            "\n",
            "0: 384x640 5 cars, 1 truck, 198.6ms\n",
            "Speed: 2.5ms preprocess, 198.6ms inference, 1.5ms postprocess per image at shape (1, 3, 384, 640)\n"
          ]
        },
        {
          "metadata": {
            "tags": null
          },
          "name": "stderr",
          "output_type": "stream",
          "text": [
            "\r 29%|██▉       | 149/508 [01:49<04:20,  1.38it/s]"
          ]
        },
        {
          "metadata": {
            "tags": null
          },
          "name": "stdout",
          "output_type": "stream",
          "text": [
            "\n",
            "0: 384x640 4 cars, 208.3ms\n",
            "Speed: 3.8ms preprocess, 208.3ms inference, 1.5ms postprocess per image at shape (1, 3, 384, 640)\n"
          ]
        },
        {
          "metadata": {
            "tags": null
          },
          "name": "stderr",
          "output_type": "stream",
          "text": [
            "\r 30%|██▉       | 150/508 [01:50<03:56,  1.52it/s]"
          ]
        },
        {
          "metadata": {
            "tags": null
          },
          "name": "stdout",
          "output_type": "stream",
          "text": [
            "\n",
            "0: 384x640 8 cars, 2 trucks, 187.6ms\n",
            "Speed: 3.1ms preprocess, 187.6ms inference, 1.5ms postprocess per image at shape (1, 3, 384, 640)\n"
          ]
        },
        {
          "metadata": {
            "tags": null
          },
          "name": "stderr",
          "output_type": "stream",
          "text": [
            "\r 30%|██▉       | 151/508 [01:50<04:12,  1.42it/s]"
          ]
        },
        {
          "metadata": {
            "tags": null
          },
          "name": "stdout",
          "output_type": "stream",
          "text": [
            "\n",
            "0: 384x640 8 cars, 218.9ms\n",
            "Speed: 5.8ms preprocess, 218.9ms inference, 1.5ms postprocess per image at shape (1, 3, 384, 640)\n"
          ]
        },
        {
          "metadata": {
            "tags": null
          },
          "name": "stderr",
          "output_type": "stream",
          "text": [
            "\r 30%|██▉       | 152/508 [01:51<04:13,  1.40it/s]"
          ]
        },
        {
          "metadata": {
            "tags": null
          },
          "name": "stdout",
          "output_type": "stream",
          "text": [
            "\n",
            "0: 384x640 8 cars, 2 trucks, 187.6ms\n",
            "Speed: 3.0ms preprocess, 187.6ms inference, 1.5ms postprocess per image at shape (1, 3, 384, 640)\n"
          ]
        },
        {
          "metadata": {
            "tags": null
          },
          "name": "stderr",
          "output_type": "stream",
          "text": [
            "\r 30%|███       | 153/508 [01:52<04:23,  1.35it/s]"
          ]
        },
        {
          "metadata": {
            "tags": null
          },
          "name": "stdout",
          "output_type": "stream",
          "text": [
            "\n",
            "0: 384x640 5 cars, 1 truck, 198.1ms\n",
            "Speed: 5.7ms preprocess, 198.1ms inference, 1.5ms postprocess per image at shape (1, 3, 384, 640)\n"
          ]
        },
        {
          "metadata": {
            "tags": null
          },
          "name": "stderr",
          "output_type": "stream",
          "text": [
            "\r 30%|███       | 154/508 [01:53<04:06,  1.44it/s]"
          ]
        },
        {
          "metadata": {
            "tags": null
          },
          "name": "stdout",
          "output_type": "stream",
          "text": [
            "\n",
            "0: 384x640 5 cars, 212.3ms\n",
            "Speed: 7.8ms preprocess, 212.3ms inference, 1.5ms postprocess per image at shape (1, 3, 384, 640)\n"
          ]
        },
        {
          "metadata": {
            "tags": null
          },
          "name": "stderr",
          "output_type": "stream",
          "text": [
            "\r 31%|███       | 155/508 [01:53<03:51,  1.52it/s]"
          ]
        },
        {
          "metadata": {
            "tags": null
          },
          "name": "stdout",
          "output_type": "stream",
          "text": [
            "\n",
            "0: 384x640 6 cars, 185.6ms\n",
            "Speed: 2.5ms preprocess, 185.6ms inference, 1.6ms postprocess per image at shape (1, 3, 384, 640)\n"
          ]
        },
        {
          "metadata": {
            "tags": null
          },
          "name": "stderr",
          "output_type": "stream",
          "text": [
            "\r 31%|███       | 156/508 [01:54<03:42,  1.58it/s]"
          ]
        },
        {
          "metadata": {
            "tags": null
          },
          "name": "stdout",
          "output_type": "stream",
          "text": [
            "\n",
            "0: 384x640 7 cars, 188.6ms\n",
            "Speed: 2.9ms preprocess, 188.6ms inference, 1.7ms postprocess per image at shape (1, 3, 384, 640)\n"
          ]
        },
        {
          "metadata": {
            "tags": null
          },
          "name": "stderr",
          "output_type": "stream",
          "text": [
            "\r 31%|███       | 157/508 [01:54<03:43,  1.57it/s]"
          ]
        },
        {
          "metadata": {
            "tags": null
          },
          "name": "stdout",
          "output_type": "stream",
          "text": [
            "\n",
            "0: 384x640 7 cars, 219.8ms\n",
            "Speed: 3.3ms preprocess, 219.8ms inference, 1.5ms postprocess per image at shape (1, 3, 384, 640)\n"
          ]
        },
        {
          "metadata": {
            "tags": null
          },
          "name": "stderr",
          "output_type": "stream",
          "text": [
            "\r 31%|███       | 158/508 [01:55<03:47,  1.54it/s]"
          ]
        },
        {
          "metadata": {
            "tags": null
          },
          "name": "stdout",
          "output_type": "stream",
          "text": [
            "\n",
            "0: 384x640 7 cars, 216.6ms\n",
            "Speed: 3.4ms preprocess, 216.6ms inference, 1.5ms postprocess per image at shape (1, 3, 384, 640)\n"
          ]
        },
        {
          "metadata": {
            "tags": null
          },
          "name": "stderr",
          "output_type": "stream",
          "text": [
            "\r 31%|███▏      | 159/508 [01:56<03:47,  1.53it/s]"
          ]
        },
        {
          "metadata": {
            "tags": null
          },
          "name": "stdout",
          "output_type": "stream",
          "text": [
            "\n",
            "0: 384x640 5 cars, 235.5ms\n",
            "Speed: 6.7ms preprocess, 235.5ms inference, 2.0ms postprocess per image at shape (1, 3, 384, 640)\n"
          ]
        },
        {
          "metadata": {
            "tags": null
          },
          "name": "stderr",
          "output_type": "stream",
          "text": [
            "\r 31%|███▏      | 160/508 [01:56<03:42,  1.56it/s]"
          ]
        },
        {
          "metadata": {
            "tags": null
          },
          "name": "stdout",
          "output_type": "stream",
          "text": [
            "\n",
            "0: 384x640 5 cars, 2 trucks, 271.7ms\n",
            "Speed: 2.5ms preprocess, 271.7ms inference, 3.0ms postprocess per image at shape (1, 3, 384, 640)\n"
          ]
        },
        {
          "metadata": {
            "tags": null
          },
          "name": "stderr",
          "output_type": "stream",
          "text": [
            "\r 32%|███▏      | 161/508 [01:57<04:14,  1.37it/s]"
          ]
        },
        {
          "metadata": {
            "tags": null
          },
          "name": "stdout",
          "output_type": "stream",
          "text": [
            "\n",
            "0: 384x640 6 cars, 1 truck, 255.4ms\n",
            "Speed: 2.6ms preprocess, 255.4ms inference, 2.5ms postprocess per image at shape (1, 3, 384, 640)\n"
          ]
        },
        {
          "metadata": {
            "tags": null
          },
          "name": "stderr",
          "output_type": "stream",
          "text": [
            "\r 32%|███▏      | 162/508 [01:58<04:35,  1.26it/s]"
          ]
        },
        {
          "metadata": {
            "tags": null
          },
          "name": "stdout",
          "output_type": "stream",
          "text": [
            "\n",
            "0: 384x640 6 cars, 289.9ms\n",
            "Speed: 2.6ms preprocess, 289.9ms inference, 2.1ms postprocess per image at shape (1, 3, 384, 640)\n"
          ]
        },
        {
          "metadata": {
            "tags": null
          },
          "name": "stderr",
          "output_type": "stream",
          "text": [
            "\r 32%|███▏      | 163/508 [01:59<04:44,  1.21it/s]"
          ]
        },
        {
          "metadata": {
            "tags": null
          },
          "name": "stdout",
          "output_type": "stream",
          "text": [
            "\n",
            "0: 384x640 5 cars, 302.8ms\n",
            "Speed: 3.3ms preprocess, 302.8ms inference, 2.2ms postprocess per image at shape (1, 3, 384, 640)\n"
          ]
        },
        {
          "metadata": {
            "tags": null
          },
          "name": "stderr",
          "output_type": "stream",
          "text": [
            "\r 32%|███▏      | 164/508 [02:00<04:49,  1.19it/s]"
          ]
        },
        {
          "metadata": {
            "tags": null
          },
          "name": "stdout",
          "output_type": "stream",
          "text": [
            "\n",
            "0: 384x640 5 cars, 299.5ms\n",
            "Speed: 8.1ms preprocess, 299.5ms inference, 2.3ms postprocess per image at shape (1, 3, 384, 640)\n"
          ]
        },
        {
          "metadata": {
            "tags": null
          },
          "name": "stderr",
          "output_type": "stream",
          "text": [
            "\r 32%|███▏      | 165/508 [02:01<04:35,  1.25it/s]"
          ]
        },
        {
          "metadata": {
            "tags": null
          },
          "name": "stdout",
          "output_type": "stream",
          "text": [
            "\n",
            "0: 384x640 5 cars, 182.4ms\n",
            "Speed: 2.5ms preprocess, 182.4ms inference, 1.5ms postprocess per image at shape (1, 3, 384, 640)\n"
          ]
        },
        {
          "metadata": {
            "tags": null
          },
          "name": "stderr",
          "output_type": "stream",
          "text": [
            "\r 33%|███▎      | 166/508 [02:01<04:10,  1.36it/s]"
          ]
        },
        {
          "metadata": {
            "tags": null
          },
          "name": "stdout",
          "output_type": "stream",
          "text": [
            "\n",
            "0: 384x640 5 cars, 207.0ms\n",
            "Speed: 3.3ms preprocess, 207.0ms inference, 1.6ms postprocess per image at shape (1, 3, 384, 640)\n"
          ]
        },
        {
          "metadata": {
            "tags": null
          },
          "name": "stderr",
          "output_type": "stream",
          "text": [
            "\r 33%|███▎      | 167/508 [02:02<03:50,  1.48it/s]"
          ]
        },
        {
          "metadata": {
            "tags": null
          },
          "name": "stdout",
          "output_type": "stream",
          "text": [
            "\n",
            "0: 384x640 5 cars, 199.7ms\n",
            "Speed: 2.4ms preprocess, 199.7ms inference, 1.5ms postprocess per image at shape (1, 3, 384, 640)\n"
          ]
        },
        {
          "metadata": {
            "tags": null
          },
          "name": "stderr",
          "output_type": "stream",
          "text": [
            "\r 33%|███▎      | 168/508 [02:02<03:38,  1.56it/s]"
          ]
        },
        {
          "metadata": {
            "tags": null
          },
          "name": "stdout",
          "output_type": "stream",
          "text": [
            "\n",
            "0: 384x640 7 cars, 184.6ms\n",
            "Speed: 2.4ms preprocess, 184.6ms inference, 1.6ms postprocess per image at shape (1, 3, 384, 640)\n"
          ]
        },
        {
          "metadata": {
            "tags": null
          },
          "name": "stderr",
          "output_type": "stream",
          "text": [
            "\r 33%|███▎      | 169/508 [02:03<03:39,  1.55it/s]"
          ]
        },
        {
          "metadata": {
            "tags": null
          },
          "name": "stdout",
          "output_type": "stream",
          "text": [
            "\n",
            "0: 384x640 7 cars, 219.6ms\n",
            "Speed: 6.4ms preprocess, 219.6ms inference, 1.6ms postprocess per image at shape (1, 3, 384, 640)\n"
          ]
        },
        {
          "metadata": {
            "tags": null
          },
          "name": "stderr",
          "output_type": "stream",
          "text": [
            "\r 33%|███▎      | 170/508 [02:04<03:42,  1.52it/s]"
          ]
        },
        {
          "metadata": {
            "tags": null
          },
          "name": "stdout",
          "output_type": "stream",
          "text": [
            "\n",
            "0: 384x640 6 cars, 195.5ms\n",
            "Speed: 5.6ms preprocess, 195.5ms inference, 1.6ms postprocess per image at shape (1, 3, 384, 640)\n"
          ]
        },
        {
          "metadata": {
            "tags": null
          },
          "name": "stderr",
          "output_type": "stream",
          "text": [
            "\r 34%|███▎      | 171/508 [02:04<03:37,  1.55it/s]"
          ]
        },
        {
          "metadata": {
            "tags": null
          },
          "name": "stdout",
          "output_type": "stream",
          "text": [
            "\n",
            "0: 384x640 6 cars, 203.3ms\n",
            "Speed: 6.6ms preprocess, 203.3ms inference, 1.5ms postprocess per image at shape (1, 3, 384, 640)\n"
          ]
        },
        {
          "metadata": {
            "tags": null
          },
          "name": "stderr",
          "output_type": "stream",
          "text": [
            "\r 34%|███▍      | 172/508 [02:05<03:31,  1.59it/s]"
          ]
        },
        {
          "metadata": {
            "tags": null
          },
          "name": "stdout",
          "output_type": "stream",
          "text": [
            "\n",
            "0: 384x640 6 cars, 1 truck, 219.9ms\n",
            "Speed: 2.6ms preprocess, 219.9ms inference, 1.7ms postprocess per image at shape (1, 3, 384, 640)\n"
          ]
        },
        {
          "metadata": {
            "tags": null
          },
          "name": "stderr",
          "output_type": "stream",
          "text": [
            "\r 34%|███▍      | 173/508 [02:06<03:34,  1.57it/s]"
          ]
        },
        {
          "metadata": {
            "tags": null
          },
          "name": "stdout",
          "output_type": "stream",
          "text": [
            "\n",
            "0: 384x640 5 cars, 1 truck, 189.6ms\n",
            "Speed: 3.2ms preprocess, 189.6ms inference, 1.6ms postprocess per image at shape (1, 3, 384, 640)\n"
          ]
        },
        {
          "metadata": {
            "tags": null
          },
          "name": "stderr",
          "output_type": "stream",
          "text": [
            "\r 34%|███▍      | 174/508 [02:06<03:27,  1.61it/s]"
          ]
        },
        {
          "metadata": {
            "tags": null
          },
          "name": "stdout",
          "output_type": "stream",
          "text": [
            "\n",
            "0: 384x640 4 cars, 1 truck, 225.4ms\n",
            "Speed: 2.7ms preprocess, 225.4ms inference, 1.5ms postprocess per image at shape (1, 3, 384, 640)\n"
          ]
        },
        {
          "metadata": {
            "tags": null
          },
          "name": "stderr",
          "output_type": "stream",
          "text": [
            "\r 34%|███▍      | 175/508 [02:07<03:23,  1.64it/s]"
          ]
        },
        {
          "metadata": {
            "tags": null
          },
          "name": "stdout",
          "output_type": "stream",
          "text": [
            "\n",
            "0: 384x640 5 cars, 1 truck, 207.9ms\n",
            "Speed: 2.8ms preprocess, 207.9ms inference, 1.7ms postprocess per image at shape (1, 3, 384, 640)\n"
          ]
        },
        {
          "metadata": {
            "tags": null
          },
          "name": "stderr",
          "output_type": "stream",
          "text": [
            "\r 35%|███▍      | 176/508 [02:07<03:23,  1.63it/s]"
          ]
        },
        {
          "metadata": {
            "tags": null
          },
          "name": "stdout",
          "output_type": "stream",
          "text": [
            "\n",
            "0: 384x640 5 cars, 1 truck, 192.6ms\n",
            "Speed: 2.9ms preprocess, 192.6ms inference, 1.6ms postprocess per image at shape (1, 3, 384, 640)\n"
          ]
        },
        {
          "metadata": {
            "tags": null
          },
          "name": "stderr",
          "output_type": "stream",
          "text": [
            "\r 35%|███▍      | 177/508 [02:08<03:19,  1.66it/s]"
          ]
        },
        {
          "metadata": {
            "tags": null
          },
          "name": "stdout",
          "output_type": "stream",
          "text": [
            "\n",
            "0: 384x640 6 cars, 1 truck, 190.2ms\n",
            "Speed: 3.9ms preprocess, 190.2ms inference, 1.6ms postprocess per image at shape (1, 3, 384, 640)\n"
          ]
        },
        {
          "metadata": {
            "tags": null
          },
          "name": "stderr",
          "output_type": "stream",
          "text": [
            "\r 35%|███▌      | 178/508 [02:09<03:24,  1.62it/s]"
          ]
        },
        {
          "metadata": {
            "tags": null
          },
          "name": "stdout",
          "output_type": "stream",
          "text": [
            "\n",
            "0: 384x640 7 cars, 1 truck, 207.3ms\n",
            "Speed: 6.5ms preprocess, 207.3ms inference, 1.6ms postprocess per image at shape (1, 3, 384, 640)\n"
          ]
        },
        {
          "metadata": {
            "tags": null
          },
          "name": "stderr",
          "output_type": "stream",
          "text": [
            "\r 35%|███▌      | 179/508 [02:09<03:31,  1.56it/s]"
          ]
        },
        {
          "metadata": {
            "tags": null
          },
          "name": "stdout",
          "output_type": "stream",
          "text": [
            "\n",
            "0: 384x640 5 cars, 1 truck, 201.1ms\n",
            "Speed: 4.0ms preprocess, 201.1ms inference, 1.5ms postprocess per image at shape (1, 3, 384, 640)\n"
          ]
        },
        {
          "metadata": {
            "tags": null
          },
          "name": "stderr",
          "output_type": "stream",
          "text": [
            "\r 35%|███▌      | 180/508 [02:10<03:24,  1.61it/s]"
          ]
        },
        {
          "metadata": {
            "tags": null
          },
          "name": "stdout",
          "output_type": "stream",
          "text": [
            "\n",
            "0: 384x640 6 cars, 184.0ms\n",
            "Speed: 2.9ms preprocess, 184.0ms inference, 1.5ms postprocess per image at shape (1, 3, 384, 640)\n"
          ]
        },
        {
          "metadata": {
            "tags": null
          },
          "name": "stderr",
          "output_type": "stream",
          "text": [
            "\r 36%|███▌      | 181/508 [02:10<03:19,  1.64it/s]"
          ]
        },
        {
          "metadata": {
            "tags": null
          },
          "name": "stdout",
          "output_type": "stream",
          "text": [
            "\n",
            "0: 384x640 5 cars, 1 truck, 265.1ms\n",
            "Speed: 2.9ms preprocess, 265.1ms inference, 2.1ms postprocess per image at shape (1, 3, 384, 640)\n"
          ]
        },
        {
          "metadata": {
            "tags": null
          },
          "name": "stderr",
          "output_type": "stream",
          "text": [
            "\r 36%|███▌      | 182/508 [02:11<03:42,  1.47it/s]"
          ]
        },
        {
          "metadata": {
            "tags": null
          },
          "name": "stdout",
          "output_type": "stream",
          "text": [
            "\n",
            "0: 384x640 5 cars, 336.6ms\n",
            "Speed: 7.6ms preprocess, 336.6ms inference, 2.3ms postprocess per image at shape (1, 3, 384, 640)\n"
          ]
        },
        {
          "metadata": {
            "tags": null
          },
          "name": "stderr",
          "output_type": "stream",
          "text": [
            "\r 36%|███▌      | 183/508 [02:12<03:59,  1.35it/s]"
          ]
        },
        {
          "metadata": {
            "tags": null
          },
          "name": "stdout",
          "output_type": "stream",
          "text": [
            "\n",
            "0: 384x640 4 cars, 309.8ms\n",
            "Speed: 2.5ms preprocess, 309.8ms inference, 3.1ms postprocess per image at shape (1, 3, 384, 640)\n"
          ]
        },
        {
          "metadata": {
            "tags": null
          },
          "name": "stderr",
          "output_type": "stream",
          "text": [
            "\r 36%|███▌      | 184/508 [02:13<03:59,  1.36it/s]"
          ]
        },
        {
          "metadata": {
            "tags": null
          },
          "name": "stdout",
          "output_type": "stream",
          "text": [
            "\n",
            "0: 384x640 4 cars, 312.1ms\n",
            "Speed: 8.6ms preprocess, 312.1ms inference, 2.1ms postprocess per image at shape (1, 3, 384, 640)\n"
          ]
        },
        {
          "metadata": {
            "tags": null
          },
          "name": "stderr",
          "output_type": "stream",
          "text": [
            "\r 36%|███▋      | 185/508 [02:14<04:00,  1.34it/s]"
          ]
        },
        {
          "metadata": {
            "tags": null
          },
          "name": "stdout",
          "output_type": "stream",
          "text": [
            "\n",
            "0: 384x640 4 cars, 1 truck, 259.5ms\n",
            "Speed: 2.5ms preprocess, 259.5ms inference, 2.7ms postprocess per image at shape (1, 3, 384, 640)\n"
          ]
        },
        {
          "metadata": {
            "tags": null
          },
          "name": "stderr",
          "output_type": "stream",
          "text": [
            "\r 37%|███▋      | 186/508 [02:14<04:01,  1.33it/s]"
          ]
        },
        {
          "metadata": {
            "tags": null
          },
          "name": "stdout",
          "output_type": "stream",
          "text": [
            "\n",
            "0: 384x640 4 cars, 195.6ms\n",
            "Speed: 2.5ms preprocess, 195.6ms inference, 1.5ms postprocess per image at shape (1, 3, 384, 640)\n"
          ]
        },
        {
          "metadata": {
            "tags": null
          },
          "name": "stderr",
          "output_type": "stream",
          "text": [
            "\r 37%|███▋      | 187/508 [02:15<03:35,  1.49it/s]"
          ]
        },
        {
          "metadata": {
            "tags": null
          },
          "name": "stdout",
          "output_type": "stream",
          "text": [
            "\n",
            "0: 384x640 5 cars, 187.0ms\n",
            "Speed: 2.7ms preprocess, 187.0ms inference, 1.5ms postprocess per image at shape (1, 3, 384, 640)\n"
          ]
        },
        {
          "metadata": {
            "tags": null
          },
          "name": "stderr",
          "output_type": "stream",
          "text": [
            "\r 37%|███▋      | 188/508 [02:15<03:21,  1.59it/s]"
          ]
        },
        {
          "metadata": {
            "tags": null
          },
          "name": "stdout",
          "output_type": "stream",
          "text": [
            "\n",
            "0: 384x640 3 cars, 193.3ms\n",
            "Speed: 2.8ms preprocess, 193.3ms inference, 1.7ms postprocess per image at shape (1, 3, 384, 640)\n"
          ]
        },
        {
          "metadata": {
            "tags": null
          },
          "name": "stderr",
          "output_type": "stream",
          "text": [
            "\r 37%|███▋      | 189/508 [02:16<03:01,  1.76it/s]"
          ]
        },
        {
          "metadata": {
            "tags": null
          },
          "name": "stdout",
          "output_type": "stream",
          "text": [
            "\n",
            "0: 384x640 5 cars, 199.1ms\n",
            "Speed: 2.6ms preprocess, 199.1ms inference, 1.6ms postprocess per image at shape (1, 3, 384, 640)\n"
          ]
        },
        {
          "metadata": {
            "tags": null
          },
          "name": "stderr",
          "output_type": "stream",
          "text": [
            "\r 37%|███▋      | 190/508 [02:16<02:57,  1.79it/s]"
          ]
        },
        {
          "metadata": {
            "tags": null
          },
          "name": "stdout",
          "output_type": "stream",
          "text": [
            "\n",
            "0: 384x640 5 cars, 190.7ms\n",
            "Speed: 5.4ms preprocess, 190.7ms inference, 1.9ms postprocess per image at shape (1, 3, 384, 640)\n"
          ]
        },
        {
          "metadata": {
            "tags": null
          },
          "name": "stderr",
          "output_type": "stream",
          "text": [
            "\r 38%|███▊      | 191/508 [02:17<02:56,  1.80it/s]"
          ]
        },
        {
          "metadata": {
            "tags": null
          },
          "name": "stdout",
          "output_type": "stream",
          "text": [
            "\n",
            "0: 384x640 3 cars, 194.8ms\n",
            "Speed: 2.5ms preprocess, 194.8ms inference, 1.7ms postprocess per image at shape (1, 3, 384, 640)\n"
          ]
        },
        {
          "metadata": {
            "tags": null
          },
          "name": "stderr",
          "output_type": "stream",
          "text": [
            "\r 38%|███▊      | 192/508 [02:17<02:42,  1.95it/s]"
          ]
        },
        {
          "metadata": {
            "tags": null
          },
          "name": "stdout",
          "output_type": "stream",
          "text": [
            "\n",
            "0: 384x640 5 cars, 186.7ms\n",
            "Speed: 4.3ms preprocess, 186.7ms inference, 1.5ms postprocess per image at shape (1, 3, 384, 640)\n"
          ]
        },
        {
          "metadata": {
            "tags": null
          },
          "name": "stderr",
          "output_type": "stream",
          "text": [
            "\r 38%|███▊      | 193/508 [02:18<02:45,  1.91it/s]"
          ]
        },
        {
          "metadata": {
            "tags": null
          },
          "name": "stdout",
          "output_type": "stream",
          "text": [
            "\n",
            "0: 384x640 6 cars, 202.6ms\n",
            "Speed: 2.7ms preprocess, 202.6ms inference, 1.8ms postprocess per image at shape (1, 3, 384, 640)\n"
          ]
        },
        {
          "metadata": {
            "tags": null
          },
          "name": "stderr",
          "output_type": "stream",
          "text": [
            "\r 38%|███▊      | 194/508 [02:19<02:50,  1.84it/s]"
          ]
        },
        {
          "metadata": {
            "tags": null
          },
          "name": "stdout",
          "output_type": "stream",
          "text": [
            "\n",
            "0: 384x640 5 cars, 189.0ms\n",
            "Speed: 5.0ms preprocess, 189.0ms inference, 1.5ms postprocess per image at shape (1, 3, 384, 640)\n"
          ]
        },
        {
          "metadata": {
            "tags": null
          },
          "name": "stderr",
          "output_type": "stream",
          "text": [
            "\r 38%|███▊      | 195/508 [02:19<02:52,  1.81it/s]"
          ]
        },
        {
          "metadata": {
            "tags": null
          },
          "name": "stdout",
          "output_type": "stream",
          "text": [
            "\n",
            "0: 384x640 5 cars, 215.2ms\n",
            "Speed: 6.6ms preprocess, 215.2ms inference, 1.5ms postprocess per image at shape (1, 3, 384, 640)\n"
          ]
        },
        {
          "metadata": {
            "tags": null
          },
          "name": "stderr",
          "output_type": "stream",
          "text": [
            "\r 39%|███▊      | 196/508 [02:20<02:52,  1.81it/s]"
          ]
        },
        {
          "metadata": {
            "tags": null
          },
          "name": "stdout",
          "output_type": "stream",
          "text": [
            "\n",
            "0: 384x640 4 cars, 199.3ms\n",
            "Speed: 7.0ms preprocess, 199.3ms inference, 1.6ms postprocess per image at shape (1, 3, 384, 640)\n"
          ]
        },
        {
          "metadata": {
            "tags": null
          },
          "name": "stderr",
          "output_type": "stream",
          "text": [
            "\r 39%|███▉      | 197/508 [02:20<02:47,  1.86it/s]"
          ]
        },
        {
          "metadata": {
            "tags": null
          },
          "name": "stdout",
          "output_type": "stream",
          "text": [
            "\n",
            "0: 384x640 3 cars, 191.0ms\n",
            "Speed: 2.9ms preprocess, 191.0ms inference, 1.5ms postprocess per image at shape (1, 3, 384, 640)\n"
          ]
        },
        {
          "metadata": {
            "tags": null
          },
          "name": "stderr",
          "output_type": "stream",
          "text": [
            "\r 39%|███▉      | 198/508 [02:21<02:35,  1.99it/s]"
          ]
        },
        {
          "metadata": {
            "tags": null
          },
          "name": "stdout",
          "output_type": "stream",
          "text": [
            "\n",
            "0: 384x640 4 cars, 192.7ms\n",
            "Speed: 2.7ms preprocess, 192.7ms inference, 1.6ms postprocess per image at shape (1, 3, 384, 640)\n"
          ]
        },
        {
          "metadata": {
            "tags": null
          },
          "name": "stderr",
          "output_type": "stream",
          "text": [
            "\r 39%|███▉      | 199/508 [02:21<02:32,  2.02it/s]"
          ]
        },
        {
          "metadata": {
            "tags": null
          },
          "name": "stdout",
          "output_type": "stream",
          "text": [
            "\n",
            "0: 384x640 4 cars, 188.9ms\n",
            "Speed: 2.5ms preprocess, 188.9ms inference, 1.5ms postprocess per image at shape (1, 3, 384, 640)\n"
          ]
        },
        {
          "metadata": {
            "tags": null
          },
          "name": "stderr",
          "output_type": "stream",
          "text": [
            "\r 39%|███▉      | 200/508 [02:21<02:29,  2.07it/s]"
          ]
        },
        {
          "metadata": {
            "tags": null
          },
          "name": "stdout",
          "output_type": "stream",
          "text": [
            "\n",
            "0: 384x640 5 cars, 1 truck, 186.1ms\n",
            "Speed: 4.6ms preprocess, 186.1ms inference, 1.5ms postprocess per image at shape (1, 3, 384, 640)\n"
          ]
        },
        {
          "metadata": {
            "tags": null
          },
          "name": "stderr",
          "output_type": "stream",
          "text": [
            "\r 40%|███▉      | 201/508 [02:22<02:37,  1.94it/s]"
          ]
        },
        {
          "metadata": {
            "tags": null
          },
          "name": "stdout",
          "output_type": "stream",
          "text": [
            "\n",
            "0: 384x640 5 cars, 189.3ms\n",
            "Speed: 4.0ms preprocess, 189.3ms inference, 1.6ms postprocess per image at shape (1, 3, 384, 640)\n"
          ]
        },
        {
          "metadata": {
            "tags": null
          },
          "name": "stderr",
          "output_type": "stream",
          "text": [
            "\r 40%|███▉      | 202/508 [02:23<02:38,  1.93it/s]"
          ]
        },
        {
          "metadata": {
            "tags": null
          },
          "name": "stdout",
          "output_type": "stream",
          "text": [
            "\n",
            "0: 384x640 3 cars, 187.7ms\n",
            "Speed: 8.6ms preprocess, 187.7ms inference, 1.6ms postprocess per image at shape (1, 3, 384, 640)\n"
          ]
        },
        {
          "metadata": {
            "tags": null
          },
          "name": "stderr",
          "output_type": "stream",
          "text": [
            "\r 40%|███▉      | 203/508 [02:23<02:32,  2.01it/s]"
          ]
        },
        {
          "metadata": {
            "tags": null
          },
          "name": "stdout",
          "output_type": "stream",
          "text": [
            "\n",
            "0: 384x640 4 cars, 216.7ms\n",
            "Speed: 3.1ms preprocess, 216.7ms inference, 2.2ms postprocess per image at shape (1, 3, 384, 640)\n"
          ]
        },
        {
          "metadata": {
            "tags": null
          },
          "name": "stderr",
          "output_type": "stream",
          "text": [
            "\r 40%|████      | 204/508 [02:24<02:33,  1.97it/s]"
          ]
        },
        {
          "metadata": {
            "tags": null
          },
          "name": "stdout",
          "output_type": "stream",
          "text": [
            "\n",
            "0: 384x640 4 cars, 1 truck, 202.3ms\n",
            "Speed: 8.6ms preprocess, 202.3ms inference, 1.7ms postprocess per image at shape (1, 3, 384, 640)\n"
          ]
        },
        {
          "metadata": {
            "tags": null
          },
          "name": "stderr",
          "output_type": "stream",
          "text": [
            "\r 40%|████      | 205/508 [02:24<02:40,  1.89it/s]"
          ]
        },
        {
          "metadata": {
            "tags": null
          },
          "name": "stdout",
          "output_type": "stream",
          "text": [
            "\n",
            "0: 384x640 5 cars, 1 truck, 190.3ms\n",
            "Speed: 2.6ms preprocess, 190.3ms inference, 1.8ms postprocess per image at shape (1, 3, 384, 640)\n"
          ]
        },
        {
          "metadata": {
            "tags": null
          },
          "name": "stderr",
          "output_type": "stream",
          "text": [
            "\r 41%|████      | 206/508 [02:25<03:03,  1.65it/s]"
          ]
        },
        {
          "metadata": {
            "tags": null
          },
          "name": "stdout",
          "output_type": "stream",
          "text": [
            "\n",
            "0: 384x640 4 cars, 1 truck, 297.6ms\n",
            "Speed: 5.8ms preprocess, 297.6ms inference, 2.1ms postprocess per image at shape (1, 3, 384, 640)\n"
          ]
        },
        {
          "metadata": {
            "tags": null
          },
          "name": "stderr",
          "output_type": "stream",
          "text": [
            "\r 41%|████      | 207/508 [02:26<03:20,  1.50it/s]"
          ]
        },
        {
          "metadata": {
            "tags": null
          },
          "name": "stdout",
          "output_type": "stream",
          "text": [
            "\n",
            "0: 384x640 6 cars, 329.8ms\n",
            "Speed: 5.9ms preprocess, 329.8ms inference, 2.3ms postprocess per image at shape (1, 3, 384, 640)\n"
          ]
        },
        {
          "metadata": {
            "tags": null
          },
          "name": "stderr",
          "output_type": "stream",
          "text": [
            "\r 41%|████      | 208/508 [02:27<03:41,  1.35it/s]"
          ]
        },
        {
          "metadata": {
            "tags": null
          },
          "name": "stdout",
          "output_type": "stream",
          "text": [
            "\n",
            "0: 384x640 4 cars, 315.1ms\n",
            "Speed: 4.8ms preprocess, 315.1ms inference, 2.2ms postprocess per image at shape (1, 3, 384, 640)\n"
          ]
        },
        {
          "metadata": {
            "tags": null
          },
          "name": "stderr",
          "output_type": "stream",
          "text": [
            "\r 41%|████      | 209/508 [02:27<03:47,  1.32it/s]"
          ]
        },
        {
          "metadata": {
            "tags": null
          },
          "name": "stdout",
          "output_type": "stream",
          "text": [
            "\n",
            "0: 384x640 5 cars, 292.2ms\n",
            "Speed: 2.8ms preprocess, 292.2ms inference, 2.3ms postprocess per image at shape (1, 3, 384, 640)\n"
          ]
        },
        {
          "metadata": {
            "tags": null
          },
          "name": "stderr",
          "output_type": "stream",
          "text": [
            "\r 41%|████▏     | 210/508 [02:28<03:44,  1.33it/s]"
          ]
        },
        {
          "metadata": {
            "tags": null
          },
          "name": "stdout",
          "output_type": "stream",
          "text": [
            "\n",
            "0: 384x640 4 cars, 199.8ms\n",
            "Speed: 2.5ms preprocess, 199.8ms inference, 1.5ms postprocess per image at shape (1, 3, 384, 640)\n"
          ]
        },
        {
          "metadata": {
            "tags": null
          },
          "name": "stderr",
          "output_type": "stream",
          "text": [
            "\r 42%|████▏     | 211/508 [02:29<03:20,  1.48it/s]"
          ]
        },
        {
          "metadata": {
            "tags": null
          },
          "name": "stdout",
          "output_type": "stream",
          "text": [
            "\n",
            "0: 384x640 5 cars, 192.6ms\n",
            "Speed: 10.3ms preprocess, 192.6ms inference, 1.5ms postprocess per image at shape (1, 3, 384, 640)\n"
          ]
        },
        {
          "metadata": {
            "tags": null
          },
          "name": "stderr",
          "output_type": "stream",
          "text": [
            "\r 42%|████▏     | 212/508 [02:29<03:10,  1.56it/s]"
          ]
        },
        {
          "metadata": {
            "tags": null
          },
          "name": "stdout",
          "output_type": "stream",
          "text": [
            "\n",
            "0: 384x640 5 cars, 218.3ms\n",
            "Speed: 7.3ms preprocess, 218.3ms inference, 1.5ms postprocess per image at shape (1, 3, 384, 640)\n"
          ]
        },
        {
          "metadata": {
            "tags": null
          },
          "name": "stderr",
          "output_type": "stream",
          "text": [
            "\r 42%|████▏     | 213/508 [02:30<03:04,  1.60it/s]"
          ]
        },
        {
          "metadata": {
            "tags": null
          },
          "name": "stdout",
          "output_type": "stream",
          "text": [
            "\n",
            "0: 384x640 5 cars, 208.9ms\n",
            "Speed: 3.2ms preprocess, 208.9ms inference, 1.9ms postprocess per image at shape (1, 3, 384, 640)\n"
          ]
        },
        {
          "metadata": {
            "tags": null
          },
          "name": "stderr",
          "output_type": "stream",
          "text": [
            "\r 42%|████▏     | 214/508 [02:30<02:59,  1.64it/s]"
          ]
        },
        {
          "metadata": {
            "tags": null
          },
          "name": "stdout",
          "output_type": "stream",
          "text": [
            "\n",
            "0: 384x640 3 cars, 193.4ms\n",
            "Speed: 2.7ms preprocess, 193.4ms inference, 1.5ms postprocess per image at shape (1, 3, 384, 640)\n"
          ]
        },
        {
          "metadata": {
            "tags": null
          },
          "name": "stderr",
          "output_type": "stream",
          "text": [
            "\r 42%|████▏     | 215/508 [02:31<02:43,  1.80it/s]"
          ]
        },
        {
          "metadata": {
            "tags": null
          },
          "name": "stdout",
          "output_type": "stream",
          "text": [
            "\n",
            "0: 384x640 4 cars, 211.0ms\n",
            "Speed: 2.7ms preprocess, 211.0ms inference, 1.5ms postprocess per image at shape (1, 3, 384, 640)\n"
          ]
        },
        {
          "metadata": {
            "tags": null
          },
          "name": "stderr",
          "output_type": "stream",
          "text": [
            "\r 43%|████▎     | 216/508 [02:31<02:36,  1.87it/s]"
          ]
        },
        {
          "metadata": {
            "tags": null
          },
          "name": "stdout",
          "output_type": "stream",
          "text": [
            "\n",
            "0: 384x640 5 cars, 204.6ms\n",
            "Speed: 2.7ms preprocess, 204.6ms inference, 1.6ms postprocess per image at shape (1, 3, 384, 640)\n"
          ]
        },
        {
          "metadata": {
            "tags": null
          },
          "name": "stderr",
          "output_type": "stream",
          "text": [
            "\r 43%|████▎     | 217/508 [02:32<02:41,  1.80it/s]"
          ]
        },
        {
          "metadata": {
            "tags": null
          },
          "name": "stdout",
          "output_type": "stream",
          "text": [
            "\n",
            "0: 384x640 5 cars, 189.6ms\n",
            "Speed: 5.0ms preprocess, 189.6ms inference, 1.8ms postprocess per image at shape (1, 3, 384, 640)\n"
          ]
        },
        {
          "metadata": {
            "tags": null
          },
          "name": "stderr",
          "output_type": "stream",
          "text": [
            "\r 43%|████▎     | 218/508 [02:33<02:42,  1.79it/s]"
          ]
        },
        {
          "metadata": {
            "tags": null
          },
          "name": "stdout",
          "output_type": "stream",
          "text": [
            "\n",
            "0: 384x640 5 cars, 188.8ms\n",
            "Speed: 4.7ms preprocess, 188.8ms inference, 1.6ms postprocess per image at shape (1, 3, 384, 640)\n"
          ]
        },
        {
          "metadata": {
            "tags": null
          },
          "name": "stderr",
          "output_type": "stream",
          "text": [
            "\r 43%|████▎     | 219/508 [02:33<02:43,  1.77it/s]"
          ]
        },
        {
          "metadata": {
            "tags": null
          },
          "name": "stdout",
          "output_type": "stream",
          "text": [
            "\n",
            "0: 384x640 5 cars, 204.3ms\n",
            "Speed: 4.1ms preprocess, 204.3ms inference, 1.6ms postprocess per image at shape (1, 3, 384, 640)\n"
          ]
        },
        {
          "metadata": {
            "tags": null
          },
          "name": "stderr",
          "output_type": "stream",
          "text": [
            "\r 43%|████▎     | 220/508 [02:34<02:43,  1.76it/s]"
          ]
        },
        {
          "metadata": {
            "tags": null
          },
          "name": "stdout",
          "output_type": "stream",
          "text": [
            "\n",
            "0: 384x640 4 cars, 188.3ms\n",
            "Speed: 8.4ms preprocess, 188.3ms inference, 1.5ms postprocess per image at shape (1, 3, 384, 640)\n"
          ]
        },
        {
          "metadata": {
            "tags": null
          },
          "name": "stderr",
          "output_type": "stream",
          "text": [
            "\r 44%|████▎     | 221/508 [02:34<02:35,  1.85it/s]"
          ]
        },
        {
          "metadata": {
            "tags": null
          },
          "name": "stdout",
          "output_type": "stream",
          "text": [
            "\n",
            "0: 384x640 4 cars, 195.0ms\n",
            "Speed: 3.1ms preprocess, 195.0ms inference, 1.9ms postprocess per image at shape (1, 3, 384, 640)\n"
          ]
        },
        {
          "metadata": {
            "tags": null
          },
          "name": "stderr",
          "output_type": "stream",
          "text": [
            "\r 44%|████▎     | 222/508 [02:35<02:29,  1.91it/s]"
          ]
        },
        {
          "metadata": {
            "tags": null
          },
          "name": "stdout",
          "output_type": "stream",
          "text": [
            "\n",
            "0: 384x640 4 cars, 201.5ms\n",
            "Speed: 3.0ms preprocess, 201.5ms inference, 1.6ms postprocess per image at shape (1, 3, 384, 640)\n"
          ]
        },
        {
          "metadata": {
            "tags": null
          },
          "name": "stderr",
          "output_type": "stream",
          "text": [
            "\r 44%|████▍     | 223/508 [02:35<02:25,  1.96it/s]"
          ]
        },
        {
          "metadata": {
            "tags": null
          },
          "name": "stdout",
          "output_type": "stream",
          "text": [
            "\n",
            "0: 384x640 4 cars, 164.1ms\n",
            "Speed: 3.0ms preprocess, 164.1ms inference, 1.5ms postprocess per image at shape (1, 3, 384, 640)\n"
          ]
        },
        {
          "metadata": {
            "tags": null
          },
          "name": "stderr",
          "output_type": "stream",
          "text": [
            "\r 44%|████▍     | 224/508 [02:36<02:19,  2.03it/s]"
          ]
        },
        {
          "metadata": {
            "tags": null
          },
          "name": "stdout",
          "output_type": "stream",
          "text": [
            "\n",
            "0: 384x640 3 cars, 169.6ms\n",
            "Speed: 2.6ms preprocess, 169.6ms inference, 1.5ms postprocess per image at shape (1, 3, 384, 640)\n"
          ]
        },
        {
          "metadata": {
            "tags": null
          },
          "name": "stderr",
          "output_type": "stream",
          "text": [
            "\r 44%|████▍     | 225/508 [02:36<02:10,  2.17it/s]"
          ]
        },
        {
          "metadata": {
            "tags": null
          },
          "name": "stdout",
          "output_type": "stream",
          "text": [
            "\n",
            "0: 384x640 4 cars, 176.4ms\n",
            "Speed: 2.7ms preprocess, 176.4ms inference, 1.6ms postprocess per image at shape (1, 3, 384, 640)\n"
          ]
        },
        {
          "metadata": {
            "tags": null
          },
          "name": "stderr",
          "output_type": "stream",
          "text": [
            "\r 44%|████▍     | 226/508 [02:36<02:08,  2.19it/s]"
          ]
        },
        {
          "metadata": {
            "tags": null
          },
          "name": "stdout",
          "output_type": "stream",
          "text": [
            "\n",
            "0: 384x640 5 cars, 207.4ms\n",
            "Speed: 7.7ms preprocess, 207.4ms inference, 1.7ms postprocess per image at shape (1, 3, 384, 640)\n"
          ]
        },
        {
          "metadata": {
            "tags": null
          },
          "name": "stderr",
          "output_type": "stream",
          "text": [
            "\r 45%|████▍     | 227/508 [02:37<02:16,  2.06it/s]"
          ]
        },
        {
          "metadata": {
            "tags": null
          },
          "name": "stdout",
          "output_type": "stream",
          "text": [
            "\n",
            "0: 384x640 7 cars, 165.2ms\n",
            "Speed: 3.1ms preprocess, 165.2ms inference, 1.5ms postprocess per image at shape (1, 3, 384, 640)\n"
          ]
        },
        {
          "metadata": {
            "tags": null
          },
          "name": "stderr",
          "output_type": "stream",
          "text": [
            "\r 45%|████▍     | 228/508 [02:38<02:24,  1.94it/s]"
          ]
        },
        {
          "metadata": {
            "tags": null
          },
          "name": "stdout",
          "output_type": "stream",
          "text": [
            "\n",
            "0: 384x640 6 cars, 172.6ms\n",
            "Speed: 2.6ms preprocess, 172.6ms inference, 1.5ms postprocess per image at shape (1, 3, 384, 640)\n"
          ]
        },
        {
          "metadata": {
            "tags": null
          },
          "name": "stderr",
          "output_type": "stream",
          "text": [
            "\r 45%|████▌     | 229/508 [02:38<02:30,  1.85it/s]"
          ]
        },
        {
          "metadata": {
            "tags": null
          },
          "name": "stdout",
          "output_type": "stream",
          "text": [
            "\n",
            "0: 384x640 9 cars, 286.0ms\n",
            "Speed: 3.3ms preprocess, 286.0ms inference, 3.1ms postprocess per image at shape (1, 3, 384, 640)\n"
          ]
        },
        {
          "metadata": {
            "tags": null
          },
          "name": "stderr",
          "output_type": "stream",
          "text": [
            "\r 45%|████▌     | 230/508 [02:39<03:16,  1.41it/s]"
          ]
        },
        {
          "metadata": {
            "tags": null
          },
          "name": "stdout",
          "output_type": "stream",
          "text": [
            "\n",
            "0: 384x640 7 cars, 257.1ms\n",
            "Speed: 2.6ms preprocess, 257.1ms inference, 2.1ms postprocess per image at shape (1, 3, 384, 640)\n"
          ]
        },
        {
          "metadata": {
            "tags": null
          },
          "name": "stderr",
          "output_type": "stream",
          "text": [
            "\r 45%|████▌     | 231/508 [02:40<03:33,  1.30it/s]"
          ]
        },
        {
          "metadata": {
            "tags": null
          },
          "name": "stdout",
          "output_type": "stream",
          "text": [
            "\n",
            "0: 384x640 6 cars, 248.5ms\n",
            "Speed: 5.3ms preprocess, 248.5ms inference, 2.1ms postprocess per image at shape (1, 3, 384, 640)\n"
          ]
        },
        {
          "metadata": {
            "tags": null
          },
          "name": "stderr",
          "output_type": "stream",
          "text": [
            "\r 46%|████▌     | 232/508 [02:41<03:40,  1.25it/s]"
          ]
        },
        {
          "metadata": {
            "tags": null
          },
          "name": "stdout",
          "output_type": "stream",
          "text": [
            "\n",
            "0: 384x640 5 cars, 312.7ms\n",
            "Speed: 2.6ms preprocess, 312.7ms inference, 2.1ms postprocess per image at shape (1, 3, 384, 640)\n"
          ]
        },
        {
          "metadata": {
            "tags": null
          },
          "name": "stderr",
          "output_type": "stream",
          "text": [
            "\r 46%|████▌     | 233/508 [02:42<03:44,  1.23it/s]"
          ]
        },
        {
          "metadata": {
            "tags": null
          },
          "name": "stdout",
          "output_type": "stream",
          "text": [
            "\n",
            "0: 384x640 5 cars, 244.7ms\n",
            "Speed: 2.6ms preprocess, 244.7ms inference, 1.5ms postprocess per image at shape (1, 3, 384, 640)\n"
          ]
        },
        {
          "metadata": {
            "tags": null
          },
          "name": "stderr",
          "output_type": "stream",
          "text": [
            "\r 46%|████▌     | 234/508 [02:42<03:23,  1.34it/s]"
          ]
        },
        {
          "metadata": {
            "tags": null
          },
          "name": "stdout",
          "output_type": "stream",
          "text": [
            "\n",
            "0: 384x640 6 cars, 190.1ms\n",
            "Speed: 3.4ms preprocess, 190.1ms inference, 1.5ms postprocess per image at shape (1, 3, 384, 640)\n"
          ]
        },
        {
          "metadata": {
            "tags": null
          },
          "name": "stderr",
          "output_type": "stream",
          "text": [
            "\r 46%|████▋     | 235/508 [02:43<03:10,  1.43it/s]"
          ]
        },
        {
          "metadata": {
            "tags": null
          },
          "name": "stdout",
          "output_type": "stream",
          "text": [
            "\n",
            "0: 384x640 6 cars, 193.2ms\n",
            "Speed: 2.8ms preprocess, 193.2ms inference, 1.5ms postprocess per image at shape (1, 3, 384, 640)\n"
          ]
        },
        {
          "metadata": {
            "tags": null
          },
          "name": "stderr",
          "output_type": "stream",
          "text": [
            "\r 46%|████▋     | 236/508 [02:44<02:59,  1.52it/s]"
          ]
        },
        {
          "metadata": {
            "tags": null
          },
          "name": "stdout",
          "output_type": "stream",
          "text": [
            "\n",
            "0: 384x640 7 cars, 160.6ms\n",
            "Speed: 3.9ms preprocess, 160.6ms inference, 1.6ms postprocess per image at shape (1, 3, 384, 640)\n"
          ]
        },
        {
          "metadata": {
            "tags": null
          },
          "name": "stderr",
          "output_type": "stream",
          "text": [
            "\r 47%|████▋     | 237/508 [02:44<02:55,  1.55it/s]"
          ]
        },
        {
          "metadata": {
            "tags": null
          },
          "name": "stdout",
          "output_type": "stream",
          "text": [
            "\n",
            "0: 384x640 6 cars, 201.1ms\n",
            "Speed: 2.5ms preprocess, 201.1ms inference, 1.7ms postprocess per image at shape (1, 3, 384, 640)\n"
          ]
        },
        {
          "metadata": {
            "tags": null
          },
          "name": "stderr",
          "output_type": "stream",
          "text": [
            "\r 47%|████▋     | 238/508 [02:45<02:50,  1.58it/s]"
          ]
        },
        {
          "metadata": {
            "tags": null
          },
          "name": "stdout",
          "output_type": "stream",
          "text": [
            "\n",
            "0: 384x640 6 cars, 208.5ms\n",
            "Speed: 2.6ms preprocess, 208.5ms inference, 1.8ms postprocess per image at shape (1, 3, 384, 640)\n"
          ]
        },
        {
          "metadata": {
            "tags": null
          },
          "name": "stderr",
          "output_type": "stream",
          "text": [
            "\r 47%|████▋     | 239/508 [02:45<02:48,  1.60it/s]"
          ]
        },
        {
          "metadata": {
            "tags": null
          },
          "name": "stdout",
          "output_type": "stream",
          "text": [
            "\n",
            "0: 384x640 7 cars, 208.3ms\n",
            "Speed: 2.7ms preprocess, 208.3ms inference, 1.5ms postprocess per image at shape (1, 3, 384, 640)\n"
          ]
        },
        {
          "metadata": {
            "tags": null
          },
          "name": "stderr",
          "output_type": "stream",
          "text": [
            "\r 47%|████▋     | 240/508 [02:46<02:51,  1.56it/s]"
          ]
        },
        {
          "metadata": {
            "tags": null
          },
          "name": "stdout",
          "output_type": "stream",
          "text": [
            "\n",
            "0: 384x640 7 cars, 208.4ms\n",
            "Speed: 8.0ms preprocess, 208.4ms inference, 1.6ms postprocess per image at shape (1, 3, 384, 640)\n"
          ]
        },
        {
          "metadata": {
            "tags": null
          },
          "name": "stderr",
          "output_type": "stream",
          "text": [
            "\r 47%|████▋     | 241/508 [02:47<02:52,  1.55it/s]"
          ]
        },
        {
          "metadata": {
            "tags": null
          },
          "name": "stdout",
          "output_type": "stream",
          "text": [
            "\n",
            "0: 384x640 7 cars, 209.6ms\n",
            "Speed: 2.6ms preprocess, 209.6ms inference, 1.6ms postprocess per image at shape (1, 3, 384, 640)\n"
          ]
        },
        {
          "metadata": {
            "tags": null
          },
          "name": "stderr",
          "output_type": "stream",
          "text": [
            "\r 48%|████▊     | 242/508 [02:47<02:52,  1.55it/s]"
          ]
        },
        {
          "metadata": {
            "tags": null
          },
          "name": "stdout",
          "output_type": "stream",
          "text": [
            "\n",
            "0: 384x640 9 cars, 1 truck, 190.7ms\n",
            "Speed: 4.6ms preprocess, 190.7ms inference, 1.5ms postprocess per image at shape (1, 3, 384, 640)\n"
          ]
        },
        {
          "metadata": {
            "tags": null
          },
          "name": "stderr",
          "output_type": "stream",
          "text": [
            "\r 48%|████▊     | 243/508 [02:48<03:03,  1.44it/s]"
          ]
        },
        {
          "metadata": {
            "tags": null
          },
          "name": "stdout",
          "output_type": "stream",
          "text": [
            "\n",
            "0: 384x640 9 cars, 2 trucks, 184.7ms\n",
            "Speed: 2.8ms preprocess, 184.7ms inference, 1.6ms postprocess per image at shape (1, 3, 384, 640)\n"
          ]
        },
        {
          "metadata": {
            "tags": null
          },
          "name": "stderr",
          "output_type": "stream",
          "text": [
            "\r 48%|████▊     | 244/508 [02:49<03:16,  1.35it/s]"
          ]
        },
        {
          "metadata": {
            "tags": null
          },
          "name": "stdout",
          "output_type": "stream",
          "text": [
            "\n",
            "0: 384x640 9 cars, 2 trucks, 205.0ms\n",
            "Speed: 4.2ms preprocess, 205.0ms inference, 1.7ms postprocess per image at shape (1, 3, 384, 640)\n"
          ]
        },
        {
          "metadata": {
            "tags": null
          },
          "name": "stderr",
          "output_type": "stream",
          "text": [
            "\r 48%|████▊     | 245/508 [02:50<03:24,  1.28it/s]"
          ]
        },
        {
          "metadata": {
            "tags": null
          },
          "name": "stdout",
          "output_type": "stream",
          "text": [
            "\n",
            "0: 384x640 6 cars, 2 trucks, 198.4ms\n",
            "Speed: 2.5ms preprocess, 198.4ms inference, 1.6ms postprocess per image at shape (1, 3, 384, 640)\n"
          ]
        },
        {
          "metadata": {
            "tags": null
          },
          "name": "stderr",
          "output_type": "stream",
          "text": [
            "\r 48%|████▊     | 246/508 [02:51<03:17,  1.33it/s]"
          ]
        },
        {
          "metadata": {
            "tags": null
          },
          "name": "stdout",
          "output_type": "stream",
          "text": [
            "\n",
            "0: 384x640 6 cars, 2 trucks, 188.7ms\n",
            "Speed: 2.7ms preprocess, 188.7ms inference, 1.7ms postprocess per image at shape (1, 3, 384, 640)\n"
          ]
        },
        {
          "metadata": {
            "tags": null
          },
          "name": "stderr",
          "output_type": "stream",
          "text": [
            "\r 49%|████▊     | 247/508 [02:51<03:12,  1.35it/s]"
          ]
        },
        {
          "metadata": {
            "tags": null
          },
          "name": "stdout",
          "output_type": "stream",
          "text": [
            "\n",
            "0: 384x640 5 cars, 3 trucks, 196.7ms\n",
            "Speed: 3.6ms preprocess, 196.7ms inference, 1.7ms postprocess per image at shape (1, 3, 384, 640)\n"
          ]
        },
        {
          "metadata": {
            "tags": null
          },
          "name": "stderr",
          "output_type": "stream",
          "text": [
            "\r 49%|████▉     | 248/508 [02:52<03:09,  1.37it/s]"
          ]
        },
        {
          "metadata": {
            "tags": null
          },
          "name": "stdout",
          "output_type": "stream",
          "text": [
            "\n",
            "0: 384x640 4 cars, 4 trucks, 289.5ms\n",
            "Speed: 8.5ms preprocess, 289.5ms inference, 1.6ms postprocess per image at shape (1, 3, 384, 640)\n"
          ]
        },
        {
          "metadata": {
            "tags": null
          },
          "name": "stderr",
          "output_type": "stream",
          "text": [
            "\r 49%|████▉     | 249/508 [02:53<03:37,  1.19it/s]"
          ]
        },
        {
          "metadata": {
            "tags": null
          },
          "name": "stdout",
          "output_type": "stream",
          "text": [
            "\n",
            "0: 384x640 6 cars, 3 trucks, 284.9ms\n",
            "Speed: 5.0ms preprocess, 284.9ms inference, 2.0ms postprocess per image at shape (1, 3, 384, 640)\n"
          ]
        },
        {
          "metadata": {
            "tags": null
          },
          "name": "stderr",
          "output_type": "stream",
          "text": [
            "\r 49%|████▉     | 250/508 [02:54<03:56,  1.09it/s]"
          ]
        },
        {
          "metadata": {
            "tags": null
          },
          "name": "stdout",
          "output_type": "stream",
          "text": [
            "\n",
            "0: 384x640 8 cars, 3 trucks, 296.9ms\n",
            "Speed: 3.6ms preprocess, 296.9ms inference, 2.0ms postprocess per image at shape (1, 3, 384, 640)\n"
          ]
        },
        {
          "metadata": {
            "tags": null
          },
          "name": "stderr",
          "output_type": "stream",
          "text": [
            "\r 49%|████▉     | 251/508 [02:56<04:37,  1.08s/it]"
          ]
        },
        {
          "metadata": {
            "tags": null
          },
          "name": "stdout",
          "output_type": "stream",
          "text": [
            "\n",
            "0: 384x640 9 cars, 2 trucks, 303.7ms\n",
            "Speed: 4.9ms preprocess, 303.7ms inference, 7.4ms postprocess per image at shape (1, 3, 384, 640)\n"
          ]
        },
        {
          "metadata": {
            "tags": null
          },
          "name": "stderr",
          "output_type": "stream",
          "text": [
            "\r 50%|████▉     | 252/508 [02:57<04:33,  1.07s/it]"
          ]
        },
        {
          "metadata": {
            "tags": null
          },
          "name": "stdout",
          "output_type": "stream",
          "text": [
            "\n",
            "0: 384x640 10 cars, 1 truck, 196.9ms\n",
            "Speed: 2.8ms preprocess, 196.9ms inference, 1.8ms postprocess per image at shape (1, 3, 384, 640)\n"
          ]
        },
        {
          "metadata": {
            "tags": null
          },
          "name": "stderr",
          "output_type": "stream",
          "text": [
            "\r 50%|████▉     | 253/508 [02:58<04:16,  1.01s/it]"
          ]
        },
        {
          "metadata": {
            "tags": null
          },
          "name": "stdout",
          "output_type": "stream",
          "text": [
            "\n",
            "0: 384x640 8 cars, 2 trucks, 193.3ms\n",
            "Speed: 3.3ms preprocess, 193.3ms inference, 1.6ms postprocess per image at shape (1, 3, 384, 640)\n"
          ]
        },
        {
          "metadata": {
            "tags": null
          },
          "name": "stderr",
          "output_type": "stream",
          "text": [
            "\r 50%|█████     | 254/508 [02:58<04:01,  1.05it/s]"
          ]
        },
        {
          "metadata": {
            "tags": null
          },
          "name": "stdout",
          "output_type": "stream",
          "text": [
            "\n",
            "0: 384x640 8 cars, 3 trucks, 208.5ms\n",
            "Speed: 2.5ms preprocess, 208.5ms inference, 1.6ms postprocess per image at shape (1, 3, 384, 640)\n"
          ]
        },
        {
          "metadata": {
            "tags": null
          },
          "name": "stderr",
          "output_type": "stream",
          "text": [
            "\r 50%|█████     | 255/508 [02:59<03:53,  1.08it/s]"
          ]
        },
        {
          "metadata": {
            "tags": null
          },
          "name": "stdout",
          "output_type": "stream",
          "text": [
            "\n",
            "0: 384x640 9 cars, 1 truck, 190.1ms\n",
            "Speed: 3.6ms preprocess, 190.1ms inference, 1.5ms postprocess per image at shape (1, 3, 384, 640)\n"
          ]
        },
        {
          "metadata": {
            "tags": null
          },
          "name": "stderr",
          "output_type": "stream",
          "text": [
            "\r 50%|█████     | 256/508 [03:00<03:45,  1.12it/s]"
          ]
        },
        {
          "metadata": {
            "tags": null
          },
          "name": "stdout",
          "output_type": "stream",
          "text": [
            "\n",
            "0: 384x640 10 cars, 3 trucks, 201.7ms\n",
            "Speed: 3.3ms preprocess, 201.7ms inference, 1.6ms postprocess per image at shape (1, 3, 384, 640)\n"
          ]
        },
        {
          "metadata": {
            "tags": null
          },
          "name": "stderr",
          "output_type": "stream",
          "text": [
            "\r 51%|█████     | 257/508 [03:01<03:51,  1.08it/s]"
          ]
        },
        {
          "metadata": {
            "tags": null
          },
          "name": "stdout",
          "output_type": "stream",
          "text": [
            "\n",
            "0: 384x640 10 cars, 3 trucks, 212.0ms\n",
            "Speed: 2.7ms preprocess, 212.0ms inference, 1.6ms postprocess per image at shape (1, 3, 384, 640)\n"
          ]
        },
        {
          "metadata": {
            "tags": null
          },
          "name": "stderr",
          "output_type": "stream",
          "text": [
            "\r 51%|█████     | 258/508 [03:02<04:05,  1.02it/s]"
          ]
        },
        {
          "metadata": {
            "tags": null
          },
          "name": "stdout",
          "output_type": "stream",
          "text": [
            "\n",
            "0: 384x640 11 cars, 3 trucks, 188.5ms\n",
            "Speed: 3.0ms preprocess, 188.5ms inference, 1.6ms postprocess per image at shape (1, 3, 384, 640)\n"
          ]
        },
        {
          "metadata": {
            "tags": null
          },
          "name": "stderr",
          "output_type": "stream",
          "text": [
            "\r 51%|█████     | 259/508 [03:03<04:09,  1.00s/it]"
          ]
        },
        {
          "metadata": {
            "tags": null
          },
          "name": "stdout",
          "output_type": "stream",
          "text": [
            "\n",
            "0: 384x640 10 cars, 3 trucks, 218.3ms\n",
            "Speed: 3.3ms preprocess, 218.3ms inference, 1.8ms postprocess per image at shape (1, 3, 384, 640)\n"
          ]
        },
        {
          "metadata": {
            "tags": null
          },
          "name": "stderr",
          "output_type": "stream",
          "text": [
            "\r 51%|█████     | 260/508 [03:04<04:11,  1.01s/it]"
          ]
        },
        {
          "metadata": {
            "tags": null
          },
          "name": "stdout",
          "output_type": "stream",
          "text": [
            "\n",
            "0: 384x640 12 cars, 1 truck, 209.8ms\n",
            "Speed: 3.8ms preprocess, 209.8ms inference, 1.7ms postprocess per image at shape (1, 3, 384, 640)\n"
          ]
        },
        {
          "metadata": {
            "tags": null
          },
          "name": "stderr",
          "output_type": "stream",
          "text": [
            "\r 51%|█████▏    | 261/508 [03:05<04:10,  1.01s/it]"
          ]
        },
        {
          "metadata": {
            "tags": null
          },
          "name": "stdout",
          "output_type": "stream",
          "text": [
            "\n",
            "0: 384x640 10 cars, 4 trucks, 214.2ms\n",
            "Speed: 2.7ms preprocess, 214.2ms inference, 1.7ms postprocess per image at shape (1, 3, 384, 640)\n"
          ]
        },
        {
          "metadata": {
            "tags": null
          },
          "name": "stderr",
          "output_type": "stream",
          "text": [
            "\r 52%|█████▏    | 262/508 [03:07<04:26,  1.08s/it]"
          ]
        },
        {
          "metadata": {
            "tags": null
          },
          "name": "stdout",
          "output_type": "stream",
          "text": [
            "\n",
            "0: 384x640 10 cars, 1 truck, 284.7ms\n",
            "Speed: 11.1ms preprocess, 284.7ms inference, 2.0ms postprocess per image at shape (1, 3, 384, 640)\n"
          ]
        },
        {
          "metadata": {
            "tags": null
          },
          "name": "stderr",
          "output_type": "stream",
          "text": [
            "\r 52%|█████▏    | 263/508 [03:08<04:45,  1.16s/it]"
          ]
        },
        {
          "metadata": {
            "tags": null
          },
          "name": "stdout",
          "output_type": "stream",
          "text": [
            "\n",
            "0: 384x640 15 cars, 3 trucks, 265.0ms\n",
            "Speed: 8.0ms preprocess, 265.0ms inference, 3.4ms postprocess per image at shape (1, 3, 384, 640)\n"
          ]
        },
        {
          "metadata": {
            "tags": null
          },
          "name": "stderr",
          "output_type": "stream",
          "text": [
            "\r 52%|█████▏    | 264/508 [03:10<05:40,  1.40s/it]"
          ]
        },
        {
          "metadata": {
            "tags": null
          },
          "name": "stdout",
          "output_type": "stream",
          "text": [
            "\n",
            "0: 384x640 12 cars, 5 trucks, 263.5ms\n",
            "Speed: 4.5ms preprocess, 263.5ms inference, 1.5ms postprocess per image at shape (1, 3, 384, 640)\n"
          ]
        },
        {
          "metadata": {
            "tags": null
          },
          "name": "stderr",
          "output_type": "stream",
          "text": [
            "\r 52%|█████▏    | 265/508 [03:11<05:30,  1.36s/it]"
          ]
        },
        {
          "metadata": {
            "tags": null
          },
          "name": "stdout",
          "output_type": "stream",
          "text": [
            "\n",
            "0: 384x640 12 cars, 5 trucks, 208.0ms\n",
            "Speed: 6.3ms preprocess, 208.0ms inference, 1.5ms postprocess per image at shape (1, 3, 384, 640)\n"
          ]
        },
        {
          "metadata": {
            "tags": null
          },
          "name": "stderr",
          "output_type": "stream",
          "text": [
            "\r 52%|█████▏    | 266/508 [03:12<05:27,  1.35s/it]"
          ]
        },
        {
          "metadata": {
            "tags": null
          },
          "name": "stdout",
          "output_type": "stream",
          "text": [
            "\n",
            "0: 384x640 11 cars, 3 trucks, 189.4ms\n",
            "Speed: 3.0ms preprocess, 189.4ms inference, 1.6ms postprocess per image at shape (1, 3, 384, 640)\n"
          ]
        },
        {
          "metadata": {
            "tags": null
          },
          "name": "stderr",
          "output_type": "stream",
          "text": [
            "\r 53%|█████▎    | 267/508 [03:13<05:02,  1.26s/it]"
          ]
        },
        {
          "metadata": {
            "tags": null
          },
          "name": "stdout",
          "output_type": "stream",
          "text": [
            "\n",
            "0: 384x640 10 cars, 2 trucks, 211.5ms\n",
            "Speed: 2.6ms preprocess, 211.5ms inference, 1.5ms postprocess per image at shape (1, 3, 384, 640)\n"
          ]
        },
        {
          "metadata": {
            "tags": null
          },
          "name": "stderr",
          "output_type": "stream",
          "text": [
            "\r 53%|█████▎    | 268/508 [03:15<04:45,  1.19s/it]"
          ]
        },
        {
          "metadata": {
            "tags": null
          },
          "name": "stdout",
          "output_type": "stream",
          "text": [
            "\n",
            "0: 384x640 12 cars, 3 trucks, 182.4ms\n",
            "Speed: 3.1ms preprocess, 182.4ms inference, 1.6ms postprocess per image at shape (1, 3, 384, 640)\n"
          ]
        },
        {
          "metadata": {
            "tags": null
          },
          "name": "stderr",
          "output_type": "stream",
          "text": [
            "\r 53%|█████▎    | 269/508 [03:16<04:43,  1.19s/it]"
          ]
        },
        {
          "metadata": {
            "tags": null
          },
          "name": "stdout",
          "output_type": "stream",
          "text": [
            "\n",
            "0: 384x640 9 cars, 4 trucks, 208.7ms\n",
            "Speed: 3.0ms preprocess, 208.7ms inference, 2.0ms postprocess per image at shape (1, 3, 384, 640)\n"
          ]
        },
        {
          "metadata": {
            "tags": null
          },
          "name": "stderr",
          "output_type": "stream",
          "text": [
            "\r 53%|█████▎    | 270/508 [03:17<04:34,  1.15s/it]"
          ]
        },
        {
          "metadata": {
            "tags": null
          },
          "name": "stdout",
          "output_type": "stream",
          "text": [
            "\n",
            "0: 384x640 10 cars, 4 trucks, 210.5ms\n",
            "Speed: 2.7ms preprocess, 210.5ms inference, 1.8ms postprocess per image at shape (1, 3, 384, 640)\n"
          ]
        },
        {
          "metadata": {
            "tags": null
          },
          "name": "stderr",
          "output_type": "stream",
          "text": [
            "\r 53%|█████▎    | 271/508 [03:18<04:34,  1.16s/it]"
          ]
        },
        {
          "metadata": {
            "tags": null
          },
          "name": "stdout",
          "output_type": "stream",
          "text": [
            "\n",
            "0: 384x640 9 cars, 5 trucks, 206.9ms\n",
            "Speed: 5.2ms preprocess, 206.9ms inference, 1.6ms postprocess per image at shape (1, 3, 384, 640)\n"
          ]
        },
        {
          "metadata": {
            "tags": null
          },
          "name": "stderr",
          "output_type": "stream",
          "text": [
            "\r 54%|█████▎    | 272/508 [03:19<04:24,  1.12s/it]"
          ]
        },
        {
          "metadata": {
            "tags": null
          },
          "name": "stdout",
          "output_type": "stream",
          "text": [
            "\n",
            "0: 384x640 9 cars, 3 trucks, 219.5ms\n",
            "Speed: 2.9ms preprocess, 219.5ms inference, 1.5ms postprocess per image at shape (1, 3, 384, 640)\n"
          ]
        },
        {
          "metadata": {
            "tags": null
          },
          "name": "stderr",
          "output_type": "stream",
          "text": [
            "\r 54%|█████▎    | 273/508 [03:20<04:17,  1.10s/it]"
          ]
        },
        {
          "metadata": {
            "tags": null
          },
          "name": "stdout",
          "output_type": "stream",
          "text": [
            "\n",
            "0: 384x640 10 cars, 4 trucks, 264.5ms\n",
            "Speed: 4.4ms preprocess, 264.5ms inference, 2.2ms postprocess per image at shape (1, 3, 384, 640)\n"
          ]
        },
        {
          "metadata": {
            "tags": null
          },
          "name": "stderr",
          "output_type": "stream",
          "text": [
            "\r 54%|█████▍    | 274/508 [03:22<04:47,  1.23s/it]"
          ]
        },
        {
          "metadata": {
            "tags": null
          },
          "name": "stdout",
          "output_type": "stream",
          "text": [
            "\n",
            "0: 384x640 8 cars, 3 trucks, 291.3ms\n",
            "Speed: 7.7ms preprocess, 291.3ms inference, 2.2ms postprocess per image at shape (1, 3, 384, 640)\n"
          ]
        },
        {
          "metadata": {
            "tags": null
          },
          "name": "stderr",
          "output_type": "stream",
          "text": [
            "\r 54%|█████▍    | 275/508 [03:23<04:53,  1.26s/it]"
          ]
        },
        {
          "metadata": {
            "tags": null
          },
          "name": "stdout",
          "output_type": "stream",
          "text": [
            "\n",
            "0: 384x640 9 cars, 2 trucks, 310.4ms\n",
            "Speed: 3.5ms preprocess, 310.4ms inference, 2.1ms postprocess per image at shape (1, 3, 384, 640)\n"
          ]
        },
        {
          "metadata": {
            "tags": null
          },
          "name": "stderr",
          "output_type": "stream",
          "text": [
            "\r 54%|█████▍    | 276/508 [03:24<04:55,  1.27s/it]"
          ]
        },
        {
          "metadata": {
            "tags": null
          },
          "name": "stdout",
          "output_type": "stream",
          "text": [
            "\n",
            "0: 384x640 10 cars, 1 truck, 182.1ms\n",
            "Speed: 2.4ms preprocess, 182.1ms inference, 1.6ms postprocess per image at shape (1, 3, 384, 640)\n"
          ]
        },
        {
          "metadata": {
            "tags": null
          },
          "name": "stderr",
          "output_type": "stream",
          "text": [
            "\r 55%|█████▍    | 277/508 [03:25<04:26,  1.15s/it]"
          ]
        },
        {
          "metadata": {
            "tags": null
          },
          "name": "stdout",
          "output_type": "stream",
          "text": [
            "\n",
            "0: 384x640 10 cars, 3 trucks, 190.2ms\n",
            "Speed: 2.7ms preprocess, 190.2ms inference, 1.5ms postprocess per image at shape (1, 3, 384, 640)\n"
          ]
        },
        {
          "metadata": {
            "tags": null
          },
          "name": "stderr",
          "output_type": "stream",
          "text": [
            "\r 55%|█████▍    | 278/508 [03:26<04:13,  1.10s/it]"
          ]
        },
        {
          "metadata": {
            "tags": null
          },
          "name": "stdout",
          "output_type": "stream",
          "text": [
            "\n",
            "0: 384x640 11 cars, 3 trucks, 186.7ms\n",
            "Speed: 3.0ms preprocess, 186.7ms inference, 1.6ms postprocess per image at shape (1, 3, 384, 640)\n"
          ]
        },
        {
          "metadata": {
            "tags": null
          },
          "name": "stderr",
          "output_type": "stream",
          "text": [
            "\r 55%|█████▍    | 279/508 [03:27<04:05,  1.07s/it]"
          ]
        },
        {
          "metadata": {
            "tags": null
          },
          "name": "stdout",
          "output_type": "stream",
          "text": [
            "\n",
            "0: 384x640 12 cars, 4 trucks, 185.9ms\n",
            "Speed: 2.8ms preprocess, 185.9ms inference, 1.6ms postprocess per image at shape (1, 3, 384, 640)\n"
          ]
        },
        {
          "metadata": {
            "tags": null
          },
          "name": "stderr",
          "output_type": "stream",
          "text": [
            "\r 55%|█████▌    | 280/508 [03:28<04:16,  1.12s/it]"
          ]
        },
        {
          "metadata": {
            "tags": null
          },
          "name": "stdout",
          "output_type": "stream",
          "text": [
            "\n",
            "0: 384x640 11 cars, 5 trucks, 192.9ms\n",
            "Speed: 2.7ms preprocess, 192.9ms inference, 1.8ms postprocess per image at shape (1, 3, 384, 640)\n"
          ]
        },
        {
          "metadata": {
            "tags": null
          },
          "name": "stderr",
          "output_type": "stream",
          "text": [
            "\r 55%|█████▌    | 281/508 [03:29<04:16,  1.13s/it]"
          ]
        },
        {
          "metadata": {
            "tags": null
          },
          "name": "stdout",
          "output_type": "stream",
          "text": [
            "\n",
            "0: 384x640 10 cars, 6 trucks, 212.5ms\n",
            "Speed: 2.7ms preprocess, 212.5ms inference, 1.5ms postprocess per image at shape (1, 3, 384, 640)\n"
          ]
        },
        {
          "metadata": {
            "tags": null
          },
          "name": "stderr",
          "output_type": "stream",
          "text": [
            "\r 56%|█████▌    | 282/508 [03:31<04:24,  1.17s/it]"
          ]
        },
        {
          "metadata": {
            "tags": null
          },
          "name": "stdout",
          "output_type": "stream",
          "text": [
            "\n",
            "0: 384x640 12 cars, 5 trucks, 211.8ms\n",
            "Speed: 2.6ms preprocess, 211.8ms inference, 2.8ms postprocess per image at shape (1, 3, 384, 640)\n"
          ]
        },
        {
          "metadata": {
            "tags": null
          },
          "name": "stderr",
          "output_type": "stream",
          "text": [
            "\r 56%|█████▌    | 283/508 [03:32<04:32,  1.21s/it]"
          ]
        },
        {
          "metadata": {
            "tags": null
          },
          "name": "stdout",
          "output_type": "stream",
          "text": [
            "\n",
            "0: 384x640 10 cars, 7 trucks, 181.5ms\n",
            "Speed: 2.9ms preprocess, 181.5ms inference, 2.4ms postprocess per image at shape (1, 3, 384, 640)\n"
          ]
        },
        {
          "metadata": {
            "tags": null
          },
          "name": "stderr",
          "output_type": "stream",
          "text": [
            "\r 56%|█████▌    | 284/508 [03:33<04:36,  1.24s/it]"
          ]
        },
        {
          "metadata": {
            "tags": null
          },
          "name": "stdout",
          "output_type": "stream",
          "text": [
            "\n",
            "0: 384x640 10 cars, 4 trucks, 198.6ms\n",
            "Speed: 3.1ms preprocess, 198.6ms inference, 1.5ms postprocess per image at shape (1, 3, 384, 640)\n"
          ]
        },
        {
          "metadata": {
            "tags": null
          },
          "name": "stderr",
          "output_type": "stream",
          "text": [
            "\r 56%|█████▌    | 285/508 [03:35<04:36,  1.24s/it]"
          ]
        },
        {
          "metadata": {
            "tags": null
          },
          "name": "stdout",
          "output_type": "stream",
          "text": [
            "\n",
            "0: 384x640 11 cars, 5 trucks, 263.9ms\n",
            "Speed: 8.1ms preprocess, 263.9ms inference, 2.0ms postprocess per image at shape (1, 3, 384, 640)\n"
          ]
        },
        {
          "metadata": {
            "tags": null
          },
          "name": "stderr",
          "output_type": "stream",
          "text": [
            "\r 56%|█████▋    | 286/508 [03:36<05:07,  1.39s/it]"
          ]
        },
        {
          "metadata": {
            "tags": null
          },
          "name": "stdout",
          "output_type": "stream",
          "text": [
            "\n",
            "0: 384x640 10 cars, 5 trucks, 299.1ms\n",
            "Speed: 11.9ms preprocess, 299.1ms inference, 2.4ms postprocess per image at shape (1, 3, 384, 640)\n"
          ]
        },
        {
          "metadata": {
            "tags": null
          },
          "name": "stderr",
          "output_type": "stream",
          "text": [
            "\r 56%|█████▋    | 287/508 [03:38<05:30,  1.49s/it]"
          ]
        },
        {
          "metadata": {
            "tags": null
          },
          "name": "stdout",
          "output_type": "stream",
          "text": [
            "\n",
            "0: 384x640 10 cars, 7 trucks, 246.7ms\n",
            "Speed: 5.9ms preprocess, 246.7ms inference, 1.6ms postprocess per image at shape (1, 3, 384, 640)\n"
          ]
        },
        {
          "metadata": {
            "tags": null
          },
          "name": "stderr",
          "output_type": "stream",
          "text": [
            "\r 57%|█████▋    | 288/508 [03:39<05:13,  1.42s/it]"
          ]
        },
        {
          "metadata": {
            "tags": null
          },
          "name": "stdout",
          "output_type": "stream",
          "text": [
            "\n",
            "0: 384x640 9 cars, 5 trucks, 219.2ms\n",
            "Speed: 2.6ms preprocess, 219.2ms inference, 1.7ms postprocess per image at shape (1, 3, 384, 640)\n"
          ]
        },
        {
          "metadata": {
            "tags": null
          },
          "name": "stderr",
          "output_type": "stream",
          "text": [
            "\r 57%|█████▋    | 289/508 [03:40<04:56,  1.36s/it]"
          ]
        },
        {
          "metadata": {
            "tags": null
          },
          "name": "stdout",
          "output_type": "stream",
          "text": [
            "\n",
            "0: 384x640 10 cars, 2 trucks, 198.5ms\n",
            "Speed: 2.6ms preprocess, 198.5ms inference, 1.6ms postprocess per image at shape (1, 3, 384, 640)\n"
          ]
        },
        {
          "metadata": {
            "tags": null
          },
          "name": "stderr",
          "output_type": "stream",
          "text": [
            "\r 57%|█████▋    | 290/508 [03:42<04:35,  1.26s/it]"
          ]
        },
        {
          "metadata": {
            "tags": null
          },
          "name": "stdout",
          "output_type": "stream",
          "text": [
            "\n",
            "0: 384x640 11 cars, 5 trucks, 182.5ms\n",
            "Speed: 3.2ms preprocess, 182.5ms inference, 1.6ms postprocess per image at shape (1, 3, 384, 640)\n"
          ]
        },
        {
          "metadata": {
            "tags": null
          },
          "name": "stderr",
          "output_type": "stream",
          "text": [
            "\r 57%|█████▋    | 291/508 [03:43<04:35,  1.27s/it]"
          ]
        },
        {
          "metadata": {
            "tags": null
          },
          "name": "stdout",
          "output_type": "stream",
          "text": [
            "\n",
            "0: 384x640 11 cars, 4 trucks, 215.9ms\n",
            "Speed: 2.6ms preprocess, 215.9ms inference, 1.6ms postprocess per image at shape (1, 3, 384, 640)\n"
          ]
        },
        {
          "metadata": {
            "tags": null
          },
          "name": "stderr",
          "output_type": "stream",
          "text": [
            "\r 57%|█████▋    | 292/508 [03:44<04:29,  1.25s/it]"
          ]
        },
        {
          "metadata": {
            "tags": null
          },
          "name": "stdout",
          "output_type": "stream",
          "text": [
            "\n",
            "0: 384x640 10 cars, 6 trucks, 194.7ms\n",
            "Speed: 3.0ms preprocess, 194.7ms inference, 1.7ms postprocess per image at shape (1, 3, 384, 640)\n"
          ]
        },
        {
          "metadata": {
            "tags": null
          },
          "name": "stderr",
          "output_type": "stream",
          "text": [
            "\r 58%|█████▊    | 293/508 [03:45<04:27,  1.25s/it]"
          ]
        },
        {
          "metadata": {
            "tags": null
          },
          "name": "stdout",
          "output_type": "stream",
          "text": [
            "\n",
            "0: 384x640 9 cars, 6 trucks, 212.5ms\n",
            "Speed: 3.2ms preprocess, 212.5ms inference, 1.6ms postprocess per image at shape (1, 3, 384, 640)\n"
          ]
        },
        {
          "metadata": {
            "tags": null
          },
          "name": "stderr",
          "output_type": "stream",
          "text": [
            "\r 58%|█████▊    | 294/508 [03:46<04:16,  1.20s/it]"
          ]
        },
        {
          "metadata": {
            "tags": null
          },
          "name": "stdout",
          "output_type": "stream",
          "text": [
            "\n",
            "0: 384x640 9 cars, 4 trucks, 217.8ms\n",
            "Speed: 2.6ms preprocess, 217.8ms inference, 1.6ms postprocess per image at shape (1, 3, 384, 640)\n"
          ]
        },
        {
          "metadata": {
            "tags": null
          },
          "name": "stderr",
          "output_type": "stream",
          "text": [
            "\r 58%|█████▊    | 295/508 [03:47<04:01,  1.13s/it]"
          ]
        },
        {
          "metadata": {
            "tags": null
          },
          "name": "stdout",
          "output_type": "stream",
          "text": [
            "\n",
            "0: 384x640 10 cars, 4 trucks, 228.2ms\n",
            "Speed: 3.0ms preprocess, 228.2ms inference, 1.7ms postprocess per image at shape (1, 3, 384, 640)\n"
          ]
        },
        {
          "metadata": {
            "tags": null
          },
          "name": "stderr",
          "output_type": "stream",
          "text": [
            "\r 58%|█████▊    | 296/508 [03:48<04:01,  1.14s/it]"
          ]
        },
        {
          "metadata": {
            "tags": null
          },
          "name": "stdout",
          "output_type": "stream",
          "text": [
            "\n",
            "0: 384x640 11 cars, 2 trucks, 292.4ms\n",
            "Speed: 4.0ms preprocess, 292.4ms inference, 2.0ms postprocess per image at shape (1, 3, 384, 640)\n"
          ]
        },
        {
          "metadata": {
            "tags": null
          },
          "name": "stderr",
          "output_type": "stream",
          "text": [
            "\r 58%|█████▊    | 297/508 [03:50<04:24,  1.25s/it]"
          ]
        },
        {
          "metadata": {
            "tags": null
          },
          "name": "stdout",
          "output_type": "stream",
          "text": [
            "\n",
            "0: 384x640 11 cars, 2 trucks, 291.0ms\n",
            "Speed: 6.0ms preprocess, 291.0ms inference, 2.4ms postprocess per image at shape (1, 3, 384, 640)\n"
          ]
        },
        {
          "metadata": {
            "tags": null
          },
          "name": "stderr",
          "output_type": "stream",
          "text": [
            "\r 59%|█████▊    | 298/508 [03:52<04:43,  1.35s/it]"
          ]
        },
        {
          "metadata": {
            "tags": null
          },
          "name": "stdout",
          "output_type": "stream",
          "text": [
            "\n",
            "0: 384x640 10 cars, 2 trucks, 258.1ms\n",
            "Speed: 2.6ms preprocess, 258.1ms inference, 1.7ms postprocess per image at shape (1, 3, 384, 640)\n"
          ]
        },
        {
          "metadata": {
            "tags": null
          },
          "name": "stderr",
          "output_type": "stream",
          "text": [
            "\r 59%|█████▉    | 299/508 [03:53<04:19,  1.24s/it]"
          ]
        },
        {
          "metadata": {
            "tags": null
          },
          "name": "stdout",
          "output_type": "stream",
          "text": [
            "\n",
            "0: 384x640 9 cars, 2 trucks, 219.4ms\n",
            "Speed: 3.2ms preprocess, 219.4ms inference, 2.2ms postprocess per image at shape (1, 3, 384, 640)\n"
          ]
        },
        {
          "metadata": {
            "tags": null
          },
          "name": "stderr",
          "output_type": "stream",
          "text": [
            "\r 59%|█████▉    | 300/508 [03:54<04:03,  1.17s/it]"
          ]
        },
        {
          "metadata": {
            "tags": null
          },
          "name": "stdout",
          "output_type": "stream",
          "text": [
            "\n",
            "0: 384x640 11 cars, 3 trucks, 183.8ms\n",
            "Speed: 3.0ms preprocess, 183.8ms inference, 1.8ms postprocess per image at shape (1, 3, 384, 640)\n"
          ]
        },
        {
          "metadata": {
            "tags": null
          },
          "name": "stderr",
          "output_type": "stream",
          "text": [
            "\r 59%|█████▉    | 301/508 [03:55<04:00,  1.16s/it]"
          ]
        },
        {
          "metadata": {
            "tags": null
          },
          "name": "stdout",
          "output_type": "stream",
          "text": [
            "\n",
            "0: 384x640 10 cars, 3 trucks, 220.9ms\n",
            "Speed: 3.9ms preprocess, 220.9ms inference, 1.6ms postprocess per image at shape (1, 3, 384, 640)\n"
          ]
        },
        {
          "metadata": {
            "tags": null
          },
          "name": "stderr",
          "output_type": "stream",
          "text": [
            "\r 59%|█████▉    | 302/508 [03:56<03:49,  1.11s/it]"
          ]
        },
        {
          "metadata": {
            "tags": null
          },
          "name": "stdout",
          "output_type": "stream",
          "text": [
            "\n",
            "0: 384x640 11 cars, 3 trucks, 237.8ms\n",
            "Speed: 2.5ms preprocess, 237.8ms inference, 1.7ms postprocess per image at shape (1, 3, 384, 640)\n"
          ]
        },
        {
          "metadata": {
            "tags": null
          },
          "name": "stderr",
          "output_type": "stream",
          "text": [
            "\r 60%|█████▉    | 303/508 [03:57<03:46,  1.11s/it]"
          ]
        },
        {
          "metadata": {
            "tags": null
          },
          "name": "stdout",
          "output_type": "stream",
          "text": [
            "\n",
            "0: 384x640 11 cars, 3 trucks, 229.8ms\n",
            "Speed: 2.9ms preprocess, 229.8ms inference, 1.6ms postprocess per image at shape (1, 3, 384, 640)\n"
          ]
        },
        {
          "metadata": {
            "tags": null
          },
          "name": "stderr",
          "output_type": "stream",
          "text": [
            "\r 60%|█████▉    | 304/508 [03:58<03:49,  1.12s/it]"
          ]
        },
        {
          "metadata": {
            "tags": null
          },
          "name": "stdout",
          "output_type": "stream",
          "text": [
            "\n",
            "0: 384x640 11 cars, 3 trucks, 215.0ms\n",
            "Speed: 2.9ms preprocess, 215.0ms inference, 1.7ms postprocess per image at shape (1, 3, 384, 640)\n"
          ]
        },
        {
          "metadata": {
            "tags": null
          },
          "name": "stderr",
          "output_type": "stream",
          "text": [
            "\r 60%|██████    | 305/508 [03:59<03:47,  1.12s/it]"
          ]
        },
        {
          "metadata": {
            "tags": null
          },
          "name": "stdout",
          "output_type": "stream",
          "text": [
            "\n",
            "0: 384x640 11 cars, 5 trucks, 196.9ms\n",
            "Speed: 5.8ms preprocess, 196.9ms inference, 1.9ms postprocess per image at shape (1, 3, 384, 640)\n"
          ]
        },
        {
          "metadata": {
            "tags": null
          },
          "name": "stderr",
          "output_type": "stream",
          "text": [
            "\r 60%|██████    | 306/508 [04:00<03:54,  1.16s/it]"
          ]
        },
        {
          "metadata": {
            "tags": null
          },
          "name": "stdout",
          "output_type": "stream",
          "text": [
            "\n",
            "0: 384x640 13 cars, 4 trucks, 209.0ms\n",
            "Speed: 2.8ms preprocess, 209.0ms inference, 1.6ms postprocess per image at shape (1, 3, 384, 640)\n"
          ]
        },
        {
          "metadata": {
            "tags": null
          },
          "name": "stderr",
          "output_type": "stream",
          "text": [
            "\r 60%|██████    | 307/508 [04:02<03:55,  1.17s/it]"
          ]
        },
        {
          "metadata": {
            "tags": null
          },
          "name": "stdout",
          "output_type": "stream",
          "text": [
            "\n",
            "0: 384x640 12 cars, 3 trucks, 212.5ms\n",
            "Speed: 2.8ms preprocess, 212.5ms inference, 1.6ms postprocess per image at shape (1, 3, 384, 640)\n"
          ]
        },
        {
          "metadata": {
            "tags": null
          },
          "name": "stderr",
          "output_type": "stream",
          "text": [
            "\r 61%|██████    | 308/508 [04:03<04:20,  1.30s/it]"
          ]
        },
        {
          "metadata": {
            "tags": null
          },
          "name": "stdout",
          "output_type": "stream",
          "text": [
            "\n",
            "0: 384x640 13 cars, 3 trucks, 288.9ms\n",
            "Speed: 4.3ms preprocess, 288.9ms inference, 2.1ms postprocess per image at shape (1, 3, 384, 640)\n"
          ]
        },
        {
          "metadata": {
            "tags": null
          },
          "name": "stderr",
          "output_type": "stream",
          "text": [
            "\r 61%|██████    | 309/508 [04:05<04:48,  1.45s/it]"
          ]
        },
        {
          "metadata": {
            "tags": null
          },
          "name": "stdout",
          "output_type": "stream",
          "text": [
            "\n",
            "0: 384x640 13 cars, 3 trucks, 305.7ms\n",
            "Speed: 2.5ms preprocess, 305.7ms inference, 2.2ms postprocess per image at shape (1, 3, 384, 640)\n"
          ]
        },
        {
          "metadata": {
            "tags": null
          },
          "name": "stderr",
          "output_type": "stream",
          "text": [
            "\r 61%|██████    | 310/508 [04:06<04:43,  1.43s/it]"
          ]
        },
        {
          "metadata": {
            "tags": null
          },
          "name": "stdout",
          "output_type": "stream",
          "text": [
            "\n",
            "0: 384x640 11 cars, 4 trucks, 212.7ms\n",
            "Speed: 2.7ms preprocess, 212.7ms inference, 1.6ms postprocess per image at shape (1, 3, 384, 640)\n"
          ]
        },
        {
          "metadata": {
            "tags": null
          },
          "name": "stderr",
          "output_type": "stream",
          "text": [
            "\r 61%|██████    | 311/508 [04:07<04:21,  1.33s/it]"
          ]
        },
        {
          "metadata": {
            "tags": null
          },
          "name": "stdout",
          "output_type": "stream",
          "text": [
            "\n",
            "0: 384x640 12 cars, 2 trucks, 213.0ms\n",
            "Speed: 3.2ms preprocess, 213.0ms inference, 1.6ms postprocess per image at shape (1, 3, 384, 640)\n"
          ]
        },
        {
          "metadata": {
            "tags": null
          },
          "name": "stderr",
          "output_type": "stream",
          "text": [
            "\r 61%|██████▏   | 312/508 [04:08<04:03,  1.24s/it]"
          ]
        },
        {
          "metadata": {
            "tags": null
          },
          "name": "stdout",
          "output_type": "stream",
          "text": [
            "\n",
            "0: 384x640 14 cars, 2 trucks, 220.3ms\n",
            "Speed: 3.1ms preprocess, 220.3ms inference, 1.5ms postprocess per image at shape (1, 3, 384, 640)\n"
          ]
        },
        {
          "metadata": {
            "tags": null
          },
          "name": "stderr",
          "output_type": "stream",
          "text": [
            "\r 62%|██████▏   | 313/508 [04:10<04:04,  1.25s/it]"
          ]
        },
        {
          "metadata": {
            "tags": null
          },
          "name": "stdout",
          "output_type": "stream",
          "text": [
            "\n",
            "0: 384x640 14 cars, 3 trucks, 208.5ms\n",
            "Speed: 3.0ms preprocess, 208.5ms inference, 1.5ms postprocess per image at shape (1, 3, 384, 640)\n"
          ]
        },
        {
          "metadata": {
            "tags": null
          },
          "name": "stderr",
          "output_type": "stream",
          "text": [
            "\r 62%|██████▏   | 314/508 [04:11<04:07,  1.28s/it]"
          ]
        },
        {
          "metadata": {
            "tags": null
          },
          "name": "stdout",
          "output_type": "stream",
          "text": [
            "\n",
            "0: 384x640 11 cars, 3 trucks, 181.3ms\n",
            "Speed: 3.9ms preprocess, 181.3ms inference, 1.8ms postprocess per image at shape (1, 3, 384, 640)\n"
          ]
        },
        {
          "metadata": {
            "tags": null
          },
          "name": "stderr",
          "output_type": "stream",
          "text": [
            "\r 62%|██████▏   | 315/508 [04:12<04:01,  1.25s/it]"
          ]
        },
        {
          "metadata": {
            "tags": null
          },
          "name": "stdout",
          "output_type": "stream",
          "text": [
            "\n",
            "0: 384x640 12 cars, 4 trucks, 202.3ms\n",
            "Speed: 6.5ms preprocess, 202.3ms inference, 1.7ms postprocess per image at shape (1, 3, 384, 640)\n"
          ]
        },
        {
          "metadata": {
            "tags": null
          },
          "name": "stderr",
          "output_type": "stream",
          "text": [
            "\r 62%|██████▏   | 316/508 [04:14<04:01,  1.26s/it]"
          ]
        },
        {
          "metadata": {
            "tags": null
          },
          "name": "stdout",
          "output_type": "stream",
          "text": [
            "\n",
            "0: 384x640 9 cars, 4 trucks, 204.4ms\n",
            "Speed: 9.4ms preprocess, 204.4ms inference, 1.5ms postprocess per image at shape (1, 3, 384, 640)\n"
          ]
        },
        {
          "metadata": {
            "tags": null
          },
          "name": "stderr",
          "output_type": "stream",
          "text": [
            "\r 62%|██████▏   | 317/508 [04:15<03:51,  1.21s/it]"
          ]
        },
        {
          "metadata": {
            "tags": null
          },
          "name": "stdout",
          "output_type": "stream",
          "text": [
            "\n",
            "0: 384x640 10 cars, 5 trucks, 194.1ms\n",
            "Speed: 2.5ms preprocess, 194.1ms inference, 1.6ms postprocess per image at shape (1, 3, 384, 640)\n"
          ]
        },
        {
          "metadata": {
            "tags": null
          },
          "name": "stderr",
          "output_type": "stream",
          "text": [
            "\r 63%|██████▎   | 318/508 [04:16<03:51,  1.22s/it]"
          ]
        },
        {
          "metadata": {
            "tags": null
          },
          "name": "stdout",
          "output_type": "stream",
          "text": [
            "\n",
            "0: 384x640 11 cars, 4 trucks, 273.5ms\n",
            "Speed: 5.3ms preprocess, 273.5ms inference, 4.3ms postprocess per image at shape (1, 3, 384, 640)\n"
          ]
        },
        {
          "metadata": {
            "tags": null
          },
          "name": "stderr",
          "output_type": "stream",
          "text": [
            "\r 63%|██████▎   | 319/508 [04:18<04:17,  1.36s/it]"
          ]
        },
        {
          "metadata": {
            "tags": null
          },
          "name": "stdout",
          "output_type": "stream",
          "text": [
            "\n",
            "0: 384x640 10 cars, 3 trucks, 291.7ms\n",
            "Speed: 3.0ms preprocess, 291.7ms inference, 2.9ms postprocess per image at shape (1, 3, 384, 640)\n"
          ]
        },
        {
          "metadata": {
            "tags": null
          },
          "name": "stderr",
          "output_type": "stream",
          "text": [
            "\r 63%|██████▎   | 320/508 [04:19<04:25,  1.41s/it]"
          ]
        },
        {
          "metadata": {
            "tags": null
          },
          "name": "stdout",
          "output_type": "stream",
          "text": [
            "\n",
            "0: 384x640 11 cars, 1 truck, 287.1ms\n",
            "Speed: 2.6ms preprocess, 287.1ms inference, 2.3ms postprocess per image at shape (1, 3, 384, 640)\n"
          ]
        },
        {
          "metadata": {
            "tags": null
          },
          "name": "stderr",
          "output_type": "stream",
          "text": [
            "\r 63%|██████▎   | 321/508 [04:20<04:07,  1.32s/it]"
          ]
        },
        {
          "metadata": {
            "tags": null
          },
          "name": "stdout",
          "output_type": "stream",
          "text": [
            "\n",
            "0: 384x640 10 cars, 2 trucks, 202.8ms\n",
            "Speed: 5.2ms preprocess, 202.8ms inference, 1.7ms postprocess per image at shape (1, 3, 384, 640)\n"
          ]
        },
        {
          "metadata": {
            "tags": null
          },
          "name": "stderr",
          "output_type": "stream",
          "text": [
            "\r 63%|██████▎   | 322/508 [04:21<03:50,  1.24s/it]"
          ]
        },
        {
          "metadata": {
            "tags": null
          },
          "name": "stdout",
          "output_type": "stream",
          "text": [
            "\n",
            "0: 384x640 8 cars, 3 trucks, 183.0ms\n",
            "Speed: 8.6ms preprocess, 183.0ms inference, 1.6ms postprocess per image at shape (1, 3, 384, 640)\n"
          ]
        },
        {
          "metadata": {
            "tags": null
          },
          "name": "stderr",
          "output_type": "stream",
          "text": [
            "\r 64%|██████▎   | 323/508 [04:22<03:28,  1.13s/it]"
          ]
        },
        {
          "metadata": {
            "tags": null
          },
          "name": "stdout",
          "output_type": "stream",
          "text": [
            "\n",
            "0: 384x640 10 cars, 2 trucks, 195.5ms\n",
            "Speed: 2.7ms preprocess, 195.5ms inference, 1.8ms postprocess per image at shape (1, 3, 384, 640)\n"
          ]
        },
        {
          "metadata": {
            "tags": null
          },
          "name": "stderr",
          "output_type": "stream",
          "text": [
            "\r 64%|██████▍   | 324/508 [04:23<03:20,  1.09s/it]"
          ]
        },
        {
          "metadata": {
            "tags": null
          },
          "name": "stdout",
          "output_type": "stream",
          "text": [
            "\n",
            "0: 384x640 11 cars, 2 trucks, 205.5ms\n",
            "Speed: 2.8ms preprocess, 205.5ms inference, 1.6ms postprocess per image at shape (1, 3, 384, 640)\n"
          ]
        },
        {
          "metadata": {
            "tags": null
          },
          "name": "stderr",
          "output_type": "stream",
          "text": [
            "\r 64%|██████▍   | 325/508 [04:24<03:19,  1.09s/it]"
          ]
        },
        {
          "metadata": {
            "tags": null
          },
          "name": "stdout",
          "output_type": "stream",
          "text": [
            "\n",
            "0: 384x640 11 cars, 2 trucks, 195.6ms\n",
            "Speed: 2.6ms preprocess, 195.6ms inference, 1.6ms postprocess per image at shape (1, 3, 384, 640)\n"
          ]
        },
        {
          "metadata": {
            "tags": null
          },
          "name": "stderr",
          "output_type": "stream",
          "text": [
            "\r 64%|██████▍   | 326/508 [04:25<03:14,  1.07s/it]"
          ]
        },
        {
          "metadata": {
            "tags": null
          },
          "name": "stdout",
          "output_type": "stream",
          "text": [
            "\n",
            "0: 384x640 10 cars, 3 trucks, 194.7ms\n",
            "Speed: 5.8ms preprocess, 194.7ms inference, 1.6ms postprocess per image at shape (1, 3, 384, 640)\n"
          ]
        },
        {
          "metadata": {
            "tags": null
          },
          "name": "stderr",
          "output_type": "stream",
          "text": [
            "\r 64%|██████▍   | 327/508 [04:26<03:09,  1.05s/it]"
          ]
        },
        {
          "metadata": {
            "tags": null
          },
          "name": "stdout",
          "output_type": "stream",
          "text": [
            "\n",
            "0: 384x640 10 cars, 3 trucks, 218.8ms\n",
            "Speed: 2.7ms preprocess, 218.8ms inference, 1.8ms postprocess per image at shape (1, 3, 384, 640)\n"
          ]
        },
        {
          "metadata": {
            "tags": null
          },
          "name": "stderr",
          "output_type": "stream",
          "text": [
            "\r 65%|██████▍   | 328/508 [04:27<03:09,  1.06s/it]"
          ]
        },
        {
          "metadata": {
            "tags": null
          },
          "name": "stdout",
          "output_type": "stream",
          "text": [
            "\n",
            "0: 384x640 10 cars, 3 trucks, 215.3ms\n",
            "Speed: 4.2ms preprocess, 215.3ms inference, 1.8ms postprocess per image at shape (1, 3, 384, 640)\n"
          ]
        },
        {
          "metadata": {
            "tags": null
          },
          "name": "stderr",
          "output_type": "stream",
          "text": [
            "\r 65%|██████▍   | 329/508 [04:28<03:10,  1.07s/it]"
          ]
        },
        {
          "metadata": {
            "tags": null
          },
          "name": "stdout",
          "output_type": "stream",
          "text": [
            "\n",
            "0: 384x640 9 cars, 3 trucks, 182.2ms\n",
            "Speed: 3.6ms preprocess, 182.2ms inference, 1.6ms postprocess per image at shape (1, 3, 384, 640)\n"
          ]
        },
        {
          "metadata": {
            "tags": null
          },
          "name": "stderr",
          "output_type": "stream",
          "text": [
            "\r 65%|██████▍   | 330/508 [04:29<03:00,  1.01s/it]"
          ]
        },
        {
          "metadata": {
            "tags": null
          },
          "name": "stdout",
          "output_type": "stream",
          "text": [
            "\n",
            "0: 384x640 11 cars, 4 trucks, 205.2ms\n",
            "Speed: 3.6ms preprocess, 205.2ms inference, 1.6ms postprocess per image at shape (1, 3, 384, 640)\n"
          ]
        },
        {
          "metadata": {
            "tags": null
          },
          "name": "stderr",
          "output_type": "stream",
          "text": [
            "\r 65%|██████▌   | 331/508 [04:31<03:28,  1.18s/it]"
          ]
        },
        {
          "metadata": {
            "tags": null
          },
          "name": "stdout",
          "output_type": "stream",
          "text": [
            "\n",
            "0: 384x640 10 cars, 1 truck, 283.1ms\n",
            "Speed: 2.6ms preprocess, 283.1ms inference, 2.2ms postprocess per image at shape (1, 3, 384, 640)\n"
          ]
        },
        {
          "metadata": {
            "tags": null
          },
          "name": "stderr",
          "output_type": "stream",
          "text": [
            "\r 65%|██████▌   | 332/508 [04:32<03:34,  1.22s/it]"
          ]
        },
        {
          "metadata": {
            "tags": null
          },
          "name": "stdout",
          "output_type": "stream",
          "text": [
            "\n",
            "0: 384x640 10 cars, 2 trucks, 291.2ms\n",
            "Speed: 3.1ms preprocess, 291.2ms inference, 3.9ms postprocess per image at shape (1, 3, 384, 640)\n"
          ]
        },
        {
          "metadata": {
            "tags": null
          },
          "name": "stderr",
          "output_type": "stream",
          "text": [
            "\r 66%|██████▌   | 333/508 [04:34<03:49,  1.31s/it]"
          ]
        },
        {
          "metadata": {
            "tags": null
          },
          "name": "stdout",
          "output_type": "stream",
          "text": [
            "\n",
            "0: 384x640 11 cars, 2 trucks, 193.8ms\n",
            "Speed: 6.0ms preprocess, 193.8ms inference, 1.7ms postprocess per image at shape (1, 3, 384, 640)\n"
          ]
        },
        {
          "metadata": {
            "tags": null
          },
          "name": "stderr",
          "output_type": "stream",
          "text": [
            "\r 66%|██████▌   | 334/508 [04:35<03:31,  1.22s/it]"
          ]
        },
        {
          "metadata": {
            "tags": null
          },
          "name": "stdout",
          "output_type": "stream",
          "text": [
            "\n",
            "0: 384x640 11 cars, 1 truck, 206.7ms\n",
            "Speed: 2.6ms preprocess, 206.7ms inference, 1.6ms postprocess per image at shape (1, 3, 384, 640)\n"
          ]
        },
        {
          "metadata": {
            "tags": null
          },
          "name": "stderr",
          "output_type": "stream",
          "text": [
            "\r 66%|██████▌   | 335/508 [04:36<03:16,  1.14s/it]"
          ]
        },
        {
          "metadata": {
            "tags": null
          },
          "name": "stdout",
          "output_type": "stream",
          "text": [
            "\n",
            "0: 384x640 9 cars, 215.0ms\n",
            "Speed: 2.9ms preprocess, 215.0ms inference, 1.7ms postprocess per image at shape (1, 3, 384, 640)\n"
          ]
        },
        {
          "metadata": {
            "tags": null
          },
          "name": "stderr",
          "output_type": "stream",
          "text": [
            "\r 66%|██████▌   | 336/508 [04:36<02:58,  1.04s/it]"
          ]
        },
        {
          "metadata": {
            "tags": null
          },
          "name": "stdout",
          "output_type": "stream",
          "text": [
            "\n",
            "0: 384x640 9 cars, 211.7ms\n",
            "Speed: 6.1ms preprocess, 211.7ms inference, 1.5ms postprocess per image at shape (1, 3, 384, 640)\n"
          ]
        },
        {
          "metadata": {
            "tags": null
          },
          "name": "stderr",
          "output_type": "stream",
          "text": [
            "\r 66%|██████▋   | 337/508 [04:37<02:45,  1.03it/s]"
          ]
        },
        {
          "metadata": {
            "tags": null
          },
          "name": "stdout",
          "output_type": "stream",
          "text": [
            "\n",
            "0: 384x640 13 cars, 1 truck, 203.8ms\n",
            "Speed: 2.4ms preprocess, 203.8ms inference, 1.5ms postprocess per image at shape (1, 3, 384, 640)\n"
          ]
        },
        {
          "metadata": {
            "tags": null
          },
          "name": "stderr",
          "output_type": "stream",
          "text": [
            "\r 67%|██████▋   | 338/508 [04:38<02:48,  1.01it/s]"
          ]
        },
        {
          "metadata": {
            "tags": null
          },
          "name": "stdout",
          "output_type": "stream",
          "text": [
            "\n",
            "0: 384x640 13 cars, 217.8ms\n",
            "Speed: 2.9ms preprocess, 217.8ms inference, 1.5ms postprocess per image at shape (1, 3, 384, 640)\n"
          ]
        },
        {
          "metadata": {
            "tags": null
          },
          "name": "stderr",
          "output_type": "stream",
          "text": [
            "\r 67%|██████▋   | 339/508 [04:39<02:48,  1.01it/s]"
          ]
        },
        {
          "metadata": {
            "tags": null
          },
          "name": "stdout",
          "output_type": "stream",
          "text": [
            "\n",
            "0: 384x640 12 cars, 1 truck, 194.8ms\n",
            "Speed: 2.5ms preprocess, 194.8ms inference, 1.8ms postprocess per image at shape (1, 3, 384, 640)\n"
          ]
        },
        {
          "metadata": {
            "tags": null
          },
          "name": "stderr",
          "output_type": "stream",
          "text": [
            "\r 67%|██████▋   | 340/508 [04:40<02:46,  1.01it/s]"
          ]
        },
        {
          "metadata": {
            "tags": null
          },
          "name": "stdout",
          "output_type": "stream",
          "text": [
            "\n",
            "0: 384x640 10 cars, 2 trucks, 192.7ms\n",
            "Speed: 3.1ms preprocess, 192.7ms inference, 1.8ms postprocess per image at shape (1, 3, 384, 640)\n"
          ]
        },
        {
          "metadata": {
            "tags": null
          },
          "name": "stderr",
          "output_type": "stream",
          "text": [
            "\r 67%|██████▋   | 341/508 [04:41<02:42,  1.03it/s]"
          ]
        },
        {
          "metadata": {
            "tags": null
          },
          "name": "stdout",
          "output_type": "stream",
          "text": [
            "\n",
            "0: 384x640 10 cars, 1 truck, 191.5ms\n",
            "Speed: 3.8ms preprocess, 191.5ms inference, 1.6ms postprocess per image at shape (1, 3, 384, 640)\n"
          ]
        },
        {
          "metadata": {
            "tags": null
          },
          "name": "stderr",
          "output_type": "stream",
          "text": [
            "\r 67%|██████▋   | 342/508 [04:42<02:36,  1.06it/s]"
          ]
        },
        {
          "metadata": {
            "tags": null
          },
          "name": "stdout",
          "output_type": "stream",
          "text": [
            "\n",
            "0: 384x640 8 cars, 2 trucks, 222.4ms\n",
            "Speed: 2.7ms preprocess, 222.4ms inference, 1.5ms postprocess per image at shape (1, 3, 384, 640)\n"
          ]
        },
        {
          "metadata": {
            "tags": null
          },
          "name": "stderr",
          "output_type": "stream",
          "text": [
            "\r 68%|██████▊   | 343/508 [04:43<02:29,  1.10it/s]"
          ]
        },
        {
          "metadata": {
            "tags": null
          },
          "name": "stdout",
          "output_type": "stream",
          "text": [
            "\n",
            "0: 384x640 10 cars, 2 trucks, 214.2ms\n",
            "Speed: 3.1ms preprocess, 214.2ms inference, 1.5ms postprocess per image at shape (1, 3, 384, 640)\n"
          ]
        },
        {
          "metadata": {
            "tags": null
          },
          "name": "stderr",
          "output_type": "stream",
          "text": [
            "\r 68%|██████▊   | 344/508 [04:44<02:30,  1.09it/s]"
          ]
        },
        {
          "metadata": {
            "tags": null
          },
          "name": "stdout",
          "output_type": "stream",
          "text": [
            "\n",
            "0: 384x640 10 cars, 1 bus, 2 trucks, 282.3ms\n",
            "Speed: 5.9ms preprocess, 282.3ms inference, 2.3ms postprocess per image at shape (1, 3, 384, 640)\n"
          ]
        },
        {
          "metadata": {
            "tags": null
          },
          "name": "stderr",
          "output_type": "stream",
          "text": [
            "\r 68%|██████▊   | 345/508 [04:45<02:57,  1.09s/it]"
          ]
        },
        {
          "metadata": {
            "tags": null
          },
          "name": "stdout",
          "output_type": "stream",
          "text": [
            "\n",
            "0: 384x640 10 cars, 1 bus, 2 trucks, 296.5ms\n",
            "Speed: 10.0ms preprocess, 296.5ms inference, 2.3ms postprocess per image at shape (1, 3, 384, 640)\n"
          ]
        },
        {
          "metadata": {
            "tags": null
          },
          "name": "stderr",
          "output_type": "stream",
          "text": [
            "\r 68%|██████▊   | 346/508 [04:47<03:18,  1.22s/it]"
          ]
        },
        {
          "metadata": {
            "tags": null
          },
          "name": "stdout",
          "output_type": "stream",
          "text": [
            "\n",
            "0: 384x640 7 cars, 2 trucks, 299.1ms\n",
            "Speed: 2.7ms preprocess, 299.1ms inference, 2.3ms postprocess per image at shape (1, 3, 384, 640)\n"
          ]
        },
        {
          "metadata": {
            "tags": null
          },
          "name": "stderr",
          "output_type": "stream",
          "text": [
            "\r 68%|██████▊   | 347/508 [04:48<03:12,  1.19s/it]"
          ]
        },
        {
          "metadata": {
            "tags": null
          },
          "name": "stdout",
          "output_type": "stream",
          "text": [
            "\n",
            "0: 384x640 6 cars, 2 trucks, 180.9ms\n",
            "Speed: 3.9ms preprocess, 180.9ms inference, 1.6ms postprocess per image at shape (1, 3, 384, 640)\n"
          ]
        },
        {
          "metadata": {
            "tags": null
          },
          "name": "stderr",
          "output_type": "stream",
          "text": [
            "\r 69%|██████▊   | 348/508 [04:49<02:47,  1.05s/it]"
          ]
        },
        {
          "metadata": {
            "tags": null
          },
          "name": "stdout",
          "output_type": "stream",
          "text": [
            "\n",
            "0: 384x640 7 cars, 1 truck, 191.1ms\n",
            "Speed: 3.9ms preprocess, 191.1ms inference, 1.5ms postprocess per image at shape (1, 3, 384, 640)\n"
          ]
        },
        {
          "metadata": {
            "tags": null
          },
          "name": "stderr",
          "output_type": "stream",
          "text": [
            "\r 69%|██████▊   | 349/508 [04:49<02:31,  1.05it/s]"
          ]
        },
        {
          "metadata": {
            "tags": null
          },
          "name": "stdout",
          "output_type": "stream",
          "text": [
            "\n",
            "0: 384x640 7 cars, 2 trucks, 203.9ms\n",
            "Speed: 2.8ms preprocess, 203.9ms inference, 1.6ms postprocess per image at shape (1, 3, 384, 640)\n"
          ]
        },
        {
          "metadata": {
            "tags": null
          },
          "name": "stderr",
          "output_type": "stream",
          "text": [
            "\r 69%|██████▉   | 350/508 [04:50<02:21,  1.12it/s]"
          ]
        },
        {
          "metadata": {
            "tags": null
          },
          "name": "stdout",
          "output_type": "stream",
          "text": [
            "\n",
            "0: 384x640 8 cars, 1 truck, 229.7ms\n",
            "Speed: 2.7ms preprocess, 229.7ms inference, 1.8ms postprocess per image at shape (1, 3, 384, 640)\n"
          ]
        },
        {
          "metadata": {
            "tags": null
          },
          "name": "stderr",
          "output_type": "stream",
          "text": [
            "\r 69%|██████▉   | 351/508 [04:51<02:15,  1.16it/s]"
          ]
        },
        {
          "metadata": {
            "tags": null
          },
          "name": "stdout",
          "output_type": "stream",
          "text": [
            "\n",
            "0: 384x640 10 cars, 1 truck, 182.4ms\n",
            "Speed: 8.5ms preprocess, 182.4ms inference, 1.6ms postprocess per image at shape (1, 3, 384, 640)\n"
          ]
        },
        {
          "metadata": {
            "tags": null
          },
          "name": "stderr",
          "output_type": "stream",
          "text": [
            "\r 69%|██████▉   | 352/508 [04:52<02:14,  1.16it/s]"
          ]
        },
        {
          "metadata": {
            "tags": null
          },
          "name": "stdout",
          "output_type": "stream",
          "text": [
            "\n",
            "0: 384x640 7 cars, 206.9ms\n",
            "Speed: 2.4ms preprocess, 206.9ms inference, 1.7ms postprocess per image at shape (1, 3, 384, 640)\n"
          ]
        },
        {
          "metadata": {
            "tags": null
          },
          "name": "stderr",
          "output_type": "stream",
          "text": [
            "\r 69%|██████▉   | 353/508 [04:53<02:04,  1.24it/s]"
          ]
        },
        {
          "metadata": {
            "tags": null
          },
          "name": "stdout",
          "output_type": "stream",
          "text": [
            "\n",
            "0: 384x640 10 cars, 181.6ms\n",
            "Speed: 2.9ms preprocess, 181.6ms inference, 1.4ms postprocess per image at shape (1, 3, 384, 640)\n"
          ]
        },
        {
          "metadata": {
            "tags": null
          },
          "name": "stderr",
          "output_type": "stream",
          "text": [
            "\r 70%|██████▉   | 354/508 [04:53<02:03,  1.24it/s]"
          ]
        },
        {
          "metadata": {
            "tags": null
          },
          "name": "stdout",
          "output_type": "stream",
          "text": [
            "\n",
            "0: 384x640 9 cars, 205.5ms\n",
            "Speed: 2.8ms preprocess, 205.5ms inference, 1.5ms postprocess per image at shape (1, 3, 384, 640)\n"
          ]
        },
        {
          "metadata": {
            "tags": null
          },
          "name": "stderr",
          "output_type": "stream",
          "text": [
            "\r 70%|██████▉   | 355/508 [04:54<02:01,  1.26it/s]"
          ]
        },
        {
          "metadata": {
            "tags": null
          },
          "name": "stdout",
          "output_type": "stream",
          "text": [
            "\n",
            "0: 384x640 13 cars, 2 trucks, 190.6ms\n",
            "Speed: 2.6ms preprocess, 190.6ms inference, 1.6ms postprocess per image at shape (1, 3, 384, 640)\n"
          ]
        },
        {
          "metadata": {
            "tags": null
          },
          "name": "stderr",
          "output_type": "stream",
          "text": [
            "\r 70%|███████   | 356/508 [04:55<02:14,  1.13it/s]"
          ]
        },
        {
          "metadata": {
            "tags": null
          },
          "name": "stdout",
          "output_type": "stream",
          "text": [
            "\n",
            "0: 384x640 8 cars, 1 bus, 2 trucks, 217.0ms\n",
            "Speed: 3.0ms preprocess, 217.0ms inference, 1.5ms postprocess per image at shape (1, 3, 384, 640)\n"
          ]
        },
        {
          "metadata": {
            "tags": null
          },
          "name": "stderr",
          "output_type": "stream",
          "text": [
            "\r 70%|███████   | 357/508 [04:56<02:20,  1.07it/s]"
          ]
        },
        {
          "metadata": {
            "tags": null
          },
          "name": "stdout",
          "output_type": "stream",
          "text": [
            "\n",
            "0: 384x640 9 cars, 1 bus, 2 trucks, 188.8ms\n",
            "Speed: 7.5ms preprocess, 188.8ms inference, 1.9ms postprocess per image at shape (1, 3, 384, 640)\n"
          ]
        },
        {
          "metadata": {
            "tags": null
          },
          "name": "stderr",
          "output_type": "stream",
          "text": [
            "\r 70%|███████   | 358/508 [04:57<02:20,  1.07it/s]"
          ]
        },
        {
          "metadata": {
            "tags": null
          },
          "name": "stdout",
          "output_type": "stream",
          "text": [
            "\n",
            "0: 384x640 9 cars, 2 trucks, 196.0ms\n",
            "Speed: 2.7ms preprocess, 196.0ms inference, 1.6ms postprocess per image at shape (1, 3, 384, 640)\n"
          ]
        },
        {
          "metadata": {
            "tags": null
          },
          "name": "stderr",
          "output_type": "stream",
          "text": [
            "\r 71%|███████   | 359/508 [04:58<02:23,  1.04it/s]"
          ]
        },
        {
          "metadata": {
            "tags": null
          },
          "name": "stdout",
          "output_type": "stream",
          "text": [
            "\n",
            "0: 384x640 8 cars, 2 trucks, 281.3ms\n",
            "Speed: 9.9ms preprocess, 281.3ms inference, 2.2ms postprocess per image at shape (1, 3, 384, 640)\n"
          ]
        },
        {
          "metadata": {
            "tags": null
          },
          "name": "stderr",
          "output_type": "stream",
          "text": [
            "\r 71%|███████   | 360/508 [05:00<02:38,  1.07s/it]"
          ]
        },
        {
          "metadata": {
            "tags": null
          },
          "name": "stdout",
          "output_type": "stream",
          "text": [
            "\n",
            "0: 384x640 8 cars, 3 trucks, 278.6ms\n",
            "Speed: 7.2ms preprocess, 278.6ms inference, 2.0ms postprocess per image at shape (1, 3, 384, 640)\n"
          ]
        },
        {
          "metadata": {
            "tags": null
          },
          "name": "stderr",
          "output_type": "stream",
          "text": [
            "\r 71%|███████   | 361/508 [05:01<02:51,  1.17s/it]"
          ]
        },
        {
          "metadata": {
            "tags": null
          },
          "name": "stdout",
          "output_type": "stream",
          "text": [
            "\n",
            "0: 384x640 10 cars, 1 bus, 1 truck, 288.7ms\n",
            "Speed: 8.0ms preprocess, 288.7ms inference, 2.1ms postprocess per image at shape (1, 3, 384, 640)\n"
          ]
        },
        {
          "metadata": {
            "tags": null
          },
          "name": "stderr",
          "output_type": "stream",
          "text": [
            "\r 71%|███████▏  | 362/508 [05:02<03:00,  1.23s/it]"
          ]
        },
        {
          "metadata": {
            "tags": null
          },
          "name": "stdout",
          "output_type": "stream",
          "text": [
            "\n",
            "0: 384x640 9 cars, 1 bus, 2 trucks, 198.0ms\n",
            "Speed: 4.5ms preprocess, 198.0ms inference, 1.7ms postprocess per image at shape (1, 3, 384, 640)\n"
          ]
        },
        {
          "metadata": {
            "tags": null
          },
          "name": "stderr",
          "output_type": "stream",
          "text": [
            "\r 71%|███████▏  | 363/508 [05:03<02:46,  1.15s/it]"
          ]
        },
        {
          "metadata": {
            "tags": null
          },
          "name": "stdout",
          "output_type": "stream",
          "text": [
            "\n",
            "0: 384x640 11 cars, 1 bus, 1 truck, 208.0ms\n",
            "Speed: 2.6ms preprocess, 208.0ms inference, 1.5ms postprocess per image at shape (1, 3, 384, 640)\n"
          ]
        },
        {
          "metadata": {
            "tags": null
          },
          "name": "stderr",
          "output_type": "stream",
          "text": [
            "\r 72%|███████▏  | 364/508 [05:04<02:44,  1.14s/it]"
          ]
        },
        {
          "metadata": {
            "tags": null
          },
          "name": "stdout",
          "output_type": "stream",
          "text": [
            "\n",
            "0: 384x640 11 cars, 1 bus, 1 truck, 184.5ms\n",
            "Speed: 7.4ms preprocess, 184.5ms inference, 1.6ms postprocess per image at shape (1, 3, 384, 640)\n"
          ]
        },
        {
          "metadata": {
            "tags": null
          },
          "name": "stderr",
          "output_type": "stream",
          "text": [
            "\r 72%|███████▏  | 365/508 [05:05<02:36,  1.10s/it]"
          ]
        },
        {
          "metadata": {
            "tags": null
          },
          "name": "stdout",
          "output_type": "stream",
          "text": [
            "\n",
            "0: 384x640 10 cars, 1 bus, 1 truck, 192.5ms\n",
            "Speed: 4.3ms preprocess, 192.5ms inference, 1.7ms postprocess per image at shape (1, 3, 384, 640)\n"
          ]
        },
        {
          "metadata": {
            "tags": null
          },
          "name": "stderr",
          "output_type": "stream",
          "text": [
            "\r 72%|███████▏  | 366/508 [05:06<02:34,  1.09s/it]"
          ]
        },
        {
          "metadata": {
            "tags": null
          },
          "name": "stdout",
          "output_type": "stream",
          "text": [
            "\n",
            "0: 384x640 10 cars, 1 bus, 1 truck, 200.4ms\n",
            "Speed: 5.1ms preprocess, 200.4ms inference, 1.7ms postprocess per image at shape (1, 3, 384, 640)\n"
          ]
        },
        {
          "metadata": {
            "tags": null
          },
          "name": "stderr",
          "output_type": "stream",
          "text": [
            "\r 72%|███████▏  | 367/508 [05:07<02:26,  1.04s/it]"
          ]
        },
        {
          "metadata": {
            "tags": null
          },
          "name": "stdout",
          "output_type": "stream",
          "text": [
            "\n",
            "0: 384x640 10 cars, 1 bus, 1 truck, 191.1ms\n",
            "Speed: 2.5ms preprocess, 191.1ms inference, 1.7ms postprocess per image at shape (1, 3, 384, 640)\n"
          ]
        },
        {
          "metadata": {
            "tags": null
          },
          "name": "stderr",
          "output_type": "stream",
          "text": [
            "\r 72%|███████▏  | 368/508 [05:08<02:20,  1.00s/it]"
          ]
        },
        {
          "metadata": {
            "tags": null
          },
          "name": "stdout",
          "output_type": "stream",
          "text": [
            "\n",
            "0: 384x640 9 cars, 1 bus, 1 truck, 189.7ms\n",
            "Speed: 8.5ms preprocess, 189.7ms inference, 1.7ms postprocess per image at shape (1, 3, 384, 640)\n"
          ]
        },
        {
          "metadata": {
            "tags": null
          },
          "name": "stderr",
          "output_type": "stream",
          "text": [
            "\r 73%|███████▎  | 369/508 [05:09<02:15,  1.03it/s]"
          ]
        },
        {
          "metadata": {
            "tags": null
          },
          "name": "stdout",
          "output_type": "stream",
          "text": [
            "\n",
            "0: 384x640 9 cars, 1 bus, 1 truck, 192.0ms\n",
            "Speed: 3.8ms preprocess, 192.0ms inference, 1.6ms postprocess per image at shape (1, 3, 384, 640)\n"
          ]
        },
        {
          "metadata": {
            "tags": null
          },
          "name": "stderr",
          "output_type": "stream",
          "text": [
            "\r 73%|███████▎  | 370/508 [05:10<02:13,  1.04it/s]"
          ]
        },
        {
          "metadata": {
            "tags": null
          },
          "name": "stdout",
          "output_type": "stream",
          "text": [
            "\n",
            "0: 384x640 9 cars, 1 bus, 1 truck, 184.1ms\n",
            "Speed: 2.5ms preprocess, 184.1ms inference, 1.6ms postprocess per image at shape (1, 3, 384, 640)\n"
          ]
        },
        {
          "metadata": {
            "tags": null
          },
          "name": "stderr",
          "output_type": "stream",
          "text": [
            "\r 73%|███████▎  | 371/508 [05:11<02:12,  1.04it/s]"
          ]
        },
        {
          "metadata": {
            "tags": null
          },
          "name": "stdout",
          "output_type": "stream",
          "text": [
            "\n",
            "0: 384x640 9 cars, 1 bus, 1 truck, 202.5ms\n",
            "Speed: 5.5ms preprocess, 202.5ms inference, 1.6ms postprocess per image at shape (1, 3, 384, 640)\n"
          ]
        },
        {
          "metadata": {
            "tags": null
          },
          "name": "stderr",
          "output_type": "stream",
          "text": [
            "\r 73%|███████▎  | 372/508 [05:12<02:12,  1.03it/s]"
          ]
        },
        {
          "metadata": {
            "tags": null
          },
          "name": "stdout",
          "output_type": "stream",
          "text": [
            "\n",
            "0: 384x640 8 cars, 1 bus, 1 truck, 295.5ms\n",
            "Speed: 8.1ms preprocess, 295.5ms inference, 2.3ms postprocess per image at shape (1, 3, 384, 640)\n"
          ]
        },
        {
          "metadata": {
            "tags": null
          },
          "name": "stderr",
          "output_type": "stream",
          "text": [
            "\r 73%|███████▎  | 373/508 [05:13<02:24,  1.07s/it]"
          ]
        },
        {
          "metadata": {
            "tags": null
          },
          "name": "stdout",
          "output_type": "stream",
          "text": [
            "\n",
            "0: 384x640 7 cars, 1 bus, 267.6ms\n",
            "Speed: 2.7ms preprocess, 267.6ms inference, 2.3ms postprocess per image at shape (1, 3, 384, 640)\n"
          ]
        },
        {
          "metadata": {
            "tags": null
          },
          "name": "stderr",
          "output_type": "stream",
          "text": [
            "\r 74%|███████▎  | 374/508 [05:14<02:23,  1.07s/it]"
          ]
        },
        {
          "metadata": {
            "tags": null
          },
          "name": "stdout",
          "output_type": "stream",
          "text": [
            "\n",
            "0: 384x640 7 cars, 1 bus, 1 truck, 291.7ms\n",
            "Speed: 2.7ms preprocess, 291.7ms inference, 2.4ms postprocess per image at shape (1, 3, 384, 640)\n"
          ]
        },
        {
          "metadata": {
            "tags": null
          },
          "name": "stderr",
          "output_type": "stream",
          "text": [
            "\r 74%|███████▍  | 375/508 [05:16<02:27,  1.11s/it]"
          ]
        },
        {
          "metadata": {
            "tags": null
          },
          "name": "stdout",
          "output_type": "stream",
          "text": [
            "\n",
            "0: 384x640 6 cars, 1 bus, 2 trucks, 242.2ms\n",
            "Speed: 2.6ms preprocess, 242.2ms inference, 1.6ms postprocess per image at shape (1, 3, 384, 640)\n"
          ]
        },
        {
          "metadata": {
            "tags": null
          },
          "name": "stderr",
          "output_type": "stream",
          "text": [
            "\r 74%|███████▍  | 376/508 [05:16<02:13,  1.01s/it]"
          ]
        },
        {
          "metadata": {
            "tags": null
          },
          "name": "stdout",
          "output_type": "stream",
          "text": [
            "\n",
            "0: 384x640 7 cars, 1 bus, 2 trucks, 201.2ms\n",
            "Speed: 4.2ms preprocess, 201.2ms inference, 1.6ms postprocess per image at shape (1, 3, 384, 640)\n"
          ]
        },
        {
          "metadata": {
            "tags": null
          },
          "name": "stderr",
          "output_type": "stream",
          "text": [
            "\r 74%|███████▍  | 377/508 [05:17<02:04,  1.05it/s]"
          ]
        },
        {
          "metadata": {
            "tags": null
          },
          "name": "stdout",
          "output_type": "stream",
          "text": [
            "\n",
            "0: 384x640 9 cars, 1 bus, 2 trucks, 187.2ms\n",
            "Speed: 2.5ms preprocess, 187.2ms inference, 1.6ms postprocess per image at shape (1, 3, 384, 640)\n"
          ]
        },
        {
          "output_type": "stream",
          "name": "stderr",
          "text": [
            "\r 74%|███████▍  | 378/508 [05:18<02:05,  1.03it/s]"
          ]
        },
        {
          "output_type": "stream",
          "name": "stdout",
          "text": [
            "\n",
            "0: 384x640 12 cars, 1 bus, 1 truck, 187.7ms\n",
            "Speed: 5.1ms preprocess, 187.7ms inference, 1.7ms postprocess per image at shape (1, 3, 384, 640)\n"
          ]
        },
        {
          "output_type": "stream",
          "name": "stderr",
          "text": [
            "\r 75%|███████▍  | 379/508 [05:19<02:11,  1.02s/it]"
          ]
        },
        {
          "output_type": "stream",
          "name": "stdout",
          "text": [
            "\n",
            "0: 384x640 7 cars, 1 bus, 1 truck, 208.2ms\n",
            "Speed: 2.7ms preprocess, 208.2ms inference, 1.5ms postprocess per image at shape (1, 3, 384, 640)\n"
          ]
        },
        {
          "output_type": "stream",
          "name": "stderr",
          "text": [
            "\r 75%|███████▍  | 380/508 [05:20<02:04,  1.03it/s]"
          ]
        },
        {
          "output_type": "stream",
          "name": "stdout",
          "text": [
            "\n",
            "0: 384x640 8 cars, 1 bus, 1 truck, 207.2ms\n",
            "Speed: 2.9ms preprocess, 207.2ms inference, 1.8ms postprocess per image at shape (1, 3, 384, 640)\n"
          ]
        },
        {
          "output_type": "stream",
          "name": "stderr",
          "text": [
            "\r 75%|███████▌  | 381/508 [05:21<02:02,  1.04it/s]"
          ]
        },
        {
          "output_type": "stream",
          "name": "stdout",
          "text": [
            "\n",
            "0: 384x640 9 cars, 1 truck, 213.2ms\n",
            "Speed: 2.9ms preprocess, 213.2ms inference, 1.6ms postprocess per image at shape (1, 3, 384, 640)\n"
          ]
        },
        {
          "output_type": "stream",
          "name": "stderr",
          "text": [
            "\r 75%|███████▌  | 382/508 [05:22<01:56,  1.08it/s]"
          ]
        },
        {
          "output_type": "stream",
          "name": "stdout",
          "text": [
            "\n",
            "0: 384x640 11 cars, 1 bus, 3 trucks, 199.2ms\n",
            "Speed: 2.7ms preprocess, 199.2ms inference, 1.5ms postprocess per image at shape (1, 3, 384, 640)\n"
          ]
        },
        {
          "output_type": "stream",
          "name": "stderr",
          "text": [
            "\r 75%|███████▌  | 383/508 [05:23<02:01,  1.03it/s]"
          ]
        },
        {
          "output_type": "stream",
          "name": "stdout",
          "text": [
            "\n",
            "0: 384x640 11 cars, 1 bus, 2 trucks, 196.5ms\n",
            "Speed: 5.9ms preprocess, 196.5ms inference, 1.6ms postprocess per image at shape (1, 3, 384, 640)\n"
          ]
        },
        {
          "output_type": "stream",
          "name": "stderr",
          "text": [
            "\r 76%|███████▌  | 384/508 [05:24<02:02,  1.01it/s]"
          ]
        },
        {
          "output_type": "stream",
          "name": "stdout",
          "text": [
            "\n",
            "0: 384x640 10 cars, 1 bus, 2 trucks, 188.4ms\n",
            "Speed: 2.7ms preprocess, 188.4ms inference, 1.8ms postprocess per image at shape (1, 3, 384, 640)\n"
          ]
        },
        {
          "output_type": "stream",
          "name": "stderr",
          "text": [
            "\r 76%|███████▌  | 385/508 [05:25<02:01,  1.01it/s]"
          ]
        },
        {
          "output_type": "stream",
          "name": "stdout",
          "text": [
            "\n",
            "0: 384x640 10 cars, 1 bus, 3 trucks, 202.3ms\n",
            "Speed: 9.3ms preprocess, 202.3ms inference, 1.8ms postprocess per image at shape (1, 3, 384, 640)\n"
          ]
        },
        {
          "output_type": "stream",
          "name": "stderr",
          "text": [
            "\r 76%|███████▌  | 386/508 [05:26<02:14,  1.10s/it]"
          ]
        },
        {
          "output_type": "stream",
          "name": "stdout",
          "text": [
            "\n",
            "0: 384x640 9 cars, 1 bus, 3 trucks, 286.9ms\n",
            "Speed: 2.7ms preprocess, 286.9ms inference, 2.4ms postprocess per image at shape (1, 3, 384, 640)\n"
          ]
        },
        {
          "output_type": "stream",
          "name": "stderr",
          "text": [
            "\r 76%|███████▌  | 387/508 [05:28<02:27,  1.22s/it]"
          ]
        },
        {
          "output_type": "stream",
          "name": "stdout",
          "text": [
            "\n",
            "0: 384x640 9 cars, 1 bus, 3 trucks, 299.0ms\n",
            "Speed: 2.7ms preprocess, 299.0ms inference, 2.3ms postprocess per image at shape (1, 3, 384, 640)\n"
          ]
        },
        {
          "output_type": "stream",
          "name": "stderr",
          "text": [
            "\r 76%|███████▋  | 388/508 [05:30<02:37,  1.31s/it]"
          ]
        },
        {
          "output_type": "stream",
          "name": "stdout",
          "text": [
            "\n",
            "0: 384x640 8 cars, 1 bus, 2 trucks, 202.6ms\n",
            "Speed: 2.9ms preprocess, 202.6ms inference, 1.7ms postprocess per image at shape (1, 3, 384, 640)\n"
          ]
        },
        {
          "output_type": "stream",
          "name": "stderr",
          "text": [
            "\r 77%|███████▋  | 389/508 [05:30<02:20,  1.18s/it]"
          ]
        },
        {
          "output_type": "stream",
          "name": "stdout",
          "text": [
            "\n",
            "0: 384x640 9 cars, 1 bus, 3 trucks, 184.2ms\n",
            "Speed: 2.7ms preprocess, 184.2ms inference, 1.6ms postprocess per image at shape (1, 3, 384, 640)\n"
          ]
        },
        {
          "output_type": "stream",
          "name": "stderr",
          "text": [
            "\r 77%|███████▋  | 390/508 [05:31<02:12,  1.12s/it]"
          ]
        },
        {
          "output_type": "stream",
          "name": "stdout",
          "text": [
            "\n",
            "0: 384x640 11 cars, 1 bus, 3 trucks, 186.7ms\n",
            "Speed: 2.6ms preprocess, 186.7ms inference, 1.6ms postprocess per image at shape (1, 3, 384, 640)\n"
          ]
        },
        {
          "output_type": "stream",
          "name": "stderr",
          "text": [
            "\r 77%|███████▋  | 391/508 [05:32<02:10,  1.11s/it]"
          ]
        },
        {
          "output_type": "stream",
          "name": "stdout",
          "text": [
            "\n",
            "0: 384x640 11 cars, 1 bus, 3 trucks, 212.6ms\n",
            "Speed: 2.4ms preprocess, 212.6ms inference, 1.6ms postprocess per image at shape (1, 3, 384, 640)\n"
          ]
        },
        {
          "output_type": "stream",
          "name": "stderr",
          "text": [
            "\r 77%|███████▋  | 392/508 [05:34<02:09,  1.12s/it]"
          ]
        },
        {
          "output_type": "stream",
          "name": "stdout",
          "text": [
            "\n",
            "0: 384x640 12 cars, 3 trucks, 198.5ms\n",
            "Speed: 3.2ms preprocess, 198.5ms inference, 1.6ms postprocess per image at shape (1, 3, 384, 640)\n"
          ]
        },
        {
          "output_type": "stream",
          "name": "stderr",
          "text": [
            "\r 77%|███████▋  | 393/508 [05:35<02:08,  1.11s/it]"
          ]
        },
        {
          "output_type": "stream",
          "name": "stdout",
          "text": [
            "\n",
            "0: 384x640 9 cars, 1 bus, 3 trucks, 188.6ms\n",
            "Speed: 2.7ms preprocess, 188.6ms inference, 1.6ms postprocess per image at shape (1, 3, 384, 640)\n"
          ]
        },
        {
          "output_type": "stream",
          "name": "stderr",
          "text": [
            "\r 78%|███████▊  | 394/508 [05:36<02:06,  1.11s/it]"
          ]
        },
        {
          "output_type": "stream",
          "name": "stdout",
          "text": [
            "\n",
            "0: 384x640 8 cars, 1 bus, 3 trucks, 206.4ms\n",
            "Speed: 2.7ms preprocess, 206.4ms inference, 1.6ms postprocess per image at shape (1, 3, 384, 640)\n"
          ]
        },
        {
          "output_type": "stream",
          "name": "stderr",
          "text": [
            "\r 78%|███████▊  | 395/508 [05:37<01:59,  1.06s/it]"
          ]
        },
        {
          "output_type": "stream",
          "name": "stdout",
          "text": [
            "\n",
            "0: 384x640 11 cars, 3 trucks, 218.1ms\n",
            "Speed: 3.1ms preprocess, 218.1ms inference, 1.6ms postprocess per image at shape (1, 3, 384, 640)\n"
          ]
        },
        {
          "output_type": "stream",
          "name": "stderr",
          "text": [
            "\r 78%|███████▊  | 396/508 [05:38<01:58,  1.06s/it]"
          ]
        },
        {
          "output_type": "stream",
          "name": "stdout",
          "text": [
            "\n",
            "0: 384x640 10 cars, 1 bus, 3 trucks, 196.8ms\n",
            "Speed: 2.5ms preprocess, 196.8ms inference, 1.7ms postprocess per image at shape (1, 3, 384, 640)\n"
          ]
        },
        {
          "output_type": "stream",
          "name": "stderr",
          "text": [
            "\r 78%|███████▊  | 397/508 [05:39<02:00,  1.08s/it]"
          ]
        },
        {
          "output_type": "stream",
          "name": "stdout",
          "text": [
            "\n",
            "0: 384x640 9 cars, 1 bus, 3 trucks, 198.1ms\n",
            "Speed: 2.5ms preprocess, 198.1ms inference, 1.6ms postprocess per image at shape (1, 3, 384, 640)\n"
          ]
        },
        {
          "output_type": "stream",
          "name": "stderr",
          "text": [
            "\r 78%|███████▊  | 398/508 [05:40<02:03,  1.12s/it]"
          ]
        },
        {
          "output_type": "stream",
          "name": "stdout",
          "text": [
            "\n",
            "0: 384x640 10 cars, 2 buss, 3 trucks, 289.1ms\n",
            "Speed: 10.9ms preprocess, 289.1ms inference, 2.0ms postprocess per image at shape (1, 3, 384, 640)\n"
          ]
        },
        {
          "output_type": "stream",
          "name": "stderr",
          "text": [
            "\r 79%|███████▊  | 399/508 [05:42<02:21,  1.29s/it]"
          ]
        },
        {
          "output_type": "stream",
          "name": "stdout",
          "text": [
            "\n",
            "0: 384x640 10 cars, 2 buss, 3 trucks, 271.3ms\n",
            "Speed: 10.2ms preprocess, 271.3ms inference, 2.2ms postprocess per image at shape (1, 3, 384, 640)\n"
          ]
        },
        {
          "output_type": "stream",
          "name": "stderr",
          "text": [
            "\r 79%|███████▊  | 400/508 [05:43<02:29,  1.39s/it]"
          ]
        },
        {
          "output_type": "stream",
          "name": "stdout",
          "text": [
            "\n",
            "0: 384x640 8 cars, 2 buss, 2 trucks, 197.0ms\n",
            "Speed: 2.7ms preprocess, 197.0ms inference, 1.5ms postprocess per image at shape (1, 3, 384, 640)\n"
          ]
        },
        {
          "output_type": "stream",
          "name": "stderr",
          "text": [
            "\r 79%|███████▉  | 401/508 [05:44<02:13,  1.25s/it]"
          ]
        },
        {
          "output_type": "stream",
          "name": "stdout",
          "text": [
            "\n",
            "0: 384x640 8 cars, 2 buss, 2 trucks, 194.7ms\n",
            "Speed: 4.0ms preprocess, 194.7ms inference, 2.3ms postprocess per image at shape (1, 3, 384, 640)\n"
          ]
        },
        {
          "output_type": "stream",
          "name": "stderr",
          "text": [
            "\r 79%|███████▉  | 402/508 [05:45<02:02,  1.15s/it]"
          ]
        },
        {
          "output_type": "stream",
          "name": "stdout",
          "text": [
            "\n",
            "0: 384x640 7 cars, 2 buss, 4 trucks, 198.7ms\n",
            "Speed: 2.6ms preprocess, 198.7ms inference, 1.6ms postprocess per image at shape (1, 3, 384, 640)\n"
          ]
        },
        {
          "output_type": "stream",
          "name": "stderr",
          "text": [
            "\r 79%|███████▉  | 403/508 [05:46<01:55,  1.10s/it]"
          ]
        },
        {
          "output_type": "stream",
          "name": "stdout",
          "text": [
            "\n",
            "0: 384x640 8 cars, 1 bus, 3 trucks, 222.1ms\n",
            "Speed: 2.9ms preprocess, 222.1ms inference, 1.8ms postprocess per image at shape (1, 3, 384, 640)\n"
          ]
        },
        {
          "output_type": "stream",
          "name": "stderr",
          "text": [
            "\r 80%|███████▉  | 404/508 [05:47<01:50,  1.06s/it]"
          ]
        },
        {
          "output_type": "stream",
          "name": "stdout",
          "text": [
            "\n",
            "0: 384x640 6 cars, 1 bus, 2 trucks, 189.4ms\n",
            "Speed: 2.6ms preprocess, 189.4ms inference, 1.8ms postprocess per image at shape (1, 3, 384, 640)\n"
          ]
        },
        {
          "output_type": "stream",
          "name": "stderr",
          "text": [
            "\r 80%|███████▉  | 405/508 [05:48<01:40,  1.03it/s]"
          ]
        },
        {
          "output_type": "stream",
          "name": "stdout",
          "text": [
            "\n",
            "0: 384x640 6 cars, 3 trucks, 195.2ms\n",
            "Speed: 5.2ms preprocess, 195.2ms inference, 1.8ms postprocess per image at shape (1, 3, 384, 640)\n"
          ]
        },
        {
          "output_type": "stream",
          "name": "stderr",
          "text": [
            "\r 80%|███████▉  | 406/508 [05:49<01:33,  1.09it/s]"
          ]
        },
        {
          "output_type": "stream",
          "name": "stdout",
          "text": [
            "\n",
            "0: 384x640 7 cars, 2 trucks, 220.1ms\n",
            "Speed: 2.6ms preprocess, 220.1ms inference, 1.5ms postprocess per image at shape (1, 3, 384, 640)\n"
          ]
        },
        {
          "output_type": "stream",
          "name": "stderr",
          "text": [
            "\r 80%|████████  | 407/508 [05:50<01:28,  1.14it/s]"
          ]
        },
        {
          "output_type": "stream",
          "name": "stdout",
          "text": [
            "\n",
            "0: 384x640 7 cars, 2 trucks, 227.3ms\n",
            "Speed: 4.7ms preprocess, 227.3ms inference, 1.5ms postprocess per image at shape (1, 3, 384, 640)\n"
          ]
        },
        {
          "output_type": "stream",
          "name": "stderr",
          "text": [
            "\r 80%|████████  | 408/508 [05:50<01:25,  1.17it/s]"
          ]
        },
        {
          "output_type": "stream",
          "name": "stdout",
          "text": [
            "\n",
            "0: 384x640 7 cars, 3 trucks, 181.9ms\n",
            "Speed: 9.6ms preprocess, 181.9ms inference, 1.5ms postprocess per image at shape (1, 3, 384, 640)\n"
          ]
        },
        {
          "output_type": "stream",
          "name": "stderr",
          "text": [
            "\r 81%|████████  | 409/508 [05:51<01:23,  1.19it/s]"
          ]
        },
        {
          "output_type": "stream",
          "name": "stdout",
          "text": [
            "\n",
            "0: 384x640 6 cars, 4 trucks, 187.1ms\n",
            "Speed: 2.6ms preprocess, 187.1ms inference, 1.6ms postprocess per image at shape (1, 3, 384, 640)\n"
          ]
        },
        {
          "output_type": "stream",
          "name": "stderr",
          "text": [
            "\r 81%|████████  | 410/508 [05:52<01:21,  1.21it/s]"
          ]
        },
        {
          "output_type": "stream",
          "name": "stdout",
          "text": [
            "\n",
            "0: 384x640 7 cars, 5 trucks, 198.4ms\n",
            "Speed: 3.2ms preprocess, 198.4ms inference, 1.6ms postprocess per image at shape (1, 3, 384, 640)\n"
          ]
        },
        {
          "output_type": "stream",
          "name": "stderr",
          "text": [
            "\r 81%|████████  | 411/508 [05:53<01:22,  1.18it/s]"
          ]
        },
        {
          "output_type": "stream",
          "name": "stdout",
          "text": [
            "\n",
            "0: 384x640 6 cars, 3 trucks, 205.7ms\n",
            "Speed: 2.5ms preprocess, 205.7ms inference, 1.6ms postprocess per image at shape (1, 3, 384, 640)\n"
          ]
        },
        {
          "output_type": "stream",
          "name": "stderr",
          "text": [
            "\r 81%|████████  | 412/508 [05:54<01:26,  1.11it/s]"
          ]
        },
        {
          "output_type": "stream",
          "name": "stdout",
          "text": [
            "\n",
            "0: 384x640 5 cars, 1 bus, 3 trucks, 296.4ms\n",
            "Speed: 2.6ms preprocess, 296.4ms inference, 2.0ms postprocess per image at shape (1, 3, 384, 640)\n"
          ]
        },
        {
          "output_type": "stream",
          "name": "stderr",
          "text": [
            "\r 81%|████████▏ | 413/508 [05:55<01:31,  1.04it/s]"
          ]
        },
        {
          "output_type": "stream",
          "name": "stdout",
          "text": [
            "\n",
            "0: 384x640 5 cars, 3 trucks, 291.4ms\n",
            "Speed: 2.8ms preprocess, 291.4ms inference, 2.2ms postprocess per image at shape (1, 3, 384, 640)\n"
          ]
        },
        {
          "output_type": "stream",
          "name": "stderr",
          "text": [
            "\r 81%|████████▏ | 414/508 [05:56<01:33,  1.00it/s]"
          ]
        },
        {
          "output_type": "stream",
          "name": "stdout",
          "text": [
            "\n",
            "0: 384x640 7 cars, 2 buss, 2 trucks, 283.4ms\n",
            "Speed: 4.8ms preprocess, 283.4ms inference, 2.3ms postprocess per image at shape (1, 3, 384, 640)\n"
          ]
        },
        {
          "output_type": "stream",
          "name": "stderr",
          "text": [
            "\r 82%|████████▏ | 415/508 [05:57<01:34,  1.02s/it]"
          ]
        },
        {
          "output_type": "stream",
          "name": "stdout",
          "text": [
            "\n",
            "0: 384x640 8 cars, 2 buss, 2 trucks, 209.3ms\n",
            "Speed: 2.7ms preprocess, 209.3ms inference, 1.6ms postprocess per image at shape (1, 3, 384, 640)\n"
          ]
        },
        {
          "output_type": "stream",
          "name": "stderr",
          "text": [
            "\r 82%|████████▏ | 416/508 [05:58<01:31,  1.01it/s]"
          ]
        },
        {
          "output_type": "stream",
          "name": "stdout",
          "text": [
            "\n",
            "0: 384x640 7 cars, 2 buss, 1 train, 3 trucks, 201.7ms\n",
            "Speed: 2.4ms preprocess, 201.7ms inference, 1.6ms postprocess per image at shape (1, 3, 384, 640)\n"
          ]
        },
        {
          "output_type": "stream",
          "name": "stderr",
          "text": [
            "\r 82%|████████▏ | 417/508 [05:59<01:29,  1.02it/s]"
          ]
        },
        {
          "output_type": "stream",
          "name": "stdout",
          "text": [
            "\n",
            "0: 384x640 6 cars, 2 buss, 1 train, 3 trucks, 208.3ms\n",
            "Speed: 2.5ms preprocess, 208.3ms inference, 1.8ms postprocess per image at shape (1, 3, 384, 640)\n"
          ]
        },
        {
          "output_type": "stream",
          "name": "stderr",
          "text": [
            "\r 82%|████████▏ | 418/508 [06:00<01:27,  1.02it/s]"
          ]
        },
        {
          "output_type": "stream",
          "name": "stdout",
          "text": [
            "\n",
            "0: 384x640 8 cars, 2 buss, 4 trucks, 229.7ms\n",
            "Speed: 2.8ms preprocess, 229.7ms inference, 1.6ms postprocess per image at shape (1, 3, 384, 640)\n"
          ]
        },
        {
          "output_type": "stream",
          "name": "stderr",
          "text": [
            "\r 82%|████████▏ | 419/508 [06:01<01:28,  1.00it/s]"
          ]
        },
        {
          "output_type": "stream",
          "name": "stdout",
          "text": [
            "\n",
            "0: 384x640 6 cars, 2 buss, 4 trucks, 202.6ms\n",
            "Speed: 2.7ms preprocess, 202.6ms inference, 1.6ms postprocess per image at shape (1, 3, 384, 640)\n"
          ]
        },
        {
          "output_type": "stream",
          "name": "stderr",
          "text": [
            "\r 83%|████████▎ | 420/508 [06:02<01:25,  1.03it/s]"
          ]
        },
        {
          "output_type": "stream",
          "name": "stdout",
          "text": [
            "\n",
            "0: 384x640 5 cars, 1 bus, 3 trucks, 190.7ms\n",
            "Speed: 10.3ms preprocess, 190.7ms inference, 1.6ms postprocess per image at shape (1, 3, 384, 640)\n"
          ]
        },
        {
          "output_type": "stream",
          "name": "stderr",
          "text": [
            "\r 83%|████████▎ | 421/508 [06:03<01:19,  1.10it/s]"
          ]
        },
        {
          "output_type": "stream",
          "name": "stdout",
          "text": [
            "\n",
            "0: 384x640 5 cars, 1 bus, 2 trucks, 218.2ms\n",
            "Speed: 4.7ms preprocess, 218.2ms inference, 1.6ms postprocess per image at shape (1, 3, 384, 640)\n"
          ]
        },
        {
          "output_type": "stream",
          "name": "stderr",
          "text": [
            "\r 83%|████████▎ | 422/508 [06:03<01:14,  1.16it/s]"
          ]
        },
        {
          "output_type": "stream",
          "name": "stdout",
          "text": [
            "\n",
            "0: 384x640 7 cars, 1 bus, 1 train, 2 trucks, 195.6ms\n",
            "Speed: 3.5ms preprocess, 195.6ms inference, 1.5ms postprocess per image at shape (1, 3, 384, 640)\n"
          ]
        },
        {
          "output_type": "stream",
          "name": "stderr",
          "text": [
            "\r 83%|████████▎ | 423/508 [06:04<01:14,  1.14it/s]"
          ]
        },
        {
          "output_type": "stream",
          "name": "stdout",
          "text": [
            "\n",
            "0: 384x640 6 cars, 1 bus, 1 train, 1 truck, 199.8ms\n",
            "Speed: 2.4ms preprocess, 199.8ms inference, 1.5ms postprocess per image at shape (1, 3, 384, 640)\n"
          ]
        },
        {
          "output_type": "stream",
          "name": "stderr",
          "text": [
            "\r 83%|████████▎ | 424/508 [06:05<01:10,  1.18it/s]"
          ]
        },
        {
          "output_type": "stream",
          "name": "stdout",
          "text": [
            "\n",
            "0: 384x640 7 cars, 1 bus, 1 train, 1 truck, 223.2ms\n",
            "Speed: 5.3ms preprocess, 223.2ms inference, 1.6ms postprocess per image at shape (1, 3, 384, 640)\n"
          ]
        },
        {
          "output_type": "stream",
          "name": "stderr",
          "text": [
            "\r 84%|████████▎ | 425/508 [06:06<01:09,  1.19it/s]"
          ]
        },
        {
          "output_type": "stream",
          "name": "stdout",
          "text": [
            "\n",
            "0: 384x640 6 cars, 1 bus, 2 trucks, 189.8ms\n",
            "Speed: 3.6ms preprocess, 189.8ms inference, 1.6ms postprocess per image at shape (1, 3, 384, 640)\n"
          ]
        },
        {
          "output_type": "stream",
          "name": "stderr",
          "text": [
            "\r 84%|████████▍ | 426/508 [06:07<01:08,  1.19it/s]"
          ]
        },
        {
          "output_type": "stream",
          "name": "stdout",
          "text": [
            "\n",
            "0: 384x640 7 cars, 1 bus, 2 trucks, 300.4ms\n",
            "Speed: 3.0ms preprocess, 300.4ms inference, 2.7ms postprocess per image at shape (1, 3, 384, 640)\n"
          ]
        },
        {
          "output_type": "stream",
          "name": "stderr",
          "text": [
            "\r 84%|████████▍ | 427/508 [06:08<01:18,  1.03it/s]"
          ]
        },
        {
          "output_type": "stream",
          "name": "stdout",
          "text": [
            "\n",
            "0: 384x640 5 cars, 1 bus, 2 trucks, 277.6ms\n",
            "Speed: 2.6ms preprocess, 277.6ms inference, 2.0ms postprocess per image at shape (1, 3, 384, 640)\n"
          ]
        },
        {
          "output_type": "stream",
          "name": "stderr",
          "text": [
            "\r 84%|████████▍ | 428/508 [06:09<01:19,  1.00it/s]"
          ]
        },
        {
          "output_type": "stream",
          "name": "stdout",
          "text": [
            "\n",
            "0: 384x640 4 cars, 1 bus, 4 trucks, 300.4ms\n",
            "Speed: 3.7ms preprocess, 300.4ms inference, 2.2ms postprocess per image at shape (1, 3, 384, 640)\n"
          ]
        },
        {
          "output_type": "stream",
          "name": "stderr",
          "text": [
            "\r 84%|████████▍ | 429/508 [06:10<01:23,  1.05s/it]"
          ]
        },
        {
          "output_type": "stream",
          "name": "stdout",
          "text": [
            "\n",
            "0: 384x640 4 cars, 1 bus, 3 trucks, 210.4ms\n",
            "Speed: 2.6ms preprocess, 210.4ms inference, 1.5ms postprocess per image at shape (1, 3, 384, 640)\n"
          ]
        },
        {
          "output_type": "stream",
          "name": "stderr",
          "text": [
            "\r 85%|████████▍ | 430/508 [06:11<01:14,  1.04it/s]"
          ]
        },
        {
          "output_type": "stream",
          "name": "stdout",
          "text": [
            "\n",
            "0: 384x640 4 cars, 1 bus, 3 trucks, 213.5ms\n",
            "Speed: 5.1ms preprocess, 213.5ms inference, 1.6ms postprocess per image at shape (1, 3, 384, 640)\n"
          ]
        },
        {
          "output_type": "stream",
          "name": "stderr",
          "text": [
            "\r 85%|████████▍ | 431/508 [06:12<01:08,  1.12it/s]"
          ]
        },
        {
          "output_type": "stream",
          "name": "stdout",
          "text": [
            "\n",
            "0: 384x640 4 cars, 1 bus, 2 trucks, 209.4ms\n",
            "Speed: 5.6ms preprocess, 209.4ms inference, 1.7ms postprocess per image at shape (1, 3, 384, 640)\n"
          ]
        },
        {
          "output_type": "stream",
          "name": "stderr",
          "text": [
            "\r 85%|████████▌ | 432/508 [06:13<01:03,  1.20it/s]"
          ]
        },
        {
          "output_type": "stream",
          "name": "stdout",
          "text": [
            "\n",
            "0: 384x640 4 cars, 1 bus, 2 trucks, 207.1ms\n",
            "Speed: 3.3ms preprocess, 207.1ms inference, 1.5ms postprocess per image at shape (1, 3, 384, 640)\n"
          ]
        },
        {
          "output_type": "stream",
          "name": "stderr",
          "text": [
            "\r 85%|████████▌ | 433/508 [06:13<00:58,  1.28it/s]"
          ]
        },
        {
          "output_type": "stream",
          "name": "stdout",
          "text": [
            "\n",
            "0: 384x640 5 cars, 1 bus, 2 trucks, 201.8ms\n",
            "Speed: 2.6ms preprocess, 201.8ms inference, 1.9ms postprocess per image at shape (1, 3, 384, 640)\n"
          ]
        },
        {
          "output_type": "stream",
          "name": "stderr",
          "text": [
            "\r 85%|████████▌ | 434/508 [06:14<00:57,  1.29it/s]"
          ]
        },
        {
          "output_type": "stream",
          "name": "stdout",
          "text": [
            "\n",
            "0: 384x640 5 cars, 3 trucks, 214.5ms\n",
            "Speed: 2.9ms preprocess, 214.5ms inference, 1.5ms postprocess per image at shape (1, 3, 384, 640)\n"
          ]
        },
        {
          "output_type": "stream",
          "name": "stderr",
          "text": [
            "\r 86%|████████▌ | 435/508 [06:15<00:55,  1.32it/s]"
          ]
        },
        {
          "output_type": "stream",
          "name": "stdout",
          "text": [
            "\n",
            "0: 384x640 6 cars, 1 bus, 2 trucks, 211.7ms\n",
            "Speed: 2.5ms preprocess, 211.7ms inference, 1.6ms postprocess per image at shape (1, 3, 384, 640)\n"
          ]
        },
        {
          "output_type": "stream",
          "name": "stderr",
          "text": [
            "\r 86%|████████▌ | 436/508 [06:15<00:54,  1.31it/s]"
          ]
        },
        {
          "output_type": "stream",
          "name": "stdout",
          "text": [
            "\n",
            "0: 384x640 5 cars, 3 trucks, 201.8ms\n",
            "Speed: 3.3ms preprocess, 201.8ms inference, 1.5ms postprocess per image at shape (1, 3, 384, 640)\n"
          ]
        },
        {
          "output_type": "stream",
          "name": "stderr",
          "text": [
            "\r 86%|████████▌ | 437/508 [06:16<00:53,  1.34it/s]"
          ]
        },
        {
          "output_type": "stream",
          "name": "stdout",
          "text": [
            "\n",
            "0: 384x640 5 cars, 1 bus, 1 truck, 214.2ms\n",
            "Speed: 2.7ms preprocess, 214.2ms inference, 1.7ms postprocess per image at shape (1, 3, 384, 640)\n"
          ]
        },
        {
          "output_type": "stream",
          "name": "stderr",
          "text": [
            "\r 86%|████████▌ | 438/508 [06:17<00:50,  1.38it/s]"
          ]
        },
        {
          "output_type": "stream",
          "name": "stdout",
          "text": [
            "\n",
            "0: 384x640 5 cars, 1 truck, 230.5ms\n",
            "Speed: 2.7ms preprocess, 230.5ms inference, 1.7ms postprocess per image at shape (1, 3, 384, 640)\n"
          ]
        },
        {
          "output_type": "stream",
          "name": "stderr",
          "text": [
            "\r 86%|████████▋ | 439/508 [06:17<00:47,  1.44it/s]"
          ]
        },
        {
          "output_type": "stream",
          "name": "stdout",
          "text": [
            "\n",
            "0: 384x640 7 cars, 1 truck, 218.1ms\n",
            "Speed: 2.5ms preprocess, 218.1ms inference, 1.5ms postprocess per image at shape (1, 3, 384, 640)\n"
          ]
        },
        {
          "output_type": "stream",
          "name": "stderr",
          "text": [
            "\r 87%|████████▋ | 440/508 [06:18<00:48,  1.41it/s]"
          ]
        },
        {
          "output_type": "stream",
          "name": "stdout",
          "text": [
            "\n",
            "0: 384x640 5 cars, 1 truck, 210.3ms\n",
            "Speed: 2.8ms preprocess, 210.3ms inference, 1.5ms postprocess per image at shape (1, 3, 384, 640)\n"
          ]
        },
        {
          "output_type": "stream",
          "name": "stderr",
          "text": [
            "\r 87%|████████▋ | 441/508 [06:19<00:45,  1.49it/s]"
          ]
        },
        {
          "output_type": "stream",
          "name": "stdout",
          "text": [
            "\n",
            "0: 384x640 5 cars, 1 truck, 216.6ms\n",
            "Speed: 5.1ms preprocess, 216.6ms inference, 1.6ms postprocess per image at shape (1, 3, 384, 640)\n"
          ]
        },
        {
          "output_type": "stream",
          "name": "stderr",
          "text": [
            "\r 87%|████████▋ | 442/508 [06:19<00:43,  1.53it/s]"
          ]
        },
        {
          "output_type": "stream",
          "name": "stdout",
          "text": [
            "\n",
            "0: 384x640 5 cars, 1 truck, 195.6ms\n",
            "Speed: 2.7ms preprocess, 195.6ms inference, 1.8ms postprocess per image at shape (1, 3, 384, 640)\n"
          ]
        },
        {
          "output_type": "stream",
          "name": "stderr",
          "text": [
            "\r 87%|████████▋ | 443/508 [06:20<00:42,  1.54it/s]"
          ]
        },
        {
          "output_type": "stream",
          "name": "stdout",
          "text": [
            "\n",
            "0: 384x640 6 cars, 2 trucks, 189.9ms\n",
            "Speed: 8.1ms preprocess, 189.9ms inference, 1.6ms postprocess per image at shape (1, 3, 384, 640)\n"
          ]
        },
        {
          "output_type": "stream",
          "name": "stderr",
          "text": [
            "\r 87%|████████▋ | 444/508 [06:21<00:45,  1.42it/s]"
          ]
        },
        {
          "output_type": "stream",
          "name": "stdout",
          "text": [
            "\n",
            "0: 384x640 5 cars, 1 bus, 2 trucks, 315.6ms\n",
            "Speed: 10.9ms preprocess, 315.6ms inference, 2.0ms postprocess per image at shape (1, 3, 384, 640)\n"
          ]
        },
        {
          "output_type": "stream",
          "name": "stderr",
          "text": [
            "\r 88%|████████▊ | 445/508 [06:22<00:52,  1.21it/s]"
          ]
        },
        {
          "output_type": "stream",
          "name": "stdout",
          "text": [
            "\n",
            "0: 384x640 5 cars, 1 bus, 1 truck, 291.2ms\n",
            "Speed: 4.6ms preprocess, 291.2ms inference, 2.7ms postprocess per image at shape (1, 3, 384, 640)\n"
          ]
        },
        {
          "output_type": "stream",
          "name": "stderr",
          "text": [
            "\r 88%|████████▊ | 446/508 [06:23<00:54,  1.14it/s]"
          ]
        },
        {
          "output_type": "stream",
          "name": "stdout",
          "text": [
            "\n",
            "0: 384x640 3 cars, 1 truck, 322.2ms\n",
            "Speed: 4.0ms preprocess, 322.2ms inference, 2.1ms postprocess per image at shape (1, 3, 384, 640)\n"
          ]
        },
        {
          "output_type": "stream",
          "name": "stderr",
          "text": [
            "\r 88%|████████▊ | 447/508 [06:24<00:52,  1.17it/s]"
          ]
        },
        {
          "output_type": "stream",
          "name": "stdout",
          "text": [
            "\n",
            "0: 384x640 4 cars, 1 truck, 315.3ms\n",
            "Speed: 5.3ms preprocess, 315.3ms inference, 2.3ms postprocess per image at shape (1, 3, 384, 640)\n"
          ]
        },
        {
          "output_type": "stream",
          "name": "stderr",
          "text": [
            "\r 88%|████████▊ | 448/508 [06:25<00:50,  1.20it/s]"
          ]
        },
        {
          "output_type": "stream",
          "name": "stdout",
          "text": [
            "\n",
            "0: 384x640 5 cars, 2 trucks, 186.2ms\n",
            "Speed: 3.1ms preprocess, 186.2ms inference, 1.7ms postprocess per image at shape (1, 3, 384, 640)\n"
          ]
        },
        {
          "output_type": "stream",
          "name": "stderr",
          "text": [
            "\r 88%|████████▊ | 449/508 [06:25<00:45,  1.29it/s]"
          ]
        },
        {
          "output_type": "stream",
          "name": "stdout",
          "text": [
            "\n",
            "0: 384x640 5 cars, 1 truck, 224.0ms\n",
            "Speed: 4.2ms preprocess, 224.0ms inference, 1.5ms postprocess per image at shape (1, 3, 384, 640)\n"
          ]
        },
        {
          "output_type": "stream",
          "name": "stderr",
          "text": [
            "\r 89%|████████▊ | 450/508 [06:26<00:42,  1.37it/s]"
          ]
        },
        {
          "output_type": "stream",
          "name": "stdout",
          "text": [
            "\n",
            "0: 384x640 5 cars, 1 truck, 210.7ms\n",
            "Speed: 3.2ms preprocess, 210.7ms inference, 1.7ms postprocess per image at shape (1, 3, 384, 640)\n"
          ]
        },
        {
          "output_type": "stream",
          "name": "stderr",
          "text": [
            "\r 89%|████████▉ | 451/508 [06:26<00:40,  1.42it/s]"
          ]
        },
        {
          "output_type": "stream",
          "name": "stdout",
          "text": [
            "\n",
            "0: 384x640 5 cars, 1 truck, 204.7ms\n",
            "Speed: 10.8ms preprocess, 204.7ms inference, 1.6ms postprocess per image at shape (1, 3, 384, 640)\n"
          ]
        },
        {
          "output_type": "stream",
          "name": "stderr",
          "text": [
            "\r 89%|████████▉ | 452/508 [06:27<00:37,  1.47it/s]"
          ]
        },
        {
          "output_type": "stream",
          "name": "stdout",
          "text": [
            "\n",
            "0: 384x640 4 cars, 2 trucks, 195.7ms\n",
            "Speed: 2.7ms preprocess, 195.7ms inference, 1.6ms postprocess per image at shape (1, 3, 384, 640)\n"
          ]
        },
        {
          "output_type": "stream",
          "name": "stderr",
          "text": [
            "\r 89%|████████▉ | 453/508 [06:28<00:36,  1.52it/s]"
          ]
        },
        {
          "output_type": "stream",
          "name": "stdout",
          "text": [
            "\n",
            "0: 384x640 4 cars, 1 bus, 3 trucks, 220.2ms\n",
            "Speed: 4.4ms preprocess, 220.2ms inference, 1.9ms postprocess per image at shape (1, 3, 384, 640)\n"
          ]
        },
        {
          "output_type": "stream",
          "name": "stderr",
          "text": [
            "\r 89%|████████▉ | 454/508 [06:28<00:37,  1.45it/s]"
          ]
        },
        {
          "output_type": "stream",
          "name": "stdout",
          "text": [
            "\n",
            "0: 384x640 5 cars, 1 bus, 1 train, 2 trucks, 207.1ms\n",
            "Speed: 5.1ms preprocess, 207.1ms inference, 1.6ms postprocess per image at shape (1, 3, 384, 640)\n"
          ]
        },
        {
          "output_type": "stream",
          "name": "stderr",
          "text": [
            "\r 90%|████████▉ | 455/508 [06:29<00:37,  1.40it/s]"
          ]
        },
        {
          "output_type": "stream",
          "name": "stdout",
          "text": [
            "\n",
            "0: 384x640 4 cars, 1 bus, 1 train, 1 truck, 221.0ms\n",
            "Speed: 5.7ms preprocess, 221.0ms inference, 1.6ms postprocess per image at shape (1, 3, 384, 640)\n"
          ]
        },
        {
          "output_type": "stream",
          "name": "stderr",
          "text": [
            "\r 90%|████████▉ | 456/508 [06:30<00:36,  1.43it/s]"
          ]
        },
        {
          "output_type": "stream",
          "name": "stdout",
          "text": [
            "\n",
            "0: 384x640 4 cars, 1 train, 1 truck, 200.5ms\n",
            "Speed: 2.5ms preprocess, 200.5ms inference, 1.6ms postprocess per image at shape (1, 3, 384, 640)\n"
          ]
        },
        {
          "output_type": "stream",
          "name": "stderr",
          "text": [
            "\r 90%|████████▉ | 457/508 [06:31<00:34,  1.49it/s]"
          ]
        },
        {
          "output_type": "stream",
          "name": "stdout",
          "text": [
            "\n",
            "0: 384x640 3 cars, 2 trucks, 222.7ms\n",
            "Speed: 2.8ms preprocess, 222.7ms inference, 1.5ms postprocess per image at shape (1, 3, 384, 640)\n"
          ]
        },
        {
          "output_type": "stream",
          "name": "stderr",
          "text": [
            "\r 90%|█████████ | 458/508 [06:31<00:32,  1.55it/s]"
          ]
        },
        {
          "output_type": "stream",
          "name": "stdout",
          "text": [
            "\n",
            "0: 384x640 3 cars, 1 bus, 1 truck, 184.9ms\n",
            "Speed: 2.5ms preprocess, 184.9ms inference, 1.5ms postprocess per image at shape (1, 3, 384, 640)\n"
          ]
        },
        {
          "output_type": "stream",
          "name": "stderr",
          "text": [
            "\r 90%|█████████ | 459/508 [06:32<00:30,  1.63it/s]"
          ]
        },
        {
          "output_type": "stream",
          "name": "stdout",
          "text": [
            "\n",
            "0: 384x640 3 cars, 1 truck, 188.5ms\n",
            "Speed: 2.4ms preprocess, 188.5ms inference, 1.6ms postprocess per image at shape (1, 3, 384, 640)\n"
          ]
        },
        {
          "output_type": "stream",
          "name": "stderr",
          "text": [
            "\r 91%|█████████ | 460/508 [06:32<00:27,  1.73it/s]"
          ]
        },
        {
          "output_type": "stream",
          "name": "stdout",
          "text": [
            "\n",
            "0: 384x640 4 cars, 189.6ms\n",
            "Speed: 4.4ms preprocess, 189.6ms inference, 1.5ms postprocess per image at shape (1, 3, 384, 640)\n"
          ]
        },
        {
          "output_type": "stream",
          "name": "stderr",
          "text": [
            "\r 91%|█████████ | 461/508 [06:33<00:25,  1.82it/s]"
          ]
        },
        {
          "output_type": "stream",
          "name": "stdout",
          "text": [
            "\n",
            "0: 384x640 3 cars, 1 bus, 1 train, 2 trucks, 193.6ms\n",
            "Speed: 3.2ms preprocess, 193.6ms inference, 1.5ms postprocess per image at shape (1, 3, 384, 640)\n"
          ]
        },
        {
          "output_type": "stream",
          "name": "stderr",
          "text": [
            "\r 91%|█████████ | 462/508 [06:33<00:26,  1.72it/s]"
          ]
        },
        {
          "output_type": "stream",
          "name": "stdout",
          "text": [
            "\n",
            "0: 384x640 3 cars, 1 bus, 1 truck, 202.4ms\n",
            "Speed: 2.6ms preprocess, 202.4ms inference, 1.6ms postprocess per image at shape (1, 3, 384, 640)\n"
          ]
        },
        {
          "output_type": "stream",
          "name": "stderr",
          "text": [
            "\r 91%|█████████ | 463/508 [06:34<00:25,  1.73it/s]"
          ]
        },
        {
          "output_type": "stream",
          "name": "stdout",
          "text": [
            "\n",
            "0: 384x640 3 cars, 1 bus, 1 truck, 202.4ms\n",
            "Speed: 2.9ms preprocess, 202.4ms inference, 1.5ms postprocess per image at shape (1, 3, 384, 640)\n"
          ]
        },
        {
          "output_type": "stream",
          "name": "stderr",
          "text": [
            "\r 91%|█████████▏| 464/508 [06:34<00:25,  1.76it/s]"
          ]
        },
        {
          "output_type": "stream",
          "name": "stdout",
          "text": [
            "\n",
            "0: 384x640 3 cars, 1 bus, 1 truck, 278.0ms\n",
            "Speed: 5.6ms preprocess, 278.0ms inference, 1.9ms postprocess per image at shape (1, 3, 384, 640)\n"
          ]
        },
        {
          "output_type": "stream",
          "name": "stderr",
          "text": [
            "\r 92%|█████████▏| 465/508 [06:35<00:27,  1.55it/s]"
          ]
        },
        {
          "output_type": "stream",
          "name": "stdout",
          "text": [
            "\n",
            "0: 384x640 4 cars, 1 bus, 1 truck, 309.4ms\n",
            "Speed: 2.6ms preprocess, 309.4ms inference, 2.1ms postprocess per image at shape (1, 3, 384, 640)\n"
          ]
        },
        {
          "output_type": "stream",
          "name": "stderr",
          "text": [
            "\r 92%|█████████▏| 466/508 [06:36<00:30,  1.39it/s]"
          ]
        },
        {
          "output_type": "stream",
          "name": "stdout",
          "text": [
            "\n",
            "0: 384x640 6 cars, 1 bus, 1 truck, 281.6ms\n",
            "Speed: 2.5ms preprocess, 281.6ms inference, 2.0ms postprocess per image at shape (1, 3, 384, 640)\n"
          ]
        },
        {
          "output_type": "stream",
          "name": "stderr",
          "text": [
            "\r 92%|█████████▏| 467/508 [06:37<00:33,  1.21it/s]"
          ]
        },
        {
          "output_type": "stream",
          "name": "stdout",
          "text": [
            "\n",
            "0: 384x640 3 cars, 1 bus, 2 trucks, 292.5ms\n",
            "Speed: 3.6ms preprocess, 292.5ms inference, 2.1ms postprocess per image at shape (1, 3, 384, 640)\n"
          ]
        },
        {
          "output_type": "stream",
          "name": "stderr",
          "text": [
            "\r 92%|█████████▏| 468/508 [06:38<00:34,  1.17it/s]"
          ]
        },
        {
          "output_type": "stream",
          "name": "stdout",
          "text": [
            "\n",
            "0: 384x640 3 cars, 1 bus, 2 trucks, 229.9ms\n",
            "Speed: 2.8ms preprocess, 229.9ms inference, 1.5ms postprocess per image at shape (1, 3, 384, 640)\n"
          ]
        },
        {
          "output_type": "stream",
          "name": "stderr",
          "text": [
            "\r 92%|█████████▏| 469/508 [06:39<00:30,  1.26it/s]"
          ]
        },
        {
          "output_type": "stream",
          "name": "stdout",
          "text": [
            "\n",
            "0: 384x640 2 cars, 1 bus, 3 trucks, 229.9ms\n",
            "Speed: 3.1ms preprocess, 229.9ms inference, 1.6ms postprocess per image at shape (1, 3, 384, 640)\n"
          ]
        },
        {
          "output_type": "stream",
          "name": "stderr",
          "text": [
            "\r 93%|█████████▎| 470/508 [06:39<00:28,  1.35it/s]"
          ]
        },
        {
          "output_type": "stream",
          "name": "stdout",
          "text": [
            "\n",
            "0: 384x640 2 cars, 1 bus, 2 trucks, 200.3ms\n",
            "Speed: 3.7ms preprocess, 200.3ms inference, 1.7ms postprocess per image at shape (1, 3, 384, 640)\n"
          ]
        },
        {
          "output_type": "stream",
          "name": "stderr",
          "text": [
            "\r 93%|█████████▎| 471/508 [06:40<00:25,  1.46it/s]"
          ]
        },
        {
          "output_type": "stream",
          "name": "stdout",
          "text": [
            "\n",
            "0: 384x640 6 cars, 1 bus, 1 truck, 207.7ms\n",
            "Speed: 2.8ms preprocess, 207.7ms inference, 1.6ms postprocess per image at shape (1, 3, 384, 640)\n"
          ]
        },
        {
          "output_type": "stream",
          "name": "stderr",
          "text": [
            "\r 93%|█████████▎| 472/508 [06:41<00:25,  1.44it/s]"
          ]
        },
        {
          "output_type": "stream",
          "name": "stdout",
          "text": [
            "\n",
            "0: 384x640 5 cars, 1 bus, 2 trucks, 216.0ms\n",
            "Speed: 3.5ms preprocess, 216.0ms inference, 1.9ms postprocess per image at shape (1, 3, 384, 640)\n"
          ]
        },
        {
          "output_type": "stream",
          "name": "stderr",
          "text": [
            "\r 93%|█████████▎| 473/508 [06:41<00:25,  1.40it/s]"
          ]
        },
        {
          "output_type": "stream",
          "name": "stdout",
          "text": [
            "\n",
            "0: 384x640 4 cars, 1 bus, 2 trucks, 211.8ms\n",
            "Speed: 5.0ms preprocess, 211.8ms inference, 1.6ms postprocess per image at shape (1, 3, 384, 640)\n"
          ]
        },
        {
          "output_type": "stream",
          "name": "stderr",
          "text": [
            "\r 93%|█████████▎| 474/508 [06:42<00:24,  1.41it/s]"
          ]
        },
        {
          "output_type": "stream",
          "name": "stdout",
          "text": [
            "\n",
            "0: 384x640 6 cars, 1 bus, 2 trucks, 189.7ms\n",
            "Speed: 3.7ms preprocess, 189.7ms inference, 1.8ms postprocess per image at shape (1, 3, 384, 640)\n"
          ]
        },
        {
          "output_type": "stream",
          "name": "stderr",
          "text": [
            "\r 94%|█████████▎| 475/508 [06:43<00:24,  1.36it/s]"
          ]
        },
        {
          "output_type": "stream",
          "name": "stdout",
          "text": [
            "\n",
            "0: 384x640 5 cars, 1 bus, 2 trucks, 206.2ms\n",
            "Speed: 2.4ms preprocess, 206.2ms inference, 1.6ms postprocess per image at shape (1, 3, 384, 640)\n"
          ]
        },
        {
          "output_type": "stream",
          "name": "stderr",
          "text": [
            "\r 94%|█████████▎| 476/508 [06:44<00:23,  1.37it/s]"
          ]
        },
        {
          "output_type": "stream",
          "name": "stdout",
          "text": [
            "\n",
            "0: 384x640 4 cars, 1 bus, 3 trucks, 186.7ms\n",
            "Speed: 2.6ms preprocess, 186.7ms inference, 1.6ms postprocess per image at shape (1, 3, 384, 640)\n"
          ]
        },
        {
          "output_type": "stream",
          "name": "stderr",
          "text": [
            "\r 94%|█████████▍| 477/508 [06:44<00:22,  1.38it/s]"
          ]
        },
        {
          "output_type": "stream",
          "name": "stdout",
          "text": [
            "\n",
            "0: 384x640 6 cars, 1 bus, 4 trucks, 189.4ms\n",
            "Speed: 2.6ms preprocess, 189.4ms inference, 1.5ms postprocess per image at shape (1, 3, 384, 640)\n"
          ]
        },
        {
          "output_type": "stream",
          "name": "stderr",
          "text": [
            "\r 94%|█████████▍| 478/508 [06:45<00:23,  1.30it/s]"
          ]
        },
        {
          "output_type": "stream",
          "name": "stdout",
          "text": [
            "\n",
            "0: 384x640 5 cars, 1 bus, 3 trucks, 193.0ms\n",
            "Speed: 2.7ms preprocess, 193.0ms inference, 1.6ms postprocess per image at shape (1, 3, 384, 640)\n"
          ]
        },
        {
          "output_type": "stream",
          "name": "stderr",
          "text": [
            "\r 94%|█████████▍| 479/508 [06:46<00:22,  1.30it/s]"
          ]
        },
        {
          "output_type": "stream",
          "name": "stdout",
          "text": [
            "\n",
            "0: 384x640 5 cars, 1 bus, 3 trucks, 230.3ms\n",
            "Speed: 7.4ms preprocess, 230.3ms inference, 1.5ms postprocess per image at shape (1, 3, 384, 640)\n"
          ]
        },
        {
          "output_type": "stream",
          "name": "stderr",
          "text": [
            "\r 94%|█████████▍| 480/508 [06:47<00:21,  1.29it/s]"
          ]
        },
        {
          "output_type": "stream",
          "name": "stdout",
          "text": [
            "\n",
            "0: 384x640 4 cars, 1 bus, 2 trucks, 202.3ms\n",
            "Speed: 2.6ms preprocess, 202.3ms inference, 2.1ms postprocess per image at shape (1, 3, 384, 640)\n"
          ]
        },
        {
          "output_type": "stream",
          "name": "stderr",
          "text": [
            "\r 95%|█████████▍| 481/508 [06:47<00:20,  1.34it/s]"
          ]
        },
        {
          "output_type": "stream",
          "name": "stdout",
          "text": [
            "\n",
            "0: 384x640 7 cars, 1 bus, 4 trucks, 204.9ms\n",
            "Speed: 2.8ms preprocess, 204.9ms inference, 1.6ms postprocess per image at shape (1, 3, 384, 640)\n"
          ]
        },
        {
          "output_type": "stream",
          "name": "stderr",
          "text": [
            "\r 95%|█████████▍| 482/508 [06:48<00:21,  1.22it/s]"
          ]
        },
        {
          "output_type": "stream",
          "name": "stdout",
          "text": [
            "\n",
            "0: 384x640 8 cars, 1 bus, 3 trucks, 285.8ms\n",
            "Speed: 5.2ms preprocess, 285.8ms inference, 2.1ms postprocess per image at shape (1, 3, 384, 640)\n"
          ]
        },
        {
          "output_type": "stream",
          "name": "stderr",
          "text": [
            "\r 95%|█████████▌| 483/508 [06:50<00:25,  1.00s/it]"
          ]
        },
        {
          "output_type": "stream",
          "name": "stdout",
          "text": [
            "\n",
            "0: 384x640 6 cars, 1 bus, 4 trucks, 301.1ms\n",
            "Speed: 10.8ms preprocess, 301.1ms inference, 2.2ms postprocess per image at shape (1, 3, 384, 640)\n"
          ]
        },
        {
          "output_type": "stream",
          "name": "stderr",
          "text": [
            "\r 95%|█████████▌| 484/508 [06:51<00:27,  1.16s/it]"
          ]
        },
        {
          "output_type": "stream",
          "name": "stdout",
          "text": [
            "\n",
            "0: 384x640 7 cars, 3 trucks, 304.6ms\n",
            "Speed: 8.7ms preprocess, 304.6ms inference, 3.0ms postprocess per image at shape (1, 3, 384, 640)\n"
          ]
        },
        {
          "output_type": "stream",
          "name": "stderr",
          "text": [
            "\r 95%|█████████▌| 485/508 [06:52<00:25,  1.12s/it]"
          ]
        },
        {
          "output_type": "stream",
          "name": "stdout",
          "text": [
            "\n",
            "0: 384x640 6 cars, 3 trucks, 197.4ms\n",
            "Speed: 2.5ms preprocess, 197.4ms inference, 1.7ms postprocess per image at shape (1, 3, 384, 640)\n"
          ]
        },
        {
          "output_type": "stream",
          "name": "stderr",
          "text": [
            "\r 96%|█████████▌| 486/508 [06:53<00:22,  1.02s/it]"
          ]
        },
        {
          "output_type": "stream",
          "name": "stdout",
          "text": [
            "\n",
            "0: 384x640 6 cars, 4 trucks, 205.3ms\n",
            "Speed: 5.4ms preprocess, 205.3ms inference, 2.0ms postprocess per image at shape (1, 3, 384, 640)\n"
          ]
        },
        {
          "output_type": "stream",
          "name": "stderr",
          "text": [
            "\r 96%|█████████▌| 487/508 [06:54<00:20,  1.03it/s]"
          ]
        },
        {
          "output_type": "stream",
          "name": "stdout",
          "text": [
            "\n",
            "0: 384x640 3 cars, 1 truck, 202.2ms\n",
            "Speed: 2.6ms preprocess, 202.2ms inference, 1.6ms postprocess per image at shape (1, 3, 384, 640)\n"
          ]
        },
        {
          "output_type": "stream",
          "name": "stderr",
          "text": [
            "\r 96%|█████████▌| 488/508 [06:55<00:16,  1.20it/s]"
          ]
        },
        {
          "output_type": "stream",
          "name": "stdout",
          "text": [
            "\n",
            "0: 384x640 6 cars, 2 trucks, 192.6ms\n",
            "Speed: 2.7ms preprocess, 192.6ms inference, 1.9ms postprocess per image at shape (1, 3, 384, 640)\n"
          ]
        },
        {
          "output_type": "stream",
          "name": "stderr",
          "text": [
            "\r 96%|█████████▋| 489/508 [06:55<00:15,  1.25it/s]"
          ]
        },
        {
          "output_type": "stream",
          "name": "stdout",
          "text": [
            "\n",
            "0: 384x640 3 cars, 2 trucks, 222.1ms\n",
            "Speed: 2.6ms preprocess, 222.1ms inference, 2.6ms postprocess per image at shape (1, 3, 384, 640)\n"
          ]
        },
        {
          "output_type": "stream",
          "name": "stderr",
          "text": [
            "\r 96%|█████████▋| 490/508 [06:56<00:13,  1.35it/s]"
          ]
        },
        {
          "output_type": "stream",
          "name": "stdout",
          "text": [
            "\n",
            "0: 384x640 3 cars, 1 bus, 1 train, 2 trucks, 217.0ms\n",
            "Speed: 2.6ms preprocess, 217.0ms inference, 1.6ms postprocess per image at shape (1, 3, 384, 640)\n"
          ]
        },
        {
          "output_type": "stream",
          "name": "stderr",
          "text": [
            "\r 97%|█████████▋| 491/508 [06:57<00:12,  1.37it/s]"
          ]
        },
        {
          "output_type": "stream",
          "name": "stdout",
          "text": [
            "\n",
            "0: 384x640 4 cars, 2 trucks, 203.4ms\n",
            "Speed: 10.5ms preprocess, 203.4ms inference, 1.5ms postprocess per image at shape (1, 3, 384, 640)\n"
          ]
        },
        {
          "output_type": "stream",
          "name": "stderr",
          "text": [
            "\r 97%|█████████▋| 492/508 [06:57<00:11,  1.43it/s]"
          ]
        },
        {
          "output_type": "stream",
          "name": "stdout",
          "text": [
            "\n",
            "0: 384x640 3 cars, 1 train, 3 trucks, 196.3ms\n",
            "Speed: 2.5ms preprocess, 196.3ms inference, 1.5ms postprocess per image at shape (1, 3, 384, 640)\n"
          ]
        },
        {
          "output_type": "stream",
          "name": "stderr",
          "text": [
            "\r 97%|█████████▋| 493/508 [06:58<00:10,  1.46it/s]"
          ]
        },
        {
          "output_type": "stream",
          "name": "stdout",
          "text": [
            "\n",
            "0: 384x640 2 cars, 1 train, 2 trucks, 206.3ms\n",
            "Speed: 2.6ms preprocess, 206.3ms inference, 1.6ms postprocess per image at shape (1, 3, 384, 640)\n"
          ]
        },
        {
          "output_type": "stream",
          "name": "stderr",
          "text": [
            "\r 97%|█████████▋| 494/508 [06:58<00:09,  1.54it/s]"
          ]
        },
        {
          "output_type": "stream",
          "name": "stdout",
          "text": [
            "\n",
            "0: 384x640 4 cars, 1 train, 2 trucks, 204.7ms\n",
            "Speed: 2.4ms preprocess, 204.7ms inference, 1.5ms postprocess per image at shape (1, 3, 384, 640)\n"
          ]
        },
        {
          "output_type": "stream",
          "name": "stderr",
          "text": [
            "\r 97%|█████████▋| 495/508 [06:59<00:08,  1.53it/s]"
          ]
        },
        {
          "output_type": "stream",
          "name": "stdout",
          "text": [
            "\n",
            "0: 384x640 3 cars, 1 train, 1 truck, 185.1ms\n",
            "Speed: 3.8ms preprocess, 185.1ms inference, 1.6ms postprocess per image at shape (1, 3, 384, 640)\n"
          ]
        },
        {
          "output_type": "stream",
          "name": "stderr",
          "text": [
            "\r 98%|█████████▊| 496/508 [07:00<00:07,  1.61it/s]"
          ]
        },
        {
          "output_type": "stream",
          "name": "stdout",
          "text": [
            "\n",
            "0: 384x640 4 cars, 1 bus, 1 train, 2 trucks, 198.0ms\n",
            "Speed: 7.5ms preprocess, 198.0ms inference, 1.5ms postprocess per image at shape (1, 3, 384, 640)\n"
          ]
        },
        {
          "output_type": "stream",
          "name": "stderr",
          "text": [
            "\r 98%|█████████▊| 497/508 [07:00<00:07,  1.55it/s]"
          ]
        },
        {
          "output_type": "stream",
          "name": "stdout",
          "text": [
            "\n",
            "0: 384x640 4 cars, 1 bus, 1 train, 1 truck, 198.6ms\n",
            "Speed: 2.6ms preprocess, 198.6ms inference, 1.6ms postprocess per image at shape (1, 3, 384, 640)\n"
          ]
        },
        {
          "output_type": "stream",
          "name": "stderr",
          "text": [
            "\r 98%|█████████▊| 498/508 [07:01<00:06,  1.52it/s]"
          ]
        },
        {
          "output_type": "stream",
          "name": "stdout",
          "text": [
            "\n",
            "0: 384x640 5 cars, 1 bus, 1 train, 3 trucks, 202.6ms\n",
            "Speed: 5.3ms preprocess, 202.6ms inference, 1.5ms postprocess per image at shape (1, 3, 384, 640)\n"
          ]
        },
        {
          "output_type": "stream",
          "name": "stderr",
          "text": [
            "\r 98%|█████████▊| 499/508 [07:02<00:06,  1.39it/s]"
          ]
        },
        {
          "output_type": "stream",
          "name": "stdout",
          "text": [
            "\n",
            "0: 384x640 5 cars, 1 bus, 1 train, 2 trucks, 278.1ms\n",
            "Speed: 7.8ms preprocess, 278.1ms inference, 2.1ms postprocess per image at shape (1, 3, 384, 640)\n"
          ]
        },
        {
          "output_type": "stream",
          "name": "stderr",
          "text": [
            "\r 98%|█████████▊| 500/508 [07:03<00:06,  1.15it/s]"
          ]
        },
        {
          "output_type": "stream",
          "name": "stdout",
          "text": [
            "\n",
            "0: 384x640 5 cars, 1 bus, 1 train, 2 trucks, 270.3ms\n",
            "Speed: 2.6ms preprocess, 270.3ms inference, 2.0ms postprocess per image at shape (1, 3, 384, 640)\n"
          ]
        },
        {
          "output_type": "stream",
          "name": "stderr",
          "text": [
            "\r 99%|█████████▊| 501/508 [07:04<00:06,  1.04it/s]"
          ]
        },
        {
          "output_type": "stream",
          "name": "stdout",
          "text": [
            "\n",
            "0: 384x640 3 cars, 1 bus, 1 train, 3 trucks, 254.6ms\n",
            "Speed: 3.0ms preprocess, 254.6ms inference, 2.1ms postprocess per image at shape (1, 3, 384, 640)\n"
          ]
        },
        {
          "output_type": "stream",
          "name": "stderr",
          "text": [
            "\r 99%|█████████▉| 502/508 [07:05<00:05,  1.01it/s]"
          ]
        },
        {
          "output_type": "stream",
          "name": "stdout",
          "text": [
            "\n",
            "0: 384x640 3 cars, 1 train, 2 trucks, 259.9ms\n",
            "Speed: 2.6ms preprocess, 259.9ms inference, 2.3ms postprocess per image at shape (1, 3, 384, 640)\n"
          ]
        },
        {
          "output_type": "stream",
          "name": "stderr",
          "text": [
            "\r 99%|█████████▉| 503/508 [07:06<00:04,  1.09it/s]"
          ]
        },
        {
          "output_type": "stream",
          "name": "stdout",
          "text": [
            "\n",
            "0: 384x640 3 cars, 1 train, 2 trucks, 212.9ms\n",
            "Speed: 3.4ms preprocess, 212.9ms inference, 1.6ms postprocess per image at shape (1, 3, 384, 640)\n"
          ]
        },
        {
          "output_type": "stream",
          "name": "stderr",
          "text": [
            "\r 99%|█████████▉| 504/508 [07:07<00:03,  1.22it/s]"
          ]
        },
        {
          "output_type": "stream",
          "name": "stdout",
          "text": [
            "\n",
            "0: 384x640 3 cars, 1 train, 1 truck, 184.6ms\n",
            "Speed: 3.6ms preprocess, 184.6ms inference, 1.5ms postprocess per image at shape (1, 3, 384, 640)\n"
          ]
        },
        {
          "output_type": "stream",
          "name": "stderr",
          "text": [
            "\r 99%|█████████▉| 505/508 [07:07<00:02,  1.34it/s]"
          ]
        },
        {
          "output_type": "stream",
          "name": "stdout",
          "text": [
            "\n",
            "0: 384x640 5 cars, 1 train, 1 truck, 187.7ms\n",
            "Speed: 2.4ms preprocess, 187.7ms inference, 1.9ms postprocess per image at shape (1, 3, 384, 640)\n"
          ]
        },
        {
          "output_type": "stream",
          "name": "stderr",
          "text": [
            "\r100%|█████████▉| 506/508 [07:08<00:01,  1.38it/s]"
          ]
        },
        {
          "output_type": "stream",
          "name": "stdout",
          "text": [
            "\n",
            "0: 384x640 4 cars, 2 trains, 243.2ms\n",
            "Speed: 2.6ms preprocess, 243.2ms inference, 2.3ms postprocess per image at shape (1, 3, 384, 640)\n"
          ]
        },
        {
          "output_type": "stream",
          "name": "stderr",
          "text": [
            "\r100%|█████████▉| 507/508 [07:09<00:00,  1.42it/s]"
          ]
        },
        {
          "output_type": "stream",
          "name": "stdout",
          "text": [
            "\n",
            "0: 384x640 4 cars, 2 trains, 216.6ms\n",
            "Speed: 3.3ms preprocess, 216.6ms inference, 1.7ms postprocess per image at shape (1, 3, 384, 640)\n"
          ]
        },
        {
          "output_type": "stream",
          "name": "stderr",
          "text": [
            "100%|██████████| 508/508 [07:09<00:00,  1.18it/s]\n"
          ]
        }
      ],
      "source": [
        "\n",
        "\n",
        "\n",
        "\n",
        "\n",
        "\n",
        "##############################################With  Counting################################################################\n",
        "#############################################counting every time###################################\n",
        "# # Import necessary libraries\n",
        "# import cv2\n",
        "# import time\n",
        "# from ultralytics import YOLO\n",
        "# from IPython.display import display, clear_output\n",
        "# import numpy as np\n",
        "# from PIL import Image\n",
        "# from google.colab import files\n",
        "# import os\n",
        "\n",
        "# # Create output directory if it doesn't exist\n",
        "# output_dir = \"/content/Object-Tracking-YOLOv10-DeepSORT/Resources/Pro\"\n",
        "# os.makedirs(output_dir, exist_ok=True)\n",
        "\n",
        "# # Load the YOLO model\n",
        "# model = YOLO('/content/Object-Tracking-YOLOv10-DeepSORT/weights/yolov10n.pt')\n",
        "\n",
        "# # Create video capture\n",
        "# input_video_path = \"/content/Object-Tracking-YOLOv10-DeepSORT/Resources/video4.mp4\"  # Input video path\n",
        "# output_video_path = os.path.join(output_dir, \"processed_video.mp4\")  # Output video path\n",
        "# cap = cv2.VideoCapture(input_video_path)\n",
        "\n",
        "# # Get video properties\n",
        "# frame_width = int(cap.get(cv2.CAP_PROP_FRAME_WIDTH))\n",
        "# frame_height = int(cap.get(cv2.CAP_PROP_FRAME_HEIGHT))\n",
        "# fps = cap.get(cv2.CAP_PROP_FPS)\n",
        "\n",
        "# # Set up the video writer\n",
        "# fourcc = cv2.VideoWriter_fourcc(*'mp4v')  # Codec for mp4\n",
        "# out = cv2.VideoWriter(output_video_path, fourcc, fps, (frame_width, frame_height))\n",
        "\n",
        "# ctime = 0\n",
        "# ptime = 0\n",
        "# count = 0\n",
        "# object_count = {name: 0 for name in cocoClassNames}  # Initialize object count dictionary\n",
        "\n",
        "# while True:\n",
        "#     ret, frame = cap.read()\n",
        "#     if not ret:\n",
        "#         break  # Exit loop if no frame is returned\n",
        "\n",
        "#     count += 1\n",
        "#     ctime = time.time()\n",
        "#     current_fps = 1 / (ctime - ptime) if ptime != 0 else 0\n",
        "#     ptime = ctime\n",
        "\n",
        "#     cv2.putText(frame, f\"FPS: {int(current_fps)}\", (10, 50), cv2.FONT_HERSHEY_PLAIN, 3, (255, 0, 0), 3)\n",
        "#     cv2.putText(frame, f\"Frame Count: {count}\", (10, 100), cv2.FONT_HERSHEY_PLAIN, 3, (255, 0, 255), 3)\n",
        "\n",
        "#     # Run the model on the frame\n",
        "#     results = model(frame)  # Get predictions\n",
        "#     boxes = results[0].boxes.xyxy  # Bounding boxes\n",
        "#     scores = results[0].boxes.conf  # Confidence scores\n",
        "#     class_ids = results[0].boxes.cls  # Class IDs\n",
        "\n",
        "#     # Draw bounding boxes and labels on the frame\n",
        "#     for box, score, class_id in zip(boxes, scores, class_ids):\n",
        "#         if score >= 0.20:  # Confidence threshold\n",
        "#             x1, y1, x2, y2 = map(int, box)\n",
        "#             label = f\"{cocoClassNames[int(class_id)]} {score:.2f}\"\n",
        "#             cv2.rectangle(frame, (x1, y1), (x2, y2), (0, 255, 0), 2)\n",
        "#             cv2.putText(frame, label, (x1, y1 - 10), cv2.FONT_HERSHEY_PLAIN, 1, (255, 255, 255), 2)\n",
        "\n",
        "#             # Increment the count for the detected object\n",
        "#             object_count[cocoClassNames[int(class_id)]] += 1\n",
        "\n",
        "#     # Display the counts for each detected object type on the frame\n",
        "#     y_offset = 150  # Initial position for object counts\n",
        "#     for object_name, count in object_count.items():\n",
        "#         if count > 0:\n",
        "#             cv2.putText(frame, f\"{object_name}: {count}\", (10, y_offset), cv2.FONT_HERSHEY_PLAIN, 1, (255, 255, 255), 2)\n",
        "#             y_offset += 20  # Increment y position for the next object\n",
        "\n",
        "#     # Write the frame to the output video\n",
        "#     out.write(frame)\n",
        "\n",
        "#     # Optional: Convert the frame to RGB for display\n",
        "#     frame_rgb = cv2.cvtColor(frame, cv2.COLOR_BGR2RGB)\n",
        "#     display(Image.fromarray(frame_rgb))\n",
        "#     clear_output(wait=True)  # Clear previous output to simulate video playback\n",
        "\n",
        "#     time.sleep(0.1)  # Control the frame rate\n",
        "\n",
        "# # Release resources\n",
        "# cap.release()\n",
        "# out.release()\n",
        "\n",
        "\n",
        "\n",
        "# import cv2\n",
        "# import math\n",
        "# import time\n",
        "# import torch\n",
        "# from ultralytics import YOLOv10\n",
        "# from utils.object_tracking import ObjectTracking\n",
        "# from tqdm import tqdm\n",
        "\n",
        "# # Initialize object tracking\n",
        "# objectTracking = ObjectTracking()\n",
        "# deepsort = objectTracking.initialize_deepsort()\n",
        "\n",
        "# # Create a Video Capture Object\n",
        "# cap = cv2.VideoCapture(\"Resources/video3.mp4\")\n",
        "# model = YOLOv10(\"weights/yolov10n.pt\")\n",
        "# cocoClassNames = [...]  # Your list of class names\n",
        "\n",
        "# # Get video properties for output\n",
        "# frame_width = int(cap.get(cv2.CAP_PROP_FRAME_WIDTH))\n",
        "# frame_height = int(cap.get(cv2.CAP_PROP_FRAME_HEIGHT))\n",
        "# fps = cap.get(cv2.CAP_PROP_FPS)\n",
        "\n",
        "# # Set up video writer\n",
        "# output_video_path = \"processed_video.mp4\"\n",
        "# fourcc = cv2.VideoWriter_fourcc(*'mp4v')\n",
        "# out = cv2.VideoWriter(output_video_path, fourcc, fps, (frame_width, frame_height))\n",
        "\n",
        "# # Prepare for progress tracking\n",
        "# total_frames = int(cap.get(cv2.CAP_PROP_FRAME_COUNT))\n",
        "# pbar = tqdm(total=total_frames)\n",
        "\n",
        "# ctime = 0\n",
        "# ptime = 0\n",
        "# count = 0\n",
        "\n",
        "# while True:\n",
        "#     xywh_bboxs = []\n",
        "#     confs = []\n",
        "#     oids = []\n",
        "#     outputs = []\n",
        "#     ret, frame = cap.read()\n",
        "#     if not ret:\n",
        "#         break\n",
        "\n",
        "#     count += 1\n",
        "#     results = model.predict(frame, conf=0.25)\n",
        "#     for result in results:\n",
        "#         boxes = result.boxes\n",
        "#         for box in boxes:\n",
        "#             x1, y1, x2, y2 = box.xyxy[0].int()\n",
        "#             cx, cy = int((x1 + x2) / 2), int((y1 + y2) / 2)\n",
        "#             bbox_width, bbox_height = abs(x1 - x2), abs(y1 - y2)\n",
        "#             xywh_bboxs.append([cx, cy, bbox_width, bbox_height])\n",
        "#             confs.append(math.ceil(box.conf[0] * 100) / 100)\n",
        "#             oids.append(int(box.cls[0]))\n",
        "\n",
        "#     xywhs = torch.tensor(xywh_bboxs)\n",
        "#     confidence = torch.tensor(confs)\n",
        "#     outputs = deepsort.update(xywhs, confidence, oids, frame)\n",
        "\n",
        "#     if len(outputs) > 0:\n",
        "#         bbox_xyxy = outputs[:, :4]\n",
        "#         identities = outputs[:, -2]\n",
        "#         classID = outputs[:, -1]\n",
        "#         objectTracking.draw_boxes(frame, bbox_xyxy, identities, classID)\n",
        "\n",
        "#     out.write(frame)\n",
        "\n",
        "#     ctime = time.time()\n",
        "#     fps = 1 / (ctime - ptime)\n",
        "#     ptime = ctime\n",
        "\n",
        "#     pbar.update(1)\n",
        "\n",
        "# # Release resources\n",
        "# cap.release()\n",
        "# out.release()\n",
        "# pbar.close()\n",
        "#==================================================================================================================================================================================\n",
        "# import cv2\n",
        "# import math\n",
        "# import time\n",
        "# import torch\n",
        "# from ultralytics import YOLOv10\n",
        "# from utils.object_tracking import ObjectTracking\n",
        "# from tqdm import tqdm\n",
        "\n",
        "# # Initialize object tracking\n",
        "# objectTracking = ObjectTracking()\n",
        "# deepsort = objectTracking.initialize_deepsort()\n",
        "\n",
        "# # Create a Video Capture Object\n",
        "# cap = cv2.VideoCapture(\"Resources/video3.mp4\")\n",
        "# model = YOLOv10(\"weights/yolov10n.pt\")\n",
        "# cocoClassNames = [\n",
        "#     \"person\", \"bicycle\", \"car\", \"motorbike\", \"aeroplane\",\n",
        "#     \"bus\", \"train\", \"truck\", \"boat\", \"traffic light\",\n",
        "#     \"fire hydrant\", \"stop sign\", \"parking meter\", \"bench\",\n",
        "#     \"bird\", \"cat\", \"dog\", \"horse\", \"sheep\", \"cow\",\n",
        "#     \"elephant\", \"bear\", \"zebra\", \"giraffe\", \"backpack\",\n",
        "#     \"umbrella\", \"handbag\", \"tie\", \"suitcase\", \"frisbee\",\n",
        "#     \"skis\", \"snowboard\", \"sports ball\", \"kite\",\n",
        "#     \"baseball bat\", \"baseball glove\", \"skateboard\",\n",
        "#     \"surfboard\", \"tennis racket\", \"bottle\", \"wine glass\",\n",
        "#     \"cup\", \"fork\", \"knife\", \"spoon\", \"bowl\", \"banana\",\n",
        "#     \"apple\", \"sandwich\", \"orange\", \"broccoli\", \"carrot\",\n",
        "#     \"hot dog\", \"pizza\", \"donut\", \"cake\", \"chair\",\n",
        "#     \"sofa\", \"potted plant\", \"bed\", \"dining table\",\n",
        "#     \"toilet\", \"TV monitor\", \"laptop\", \"mouse\",\n",
        "#     \"remote\", \"keyboard\", \"cell phone\", \"microwave\",\n",
        "#     \"oven\", \"toaster\", \"sink\", \"refrigerator\", \"book\",\n",
        "#     \"clock\", \"vase\", \"scissors\", \"teddy bear\",\n",
        "#     \"hair dryer\", \"toothbrush\"\n",
        "# ]\n",
        "#   # Your list of class names\n",
        "\n",
        "# # Get video properties for output\n",
        "# frame_width = int(cap.get(cv2.CAP_PROP_FRAME_WIDTH))\n",
        "# frame_height = int(cap.get(cv2.CAP_PROP_FRAME_HEIGHT))\n",
        "# fps = cap.get(cv2.CAP_PROP_FPS)\n",
        "\n",
        "# # Set up video writer\n",
        "# output_video_path = \"processed_video.mp4\"\n",
        "# fourcc = cv2.VideoWriter_fourcc(*'mp4v')\n",
        "# out = cv2.VideoWriter(output_video_path, fourcc, fps, (frame_width, frame_height))\n",
        "\n",
        "# # Prepare for progress tracking\n",
        "# total_frames = int(cap.get(cv2.CAP_PROP_FRAME_COUNT))\n",
        "# pbar = tqdm(total=total_frames)\n",
        "\n",
        "# # Initialize object counters\n",
        "# object_count = {i: 0 for i in range(len(cocoClassNames))}\n",
        "\n",
        "# while True:\n",
        "#     ret, frame = cap.read()\n",
        "#     if not ret:\n",
        "#         break\n",
        "\n",
        "#     results = model.predict(frame, conf=0.25)\n",
        "#     xywh_bboxs, confs, oids = [], [], []\n",
        "\n",
        "#     for result in results:\n",
        "#         boxes = result.boxes\n",
        "#         for box in boxes:\n",
        "#             x1, y1, x2, y2 = box.xyxy[0].int()\n",
        "#             cx, cy = int((x1 + x2) / 2), int((y1 + y2) / 2)\n",
        "#             bbox_width, bbox_height = abs(x1 - x2), abs(y1 - y2)\n",
        "#             xywh_bboxs.append([cx, cy, bbox_width, bbox_height])\n",
        "#             confs.append(math.ceil(box.conf[0] * 100) / 100)\n",
        "#             oids.append(int(box.cls[0]))\n",
        "\n",
        "#     xywhs = torch.tensor(xywh_bboxs)\n",
        "#     confidence = torch.tensor(confs)\n",
        "#     outputs = deepsort.update(xywhs, confidence, oids, frame)\n",
        "\n",
        "#     # Count objects\n",
        "#     if len(outputs) > 0:\n",
        "#         identities = outputs[:, -2]\n",
        "#         for identity in identities.tolist():\n",
        "#             object_count[int(identity)] += 1\n",
        "\n",
        "#         bbox_xyxy = outputs[:, :4]\n",
        "#         classID = outputs[:, -1]\n",
        "#         objectTracking.draw_boxes(frame, bbox_xyxy, identities, classID)\n",
        "\n",
        "#     # Overlay object counts on the frame\n",
        "#     overlay = frame.copy()\n",
        "#     for class_id, count in object_count.items():\n",
        "#         if count > 0:\n",
        "#             cv2.putText(overlay, f\"{cocoClassNames[class_id]}: {count}\", (10, 30 + 30 * class_id),\n",
        "#                         cv2.FONT_HERSHEY_PLAIN, 1, (255, 255, 255), 2)\n",
        "\n",
        "#     # Add transparency to the overlay\n",
        "#     cv2.addWeighted(overlay, 0.5, frame, 0.5, 0, frame)\n",
        "\n",
        "#     out.write(frame)\n",
        "\n",
        "#     pbar.update(1)\n",
        "\n",
        "# # Release resources\n",
        "# cap.release()\n",
        "# out.release()\n",
        "# pbar.close()\n",
        "\n",
        "import cv2\n",
        "import math\n",
        "import time\n",
        "import torch\n",
        "from ultralytics import YOLOv10\n",
        "from utils.object_tracking import ObjectTracking\n",
        "from tqdm import tqdm\n",
        "import numpy as np\n",
        "\n",
        "# Initialize object tracking\n",
        "objectTracking = ObjectTracking()\n",
        "deepsort = objectTracking.initialize_deepsort()\n",
        "\n",
        "# Create a Video Capture Object\n",
        "cap = cv2.VideoCapture(\"Resources/video1.mp4\")\n",
        "model = YOLOv10(\"weights/yolov10n.pt\")\n",
        "cocoClassNames = [\"person\", \"bicycle\", \"car\", \"motorbike\", \"aeroplane\", \"bus\", \"train\",\n",
        "                  \"truck\", \"boat\", \"traffic light\", \"fire hydrant\", \"stop sign\", \"parking meter\",\n",
        "                  \"bench\", \"bird\", \"cat\", \"dog\", \"horse\", \"sheep\", \"cow\", \"elephant\", \"bear\",\n",
        "                  \"zebra\", \"giraffe\", \"backpack\", \"umbrella\", \"handbag\", \"tie\", \"suitcase\",\n",
        "                  \"frisbee\", \"skis\", \"snowboard\", \"sports ball\", \"kite\", \"baseball bat\",\n",
        "                  \"baseball glove\", \"skateboard\", \"surfboard\", \"tennis racket\", \"bottle\",\n",
        "                  \"wine glass\", \"cup\", \"fork\", \"knife\", \"spoon\", \"bowl\", \"banana\", \"apple\",\n",
        "                  \"sandwich\", \"orange\", \"broccoli\", \"carrot\", \"hot dog\", \"pizza\", \"donut\",\n",
        "                  \"cake\", \"chair\", \"sofa\", \"potted plant\", \"bed\", \"dining table\", \"toilet\",\n",
        "                  \"tv monitor\", \"laptop\", \"mouse\", \"remote\", \"keyboard\", \"cell phone\",\n",
        "                  \"microwave\", \"oven\", \"toaster\", \"sink\", \"refrigerator\", \"book\", \"clock\",\n",
        "                  \"vase\", \"scissors\", \"teddy bear\", \"hair drier\", \"toothbrush\"]\n",
        "\n",
        "# Get video properties for output\n",
        "frame_width = int(cap.get(cv2.CAP_PROP_FRAME_WIDTH))\n",
        "frame_height = int(cap.get(cv2.CAP_PROP_FRAME_HEIGHT))\n",
        "fps = cap.get(cv2.CAP_PROP_FPS)\n",
        "\n",
        "# Set up video writer\n",
        "output_video_path = \"processed_video.mp4\"\n",
        "fourcc = cv2.VideoWriter_fourcc(*'mp4v')\n",
        "out = cv2.VideoWriter(output_video_path, fourcc, fps, (frame_width, frame_height))\n",
        "\n",
        "# Prepare for progress tracking\n",
        "total_frames = int(cap.get(cv2.CAP_PROP_FRAME_COUNT))\n",
        "pbar = tqdm(total=total_frames)\n",
        "\n",
        "# Initialize object counters\n",
        "object_count = {name: 0 for name in cocoClassNames}\n",
        "existing_objects = set()\n",
        "\n",
        "# Process video frames\n",
        "while True:\n",
        "    ret, frame = cap.read()\n",
        "    if not ret:\n",
        "        break\n",
        "\n",
        "    results = model.predict(frame, conf=0.10)\n",
        "    xywh_bboxs, confs, oids = [], [], []\n",
        "\n",
        "    for result in results:\n",
        "        boxes = result.boxes\n",
        "        for box in boxes:\n",
        "            x1, y1, x2, y2 = box.xyxy[0].int()\n",
        "            cx, cy = int((x1 + x2) / 2), int((y1 + y2) / 2)\n",
        "            bbox_width, bbox_height = abs(x1 - x2), abs(y1 - y2)\n",
        "            xywh_bboxs.append([cx, cy, bbox_width, bbox_height])\n",
        "            confs.append(math.ceil(box.conf[0] * 100) / 100)\n",
        "            oids.append(int(box.cls[0]))\n",
        "\n",
        "    if xywh_bboxs:\n",
        "        xywhs = torch.tensor(xywh_bboxs)\n",
        "        confidence = torch.tensor(confs)\n",
        "        outputs = deepsort.update(xywhs, confidence, oids, frame)\n",
        "\n",
        "        if outputs is not None and len(outputs) > 0:\n",
        "            bbox_xyxy = outputs[:, :4]\n",
        "            identities = outputs[:, -2]\n",
        "            classID = outputs[:, -1]\n",
        "\n",
        "            for i in range(len(identities)):\n",
        "                identity = int(identities[i])\n",
        "                class_id = int(classID[i])\n",
        "\n",
        "                if identity not in existing_objects:\n",
        "                    existing_objects.add(identity)\n",
        "                    object_count[cocoClassNames[class_id]] += 1\n",
        "\n",
        "            objectTracking.draw_boxes(frame, bbox_xyxy, identities, classID)\n",
        "\n",
        "    # Calculate size of overlay based on text\n",
        "    overlay_height = 50 + 30 * len([name for name, count in object_count.items() if count > 0])\n",
        "    overlay_width = 300  # Set a fixed width for simplicity\n",
        "\n",
        "    overlay = np.zeros((overlay_height, overlay_width, 3), dtype=np.uint8)\n",
        "    overlay[:, :] = (0, 0, 0)  # Black background\n",
        "    alpha = 0.5  # Transparency factor\n",
        "\n",
        "    # Display counts\n",
        "    y_offset = 30\n",
        "    for object_name, count in object_count.items():\n",
        "        if count > 0:\n",
        "            text = f\"{object_name}: {count}\"\n",
        "            cv2.putText(overlay, text, (10, y_offset),\n",
        "                        cv2.FONT_HERSHEY_PLAIN, 1.5, (255, 255, 255), 2)\n",
        "            y_offset += 30\n",
        "\n",
        "    # Position overlay at the top left corner\n",
        "    overlay_x, overlay_y = 10, 10\n",
        "    frame[overlay_y:overlay_y + overlay_height, overlay_x:overlay_x + overlay_width] = \\\n",
        "        cv2.addWeighted(overlay, alpha, frame[overlay_y:overlay_y + overlay_height, overlay_x:overlay_x + overlay_width], 1 - alpha, 0)\n",
        "\n",
        "    out.write(frame)\n",
        "    pbar.update(1)\n",
        "\n",
        "# Release resources\n",
        "cap.release()\n",
        "out.release()\n",
        "pbar.close()\n",
        "\n",
        "\n"
      ]
    },
    {
      "cell_type": "code",
      "execution_count": null,
      "metadata": {
        "colab": {
          "base_uri": "https://localhost:8080/",
          "height": 17
        },
        "id": "qSIs3kuzcFSM",
        "outputId": "17edd802-4538-49c1-84f0-7986f1c7cbc0"
      },
      "outputs": [
        {
          "output_type": "display_data",
          "data": {
            "text/plain": [
              "<IPython.core.display.Javascript object>"
            ],
            "application/javascript": [
              "\n",
              "    async function download(id, filename, size) {\n",
              "      if (!google.colab.kernel.accessAllowed) {\n",
              "        return;\n",
              "      }\n",
              "      const div = document.createElement('div');\n",
              "      const label = document.createElement('label');\n",
              "      label.textContent = `Downloading \"${filename}\": `;\n",
              "      div.appendChild(label);\n",
              "      const progress = document.createElement('progress');\n",
              "      progress.max = size;\n",
              "      div.appendChild(progress);\n",
              "      document.body.appendChild(div);\n",
              "\n",
              "      const buffers = [];\n",
              "      let downloaded = 0;\n",
              "\n",
              "      const channel = await google.colab.kernel.comms.open(id);\n",
              "      // Send a message to notify the kernel that we're ready.\n",
              "      channel.send({})\n",
              "\n",
              "      for await (const message of channel.messages) {\n",
              "        // Send a message to notify the kernel that we're ready.\n",
              "        channel.send({})\n",
              "        if (message.buffers) {\n",
              "          for (const buffer of message.buffers) {\n",
              "            buffers.push(buffer);\n",
              "            downloaded += buffer.byteLength;\n",
              "            progress.value = downloaded;\n",
              "          }\n",
              "        }\n",
              "      }\n",
              "      const blob = new Blob(buffers, {type: 'application/binary'});\n",
              "      const a = document.createElement('a');\n",
              "      a.href = window.URL.createObjectURL(blob);\n",
              "      a.download = filename;\n",
              "      div.appendChild(a);\n",
              "      a.click();\n",
              "      div.remove();\n",
              "    }\n",
              "  "
            ]
          },
          "metadata": {}
        },
        {
          "output_type": "display_data",
          "data": {
            "text/plain": [
              "<IPython.core.display.Javascript object>"
            ],
            "application/javascript": [
              "download(\"download_d33b7637-1dcd-4180-aad5-5d082f5604e2\", \"processed_video.mp4\", 12456728)"
            ]
          },
          "metadata": {}
        }
      ],
      "source": [
        "from google.colab import files\n",
        "files.download(output_video_path)"
      ]
    },
    {
      "cell_type": "code",
      "execution_count": null,
      "metadata": {
        "id": "fBVc5VladKIP"
      },
      "outputs": [],
      "source": []
    }
  ],
  "metadata": {
    "colab": {
      "provenance": []
    },
    "kernelspec": {
      "display_name": "Python 3",
      "name": "python3"
    },
    "language_info": {
      "name": "python"
    }
  },
  "nbformat": 4,
  "nbformat_minor": 0
}